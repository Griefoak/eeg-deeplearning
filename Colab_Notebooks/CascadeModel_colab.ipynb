{
  "nbformat": 4,
  "nbformat_minor": 0,
  "metadata": {
    "colab": {
      "name": "CascadeModel_colab.ipynb",
      "provenance": [],
      "collapsed_sections": [],
      "toc_visible": true
    },
    "kernelspec": {
      "name": "python3",
      "display_name": "Python 3"
    }
  },
  "cells": [
    {
      "cell_type": "code",
      "metadata": {
        "id": "JjtED0rhc44H",
        "colab_type": "code",
        "outputId": "738cda15-43bd-421b-ffd3-1ab3a2651a18",
        "colab": {
          "base_uri": "https://localhost:8080/",
          "height": 51
        }
      },
      "source": [
        "import numpy as np\n",
        "import pandas as pd\n",
        "import scipy as sp\n",
        "import tensorflow as tf\n",
        "import tensorflow.keras as keras\n",
        "import matplotlib.pyplot as plt\n",
        "\n",
        "from tensorflow.keras import optimizers\n",
        "from tensorflow.keras import models\n",
        "from tensorflow.keras import layers\n",
        "from tensorflow.keras import losses\n",
        "from tensorflow.keras import metrics\n",
        "\n",
        "from keras.models import Sequential\n",
        "from keras.layers import Dense\n",
        "from keras.layers import Flatten\n",
        "from keras.layers import Dropout\n",
        "from keras.layers import LSTM\n",
        "from keras.layers import TimeDistributed\n",
        "from keras.layers.convolutional import Conv1D, Conv2D\n",
        "from keras.layers.convolutional import MaxPooling1D\n",
        "from keras.callbacks import ModelCheckpoint, EarlyStopping\n",
        "\n",
        "from keras.utils import to_categorical\n",
        "from sklearn.model_selection import train_test_split\n",
        "from sklearn.utils import shuffle\n",
        "\n",
        "import time\n",
        "import os\n",
        "import sys\n",
        "import pickle\n",
        "\n",
        "# append the path to the file that contains utility functions for organizing the data\n",
        "sys.path.append('/content/drive/My Drive/PythonFiles/')\n",
        "from modelFitUtils import *\n",
        "\n",
        "display(tf.test.gpu_device_name())"
      ],
      "execution_count": 2,
      "outputs": [
        {
          "output_type": "stream",
          "text": [
            "Using TensorFlow backend.\n"
          ],
          "name": "stderr"
        },
        {
          "output_type": "display_data",
          "data": {
            "text/plain": [
              "'/device:GPU:0'"
            ]
          },
          "metadata": {
            "tags": []
          }
        }
      ]
    },
    {
      "cell_type": "code",
      "metadata": {
        "id": "1kIHxVTnc8U0",
        "colab_type": "code",
        "outputId": "5974b26c-6e42-4c35-e52c-8ccaa7ec8c43",
        "colab": {
          "base_uri": "https://localhost:8080/",
          "height": 122
        }
      },
      "source": [
        "from google.colab import drive\n",
        "drive.mount(\"/content/drive\", force_remount=True)"
      ],
      "execution_count": 3,
      "outputs": [
        {
          "output_type": "stream",
          "text": [
            "Go to this URL in a browser: https://accounts.google.com/o/oauth2/auth?client_id=947318989803-6bn6qk8qdgf4n4g3pfee6491hc0brc4i.apps.googleusercontent.com&redirect_uri=urn%3aietf%3awg%3aoauth%3a2.0%3aoob&response_type=code&scope=email%20https%3a%2f%2fwww.googleapis.com%2fauth%2fdocs.test%20https%3a%2f%2fwww.googleapis.com%2fauth%2fdrive%20https%3a%2f%2fwww.googleapis.com%2fauth%2fdrive.photos.readonly%20https%3a%2f%2fwww.googleapis.com%2fauth%2fpeopleapi.readonly\n",
            "\n",
            "Enter your authorization code:\n",
            "··········\n",
            "Mounted at /content/drive\n"
          ],
          "name": "stdout"
        }
      ]
    },
    {
      "cell_type": "markdown",
      "metadata": {
        "id": "2VRjFmT3kwz2",
        "colab_type": "text"
      },
      "source": [
        "# Load data from database and print the dimensions of the data"
      ]
    },
    {
      "cell_type": "code",
      "metadata": {
        "id": "TBM6AZXnc-oK",
        "colab_type": "code",
        "outputId": "ffcd9cf0-5fae-443c-83b3-500baad3c41a",
        "colab": {
          "base_uri": "https://localhost:8080/",
          "height": 119
        }
      },
      "source": [
        "db_dir = \"/content/drive/My Drive/Data\"\n",
        "ME_db_fname = \"mesh_NoArt_ME_db_128.pickle\"\n",
        "\n",
        "t1 = time.time()\n",
        "with open(db_dir + \"/\" + ME_db_fname, \"rb\") as f:\n",
        "    ME_db_2Dmesh = pickle.load(f)\n",
        "print(\"Loaded %s database in %f s\" % (ME_db_fname, time.time()-t1))\n",
        "\n",
        "nClas = len(ME_db_2Dmesh)\n",
        "nTrials = ME_db_2Dmesh[1].shape[0]\n",
        "nFrames = ME_db_2Dmesh[1].shape[1]\n",
        "nX = ME_db_2Dmesh[1].shape[2]\n",
        "nY = ME_db_2Dmesh[1].shape[3]\n",
        "print(\"There are: \\n %.f   Classes, \\n %.f Trials/Class, \\n %.f TimePoints/Trial, \\n %.fx%.f Datashape/TimePoint\" % (nClas, nTrials, nFrames, nX, nY))"
      ],
      "execution_count": 4,
      "outputs": [
        {
          "output_type": "stream",
          "text": [
            "Loaded mesh_NoArt_ME_db_128.pickle database in 12.498536 s\n",
            "There are: \n",
            " 7   Classes, \n",
            " 749 Trials/Class, \n",
            " 257 TimePoints/Trial, \n",
            " 9x9 Datashape/TimePoint\n"
          ],
          "name": "stdout"
        }
      ]
    },
    {
      "cell_type": "markdown",
      "metadata": {
        "id": "YNXMrwoo14Gk",
        "colab_type": "text"
      },
      "source": [
        "# Define folder to save output data files to"
      ]
    },
    {
      "cell_type": "code",
      "metadata": {
        "id": "ugm-fKt813da",
        "colab_type": "code",
        "colab": {}
      },
      "source": [
        "output_dir = \"/content/drive/My Drive/Data/Output060520\"\n",
        "output_dir_Pairwise = \"/content/drive/My Drive/Data/Output060520/PairwiseModels\"\n",
        "os.makedirs(output_dir, exist_ok=True)\n",
        "os.makedirs(output_dir_Pairwise, exist_ok=True)"
      ],
      "execution_count": 0,
      "outputs": []
    },
    {
      "cell_type": "markdown",
      "metadata": {
        "id": "6dld-U4CdKWX",
        "colab_type": "text"
      },
      "source": [
        "# Define Neural Network Parameters"
      ]
    },
    {
      "cell_type": "code",
      "metadata": {
        "id": "fO_bIQQCc-yh",
        "colab_type": "code",
        "colab": {}
      },
      "source": [
        "S = 8    # S = number of images\n",
        "h_states_lstm = 64\n",
        "dropout_rate = 0.5\n",
        "learning_rate = 1e-4\n",
        "nTrial_class = nTrials\n",
        "opt = \"adam\"\n",
        "lossfn = 'categorical_crossentropy'\n",
        "metric = ['acurracy']\n",
        "nEpochs = 50"
      ],
      "execution_count": 0,
      "outputs": []
    },
    {
      "cell_type": "markdown",
      "metadata": {
        "id": "KYwFAIzPdUuy",
        "colab_type": "text"
      },
      "source": [
        "# Define Cascade Model"
      ]
    },
    {
      "cell_type": "code",
      "metadata": {
        "id": "5oFZYJS4dRcD",
        "colab_type": "code",
        "colab": {}
      },
      "source": [
        "def cascadeModel(inputs, nClasses, dropout_rate=0.5, opt=keras.optimizers.Adam(learning_rate=1e-4)):\n",
        "  # define activation and loss functions\n",
        "  if nClasses == 2:\n",
        "    activation = 'sigmoid'\n",
        "    loss = 'binary_crossentropy'\n",
        "    n = 1# no need to do one-hot encoding for binary comparisons\n",
        "  else:\n",
        "    activation = 'softmax'\n",
        "    loss = 'categorical_crossentropy'\n",
        "    n = nClasses\n",
        "  \n",
        "  # define model\n",
        "  model = Sequential()\n",
        "  model.add(TimeDistributed(Conv2D(filters=32, kernel_size=3, padding='same', activation='relu', input_shape=inputs.shape[1:])))\n",
        "  model.add(TimeDistributed(Conv2D(filters=64, kernel_size=3, padding='same', activation='relu')))\n",
        "  model.add(TimeDistributed(Conv2D(filters=128, kernel_size=3, padding='same', activation='relu')))\n",
        "  model.add(TimeDistributed(Flatten()))\n",
        "  model.add(TimeDistributed(Dense(1024, activation='relu')))\n",
        "  model.add(TimeDistributed(Dropout(dropout_rate)))\n",
        "  model.add(LSTM(8, return_sequences=True))\n",
        "  model.add(LSTM(8))\n",
        "  model.add(Dense(64, activation='relu'))\n",
        "  model.add(Dropout(dropout_rate))\n",
        "  model.add(Dense(n, activation=activation))\n",
        "  model.compile(loss=loss, optimizer=opt, metrics=['accuracy'])\n",
        "\n",
        "  return model\n",
        "  "
      ],
      "execution_count": 0,
      "outputs": []
    },
    {
      "cell_type": "markdown",
      "metadata": {
        "id": "bpHlJr_NdZiZ",
        "colab_type": "text"
      },
      "source": [
        "# Run pairwise comparisons"
      ]
    },
    {
      "cell_type": "code",
      "metadata": {
        "id": "MogsahKNdYnZ",
        "colab_type": "code",
        "outputId": "e45891a8-1070-4f95-cdee-932af38a23c7",
        "colab": {
          "base_uri": "https://localhost:8080/",
          "height": 1000
        }
      },
      "source": [
        "# compute the test set accuracy of pairwise comparisons for the upper triangle\n",
        "# nClas*(nClas-1)/2 total binary classifiers\n",
        "#------------------------\n",
        "df2 = pd.read_csv(output_dir+\"/Pairwise_fit.csv\")\n",
        "accuracyPairwise = df2.to_numpy()\n",
        "#------------------------\n",
        "accuracyPairwise = np.zeros((nClas,nClas))\n",
        "#------------------------\n",
        "for c1 in range(1,nClas+1):\n",
        "  for c2 in range(c1+1,nClas+1):\n",
        "    if c1!=c2:\n",
        "      currClass = [c1,c2]\n",
        "      display(currClass)\n",
        "\n",
        "      X_train, X_test, y_train, y_test = setupDataForNetwork(ME_db_2Dmesh, currClass, S, S//2, nTrial_class)\n",
        "\n",
        "      # define model\n",
        "      model = cascadeModel(X_train, nClasses=2, dropout_rate=dropout_rate, opt=keras.optimizers.Adam(learning_rate=learning_rate))\n",
        "\n",
        "      # define early stopping\n",
        "      outputFile = output_dir_Pairwise+\"/CascadeModel_S\"+str(S)+\"_C\"+str(c1)+\"_\"+str(c2)+\"_\"+\"Epochs\"+str(nEpochs)+\".h5\"\n",
        "      checkpoint = ModelCheckpoint(outputFile, monitor='val_accuracy', verbose=1, save_best_only=True, save_weights_only=False, mode='auto', period=1)\n",
        "      early = EarlyStopping(monitor='val_accuracy', min_delta=0, patience=5, verbose=1, mode='auto')\n",
        "      \n",
        "      # fit network\n",
        "      history = model.fit(X_train, y_train-1, epochs=nEpochs, batch_size=64, verbose=1, validation_split=0.2, callbacks=[checkpoint, early])\n",
        "      # evaluate model\n",
        "      _, accuracy = model.evaluate(X_test, y_test-1, batch_size=64, verbose=1)\n",
        "\n",
        "      accuracyPairwise[c1-1,c2-1] = accuracy\n",
        "      \n",
        "      # Save the pairwise comparison reults\n",
        "      df = pd.DataFrame(accuracyPairwise)\n",
        "      df.to_csv(output_dir+\"/Pairwise_fit.csv\", index=False)"
      ],
      "execution_count": 32,
      "outputs": [
        {
          "output_type": "display_data",
          "data": {
            "text/plain": [
              "[1, 2]"
            ]
          },
          "metadata": {
            "tags": []
          }
        },
        {
          "output_type": "stream",
          "text": [
            "Train on 60399 samples, validate on 15100 samples\n",
            "Epoch 1/20\n",
            "60399/60399 [==============================] - 51s 849us/step - loss: 0.6935 - accuracy: 0.5000 - val_loss: 0.6931 - val_accuracy: 0.4981\n",
            "\n",
            "Epoch 00001: val_accuracy improved from -inf to 0.49815, saving model to /content/drive/My Drive/Data/Output060420/PairwiseModels/CascadeModel_S8_C1_2_Epochs20.h5\n",
            "Epoch 2/20\n",
            "  256/60399 [..............................] - ETA: 45s - loss: 0.6931 - accuracy: 0.5234"
          ],
          "name": "stdout"
        },
        {
          "output_type": "stream",
          "text": [
            "/usr/local/lib/python3.6/dist-packages/keras/engine/saving.py:165: UserWarning: TensorFlow optimizers do not make it possible to access optimizer attributes or optimizer state after instantiation. As a result, we cannot save the optimizer as part of the model save file.You will have to compile your model again after loading it. Prefer using a Keras optimizer instead (see keras.io/optimizers).\n",
            "  'TensorFlow optimizers do not '\n"
          ],
          "name": "stderr"
        },
        {
          "output_type": "stream",
          "text": [
            "60399/60399 [==============================] - 50s 832us/step - loss: 0.6931 - accuracy: 0.5074 - val_loss: 0.6918 - val_accuracy: 0.5259\n",
            "\n",
            "Epoch 00002: val_accuracy improved from 0.49815 to 0.52589, saving model to /content/drive/My Drive/Data/Output060420/PairwiseModels/CascadeModel_S8_C1_2_Epochs20.h5\n",
            "Epoch 3/20\n",
            "60399/60399 [==============================] - 51s 846us/step - loss: 0.6837 - accuracy: 0.5550 - val_loss: 0.6695 - val_accuracy: 0.5852\n",
            "\n",
            "Epoch 00003: val_accuracy improved from 0.52589 to 0.58517, saving model to /content/drive/My Drive/Data/Output060420/PairwiseModels/CascadeModel_S8_C1_2_Epochs20.h5\n",
            "Epoch 4/20\n",
            "60399/60399 [==============================] - 52s 855us/step - loss: 0.6366 - accuracy: 0.6370 - val_loss: 0.6083 - val_accuracy: 0.6595\n",
            "\n",
            "Epoch 00004: val_accuracy improved from 0.58517 to 0.65954, saving model to /content/drive/My Drive/Data/Output060420/PairwiseModels/CascadeModel_S8_C1_2_Epochs20.h5\n",
            "Epoch 5/20\n",
            "60399/60399 [==============================] - 52s 869us/step - loss: 0.5356 - accuracy: 0.7304 - val_loss: 0.5216 - val_accuracy: 0.7311\n",
            "\n",
            "Epoch 00005: val_accuracy improved from 0.65954 to 0.73106, saving model to /content/drive/My Drive/Data/Output060420/PairwiseModels/CascadeModel_S8_C1_2_Epochs20.h5\n",
            "Epoch 6/20\n",
            "60399/60399 [==============================] - 52s 860us/step - loss: 0.3996 - accuracy: 0.8233 - val_loss: 0.4236 - val_accuracy: 0.7945\n",
            "\n",
            "Epoch 00006: val_accuracy improved from 0.73106 to 0.79450, saving model to /content/drive/My Drive/Data/Output060420/PairwiseModels/CascadeModel_S8_C1_2_Epochs20.h5\n",
            "Epoch 7/20\n",
            "60399/60399 [==============================] - 51s 848us/step - loss: 0.2625 - accuracy: 0.8942 - val_loss: 0.3854 - val_accuracy: 0.8283\n",
            "\n",
            "Epoch 00007: val_accuracy improved from 0.79450 to 0.82834, saving model to /content/drive/My Drive/Data/Output060420/PairwiseModels/CascadeModel_S8_C1_2_Epochs20.h5\n",
            "Epoch 8/20\n",
            "60399/60399 [==============================] - 51s 838us/step - loss: 0.1649 - accuracy: 0.9386 - val_loss: 0.3512 - val_accuracy: 0.8566\n",
            "\n",
            "Epoch 00008: val_accuracy improved from 0.82834 to 0.85662, saving model to /content/drive/My Drive/Data/Output060420/PairwiseModels/CascadeModel_S8_C1_2_Epochs20.h5\n",
            "Epoch 9/20\n",
            "60399/60399 [==============================] - 50s 825us/step - loss: 0.1089 - accuracy: 0.9612 - val_loss: 0.3551 - val_accuracy: 0.8636\n",
            "\n",
            "Epoch 00009: val_accuracy improved from 0.85662 to 0.86364, saving model to /content/drive/My Drive/Data/Output060420/PairwiseModels/CascadeModel_S8_C1_2_Epochs20.h5\n",
            "Epoch 10/20\n",
            "60399/60399 [==============================] - 51s 850us/step - loss: 0.0811 - accuracy: 0.9721 - val_loss: 0.3771 - val_accuracy: 0.8681\n",
            "\n",
            "Epoch 00010: val_accuracy improved from 0.86364 to 0.86808, saving model to /content/drive/My Drive/Data/Output060420/PairwiseModels/CascadeModel_S8_C1_2_Epochs20.h5\n",
            "Epoch 11/20\n",
            "60399/60399 [==============================] - 51s 851us/step - loss: 0.0612 - accuracy: 0.9792 - val_loss: 0.3629 - val_accuracy: 0.8800\n",
            "\n",
            "Epoch 00011: val_accuracy improved from 0.86808 to 0.88000, saving model to /content/drive/My Drive/Data/Output060420/PairwiseModels/CascadeModel_S8_C1_2_Epochs20.h5\n",
            "Epoch 12/20\n",
            "60399/60399 [==============================] - 51s 844us/step - loss: 0.0556 - accuracy: 0.9805 - val_loss: 0.3651 - val_accuracy: 0.8799\n",
            "\n",
            "Epoch 00012: val_accuracy did not improve from 0.88000\n",
            "Epoch 13/20\n",
            "60399/60399 [==============================] - 50s 830us/step - loss: 0.0462 - accuracy: 0.9842 - val_loss: 0.3814 - val_accuracy: 0.8797\n",
            "\n",
            "Epoch 00013: val_accuracy did not improve from 0.88000\n",
            "Epoch 14/20\n",
            "60399/60399 [==============================] - 51s 837us/step - loss: 0.0410 - accuracy: 0.9863 - val_loss: 0.3344 - val_accuracy: 0.8978\n",
            "\n",
            "Epoch 00014: val_accuracy improved from 0.88000 to 0.89781, saving model to /content/drive/My Drive/Data/Output060420/PairwiseModels/CascadeModel_S8_C1_2_Epochs20.h5\n",
            "Epoch 15/20\n",
            "60399/60399 [==============================] - 53s 870us/step - loss: 0.0381 - accuracy: 0.9871 - val_loss: 0.3870 - val_accuracy: 0.8870\n",
            "\n",
            "Epoch 00015: val_accuracy did not improve from 0.89781\n",
            "Epoch 16/20\n",
            "60399/60399 [==============================] - 51s 837us/step - loss: 0.0384 - accuracy: 0.9871 - val_loss: 0.3942 - val_accuracy: 0.8875\n",
            "\n",
            "Epoch 00016: val_accuracy did not improve from 0.89781\n",
            "Epoch 17/20\n",
            "60399/60399 [==============================] - 50s 833us/step - loss: 0.0309 - accuracy: 0.9896 - val_loss: 0.3836 - val_accuracy: 0.8915\n",
            "\n",
            "Epoch 00017: val_accuracy did not improve from 0.89781\n",
            "Epoch 18/20\n",
            "60399/60399 [==============================] - 51s 849us/step - loss: 0.0300 - accuracy: 0.9902 - val_loss: 0.3893 - val_accuracy: 0.8916\n",
            "\n",
            "Epoch 00018: val_accuracy did not improve from 0.89781\n",
            "Epoch 19/20\n",
            "60399/60399 [==============================] - 50s 833us/step - loss: 0.0275 - accuracy: 0.9908 - val_loss: 0.3825 - val_accuracy: 0.8945\n",
            "\n",
            "Epoch 00019: val_accuracy did not improve from 0.89781\n",
            "Epoch 00019: early stopping\n",
            "18875/18875 [==============================] - 3s 146us/step\n"
          ],
          "name": "stdout"
        },
        {
          "output_type": "display_data",
          "data": {
            "text/plain": [
              "[1, 3]"
            ]
          },
          "metadata": {
            "tags": []
          }
        },
        {
          "output_type": "stream",
          "text": [
            "Train on 60399 samples, validate on 15100 samples\n",
            "Epoch 1/20\n",
            "60399/60399 [==============================] - 51s 847us/step - loss: 0.6910 - accuracy: 0.5221 - val_loss: 0.6839 - val_accuracy: 0.5563\n",
            "\n",
            "Epoch 00001: val_accuracy improved from -inf to 0.55629, saving model to /content/drive/My Drive/Data/Output060420/PairwiseModels/CascadeModel_S8_C1_3_Epochs20.h5\n",
            "Epoch 2/20\n",
            "60399/60399 [==============================] - 51s 842us/step - loss: 0.6668 - accuracy: 0.5894 - val_loss: 0.6459 - val_accuracy: 0.6203\n",
            "\n",
            "Epoch 00002: val_accuracy improved from 0.55629 to 0.62026, saving model to /content/drive/My Drive/Data/Output060420/PairwiseModels/CascadeModel_S8_C1_3_Epochs20.h5\n",
            "Epoch 3/20\n",
            "60399/60399 [==============================] - 51s 842us/step - loss: 0.5977 - accuracy: 0.6770 - val_loss: 0.5719 - val_accuracy: 0.6905\n",
            "\n",
            "Epoch 00003: val_accuracy improved from 0.62026 to 0.69046, saving model to /content/drive/My Drive/Data/Output060420/PairwiseModels/CascadeModel_S8_C1_3_Epochs20.h5\n",
            "Epoch 4/20\n",
            "60399/60399 [==============================] - 51s 841us/step - loss: 0.4914 - accuracy: 0.7656 - val_loss: 0.4892 - val_accuracy: 0.7550\n",
            "\n",
            "Epoch 00004: val_accuracy improved from 0.69046 to 0.75503, saving model to /content/drive/My Drive/Data/Output060420/PairwiseModels/CascadeModel_S8_C1_3_Epochs20.h5\n",
            "Epoch 5/20\n",
            "60399/60399 [==============================] - 52s 854us/step - loss: 0.3623 - accuracy: 0.8459 - val_loss: 0.4278 - val_accuracy: 0.8021\n",
            "\n",
            "Epoch 00005: val_accuracy improved from 0.75503 to 0.80205, saving model to /content/drive/My Drive/Data/Output060420/PairwiseModels/CascadeModel_S8_C1_3_Epochs20.h5\n",
            "Epoch 6/20\n",
            "60399/60399 [==============================] - 51s 840us/step - loss: 0.2466 - accuracy: 0.9039 - val_loss: 0.4032 - val_accuracy: 0.8226\n",
            "\n",
            "Epoch 00006: val_accuracy improved from 0.80205 to 0.82258, saving model to /content/drive/My Drive/Data/Output060420/PairwiseModels/CascadeModel_S8_C1_3_Epochs20.h5\n",
            "Epoch 7/20\n",
            "60399/60399 [==============================] - 52s 859us/step - loss: 0.1627 - accuracy: 0.9414 - val_loss: 0.3838 - val_accuracy: 0.8454\n",
            "\n",
            "Epoch 00007: val_accuracy improved from 0.82258 to 0.84543, saving model to /content/drive/My Drive/Data/Output060420/PairwiseModels/CascadeModel_S8_C1_3_Epochs20.h5\n",
            "Epoch 8/20\n",
            "60399/60399 [==============================] - 51s 841us/step - loss: 0.1165 - accuracy: 0.9589 - val_loss: 0.3743 - val_accuracy: 0.8609\n",
            "\n",
            "Epoch 00008: val_accuracy improved from 0.84543 to 0.86093, saving model to /content/drive/My Drive/Data/Output060420/PairwiseModels/CascadeModel_S8_C1_3_Epochs20.h5\n",
            "Epoch 9/20\n",
            "60399/60399 [==============================] - 52s 854us/step - loss: 0.0873 - accuracy: 0.9701 - val_loss: 0.3626 - val_accuracy: 0.8709\n",
            "\n",
            "Epoch 00009: val_accuracy improved from 0.86093 to 0.87093, saving model to /content/drive/My Drive/Data/Output060420/PairwiseModels/CascadeModel_S8_C1_3_Epochs20.h5\n",
            "Epoch 10/20\n",
            "60399/60399 [==============================] - 51s 840us/step - loss: 0.0685 - accuracy: 0.9758 - val_loss: 0.4599 - val_accuracy: 0.8554\n",
            "\n",
            "Epoch 00010: val_accuracy did not improve from 0.87093\n",
            "Epoch 11/20\n",
            "60399/60399 [==============================] - 51s 842us/step - loss: 0.0630 - accuracy: 0.9782 - val_loss: 0.3963 - val_accuracy: 0.8709\n",
            "\n",
            "Epoch 00011: val_accuracy did not improve from 0.87093\n",
            "Epoch 12/20\n",
            "60399/60399 [==============================] - 51s 851us/step - loss: 0.0540 - accuracy: 0.9815 - val_loss: 0.3757 - val_accuracy: 0.8796\n",
            "\n",
            "Epoch 00012: val_accuracy improved from 0.87093 to 0.87960, saving model to /content/drive/My Drive/Data/Output060420/PairwiseModels/CascadeModel_S8_C1_3_Epochs20.h5\n",
            "Epoch 13/20\n",
            "60399/60399 [==============================] - 51s 843us/step - loss: 0.0475 - accuracy: 0.9845 - val_loss: 0.3885 - val_accuracy: 0.8801\n",
            "\n",
            "Epoch 00013: val_accuracy improved from 0.87960 to 0.88007, saving model to /content/drive/My Drive/Data/Output060420/PairwiseModels/CascadeModel_S8_C1_3_Epochs20.h5\n",
            "Epoch 14/20\n",
            "60399/60399 [==============================] - 51s 848us/step - loss: 0.0441 - accuracy: 0.9852 - val_loss: 0.3700 - val_accuracy: 0.8889\n",
            "\n",
            "Epoch 00014: val_accuracy improved from 0.88007 to 0.88894, saving model to /content/drive/My Drive/Data/Output060420/PairwiseModels/CascadeModel_S8_C1_3_Epochs20.h5\n",
            "Epoch 15/20\n",
            "60399/60399 [==============================] - 51s 849us/step - loss: 0.0388 - accuracy: 0.9872 - val_loss: 0.4173 - val_accuracy: 0.8832\n",
            "\n",
            "Epoch 00015: val_accuracy did not improve from 0.88894\n",
            "Epoch 16/20\n",
            "60399/60399 [==============================] - 50s 827us/step - loss: 0.0372 - accuracy: 0.9879 - val_loss: 0.4433 - val_accuracy: 0.8791\n",
            "\n",
            "Epoch 00016: val_accuracy did not improve from 0.88894\n",
            "Epoch 17/20\n",
            "60399/60399 [==============================] - 51s 840us/step - loss: 0.0361 - accuracy: 0.9885 - val_loss: 0.3740 - val_accuracy: 0.8956\n",
            "\n",
            "Epoch 00017: val_accuracy improved from 0.88894 to 0.89556, saving model to /content/drive/My Drive/Data/Output060420/PairwiseModels/CascadeModel_S8_C1_3_Epochs20.h5\n",
            "Epoch 18/20\n",
            "60399/60399 [==============================] - 50s 836us/step - loss: 0.0312 - accuracy: 0.9893 - val_loss: 0.3899 - val_accuracy: 0.8950\n",
            "\n",
            "Epoch 00018: val_accuracy did not improve from 0.89556\n",
            "Epoch 19/20\n",
            "60399/60399 [==============================] - 51s 846us/step - loss: 0.0305 - accuracy: 0.9901 - val_loss: 0.3683 - val_accuracy: 0.8946\n",
            "\n",
            "Epoch 00019: val_accuracy did not improve from 0.89556\n",
            "Epoch 20/20\n",
            "60399/60399 [==============================] - 52s 859us/step - loss: 0.0303 - accuracy: 0.9898 - val_loss: 0.3838 - val_accuracy: 0.8961\n",
            "\n",
            "Epoch 00020: val_accuracy improved from 0.89556 to 0.89609, saving model to /content/drive/My Drive/Data/Output060420/PairwiseModels/CascadeModel_S8_C1_3_Epochs20.h5\n",
            "18875/18875 [==============================] - 3s 146us/step\n"
          ],
          "name": "stdout"
        },
        {
          "output_type": "display_data",
          "data": {
            "text/plain": [
              "[1, 4]"
            ]
          },
          "metadata": {
            "tags": []
          }
        },
        {
          "output_type": "stream",
          "text": [
            "Train on 60399 samples, validate on 15100 samples\n",
            "Epoch 1/20\n",
            "60399/60399 [==============================] - 51s 852us/step - loss: 0.6904 - accuracy: 0.5270 - val_loss: 0.6822 - val_accuracy: 0.5654\n",
            "\n",
            "Epoch 00001: val_accuracy improved from -inf to 0.56536, saving model to /content/drive/My Drive/Data/Output060420/PairwiseModels/CascadeModel_S8_C1_4_Epochs20.h5\n",
            "Epoch 2/20\n",
            "60399/60399 [==============================] - 51s 837us/step - loss: 0.6626 - accuracy: 0.6006 - val_loss: 0.6276 - val_accuracy: 0.6417\n",
            "\n",
            "Epoch 00002: val_accuracy improved from 0.56536 to 0.64172, saving model to /content/drive/My Drive/Data/Output060420/PairwiseModels/CascadeModel_S8_C1_4_Epochs20.h5\n",
            "Epoch 3/20\n",
            "60399/60399 [==============================] - 51s 843us/step - loss: 0.5896 - accuracy: 0.6801 - val_loss: 0.5584 - val_accuracy: 0.7013\n",
            "\n",
            "Epoch 00003: val_accuracy improved from 0.64172 to 0.70132, saving model to /content/drive/My Drive/Data/Output060420/PairwiseModels/CascadeModel_S8_C1_4_Epochs20.h5\n",
            "Epoch 4/20\n",
            "60399/60399 [==============================] - 51s 842us/step - loss: 0.4935 - accuracy: 0.7573 - val_loss: 0.4984 - val_accuracy: 0.7474\n",
            "\n",
            "Epoch 00004: val_accuracy improved from 0.70132 to 0.74742, saving model to /content/drive/My Drive/Data/Output060420/PairwiseModels/CascadeModel_S8_C1_4_Epochs20.h5\n",
            "Epoch 5/20\n",
            "60399/60399 [==============================] - 50s 825us/step - loss: 0.3784 - accuracy: 0.8313 - val_loss: 0.4374 - val_accuracy: 0.7882\n",
            "\n",
            "Epoch 00005: val_accuracy improved from 0.74742 to 0.78821, saving model to /content/drive/My Drive/Data/Output060420/PairwiseModels/CascadeModel_S8_C1_4_Epochs20.h5\n",
            "Epoch 6/20\n",
            "60399/60399 [==============================] - 50s 821us/step - loss: 0.2693 - accuracy: 0.8899 - val_loss: 0.3862 - val_accuracy: 0.8315\n",
            "\n",
            "Epoch 00006: val_accuracy improved from 0.78821 to 0.83152, saving model to /content/drive/My Drive/Data/Output060420/PairwiseModels/CascadeModel_S8_C1_4_Epochs20.h5\n",
            "Epoch 7/20\n",
            "60399/60399 [==============================] - 50s 835us/step - loss: 0.1798 - accuracy: 0.9320 - val_loss: 0.3942 - val_accuracy: 0.8419\n",
            "\n",
            "Epoch 00007: val_accuracy improved from 0.83152 to 0.84192, saving model to /content/drive/My Drive/Data/Output060420/PairwiseModels/CascadeModel_S8_C1_4_Epochs20.h5\n",
            "Epoch 8/20\n",
            "60399/60399 [==============================] - 50s 830us/step - loss: 0.1271 - accuracy: 0.9535 - val_loss: 0.3690 - val_accuracy: 0.8579\n",
            "\n",
            "Epoch 00008: val_accuracy improved from 0.84192 to 0.85788, saving model to /content/drive/My Drive/Data/Output060420/PairwiseModels/CascadeModel_S8_C1_4_Epochs20.h5\n",
            "Epoch 9/20\n",
            "60399/60399 [==============================] - 51s 845us/step - loss: 0.0929 - accuracy: 0.9672 - val_loss: 0.3901 - val_accuracy: 0.8662\n",
            "\n",
            "Epoch 00009: val_accuracy improved from 0.85788 to 0.86616, saving model to /content/drive/My Drive/Data/Output060420/PairwiseModels/CascadeModel_S8_C1_4_Epochs20.h5\n",
            "Epoch 10/20\n",
            "60399/60399 [==============================] - 50s 827us/step - loss: 0.0745 - accuracy: 0.9743 - val_loss: 0.3869 - val_accuracy: 0.8692\n",
            "\n",
            "Epoch 00010: val_accuracy improved from 0.86616 to 0.86921, saving model to /content/drive/My Drive/Data/Output060420/PairwiseModels/CascadeModel_S8_C1_4_Epochs20.h5\n",
            "Epoch 11/20\n",
            "60399/60399 [==============================] - 50s 836us/step - loss: 0.0604 - accuracy: 0.9800 - val_loss: 0.3768 - val_accuracy: 0.8751\n",
            "\n",
            "Epoch 00011: val_accuracy improved from 0.86921 to 0.87510, saving model to /content/drive/My Drive/Data/Output060420/PairwiseModels/CascadeModel_S8_C1_4_Epochs20.h5\n",
            "Epoch 12/20\n",
            "60399/60399 [==============================] - 50s 826us/step - loss: 0.0520 - accuracy: 0.9826 - val_loss: 0.3836 - val_accuracy: 0.8764\n",
            "\n",
            "Epoch 00012: val_accuracy improved from 0.87510 to 0.87636, saving model to /content/drive/My Drive/Data/Output060420/PairwiseModels/CascadeModel_S8_C1_4_Epochs20.h5\n",
            "Epoch 13/20\n",
            "60399/60399 [==============================] - 50s 832us/step - loss: 0.0473 - accuracy: 0.9842 - val_loss: 0.3511 - val_accuracy: 0.8867\n",
            "\n",
            "Epoch 00013: val_accuracy improved from 0.87636 to 0.88669, saving model to /content/drive/My Drive/Data/Output060420/PairwiseModels/CascadeModel_S8_C1_4_Epochs20.h5\n",
            "Epoch 14/20\n",
            "60399/60399 [==============================] - 51s 839us/step - loss: 0.0442 - accuracy: 0.9856 - val_loss: 0.3660 - val_accuracy: 0.8893\n",
            "\n",
            "Epoch 00014: val_accuracy improved from 0.88669 to 0.88934, saving model to /content/drive/My Drive/Data/Output060420/PairwiseModels/CascadeModel_S8_C1_4_Epochs20.h5\n",
            "Epoch 15/20\n",
            "60399/60399 [==============================] - 51s 838us/step - loss: 0.0409 - accuracy: 0.9865 - val_loss: 0.4093 - val_accuracy: 0.8793\n",
            "\n",
            "Epoch 00015: val_accuracy did not improve from 0.88934\n",
            "Epoch 16/20\n",
            "60399/60399 [==============================] - 50s 834us/step - loss: 0.0362 - accuracy: 0.9879 - val_loss: 0.4058 - val_accuracy: 0.8841\n",
            "\n",
            "Epoch 00016: val_accuracy did not improve from 0.88934\n",
            "Epoch 17/20\n",
            "60399/60399 [==============================] - 49s 812us/step - loss: 0.0383 - accuracy: 0.9869 - val_loss: 0.3534 - val_accuracy: 0.8956\n",
            "\n",
            "Epoch 00017: val_accuracy improved from 0.88934 to 0.89563, saving model to /content/drive/My Drive/Data/Output060420/PairwiseModels/CascadeModel_S8_C1_4_Epochs20.h5\n",
            "Epoch 18/20\n",
            "60399/60399 [==============================] - 50s 832us/step - loss: 0.0289 - accuracy: 0.9904 - val_loss: 0.3902 - val_accuracy: 0.8897\n",
            "\n",
            "Epoch 00018: val_accuracy did not improve from 0.89563\n",
            "Epoch 19/20\n",
            "60399/60399 [==============================] - 50s 824us/step - loss: 0.0302 - accuracy: 0.9901 - val_loss: 0.4173 - val_accuracy: 0.8846\n",
            "\n",
            "Epoch 00019: val_accuracy did not improve from 0.89563\n",
            "Epoch 20/20\n",
            "60399/60399 [==============================] - 49s 819us/step - loss: 0.0290 - accuracy: 0.9908 - val_loss: 0.3725 - val_accuracy: 0.8940\n",
            "\n",
            "Epoch 00020: val_accuracy did not improve from 0.89563\n",
            "18875/18875 [==============================] - 3s 141us/step\n"
          ],
          "name": "stdout"
        },
        {
          "output_type": "display_data",
          "data": {
            "text/plain": [
              "[1, 5]"
            ]
          },
          "metadata": {
            "tags": []
          }
        },
        {
          "output_type": "stream",
          "text": [
            "Train on 60399 samples, validate on 15100 samples\n",
            "Epoch 1/20\n",
            "60399/60399 [==============================] - 51s 848us/step - loss: 0.6804 - accuracy: 0.5502 - val_loss: 0.6525 - val_accuracy: 0.6079\n",
            "\n",
            "Epoch 00001: val_accuracy improved from -inf to 0.60788, saving model to /content/drive/My Drive/Data/Output060420/PairwiseModels/CascadeModel_S8_C1_5_Epochs20.h5\n",
            "Epoch 2/20\n",
            "60399/60399 [==============================] - 51s 845us/step - loss: 0.6279 - accuracy: 0.6371 - val_loss: 0.5948 - val_accuracy: 0.6650\n",
            "\n",
            "Epoch 00002: val_accuracy improved from 0.60788 to 0.66503, saving model to /content/drive/My Drive/Data/Output060420/PairwiseModels/CascadeModel_S8_C1_5_Epochs20.h5\n",
            "Epoch 3/20\n",
            "60399/60399 [==============================] - 51s 836us/step - loss: 0.5523 - accuracy: 0.7123 - val_loss: 0.5326 - val_accuracy: 0.7242\n",
            "\n",
            "Epoch 00003: val_accuracy improved from 0.66503 to 0.72417, saving model to /content/drive/My Drive/Data/Output060420/PairwiseModels/CascadeModel_S8_C1_5_Epochs20.h5\n",
            "Epoch 4/20\n",
            "60399/60399 [==============================] - 50s 826us/step - loss: 0.4514 - accuracy: 0.7862 - val_loss: 0.4545 - val_accuracy: 0.7777\n",
            "\n",
            "Epoch 00004: val_accuracy improved from 0.72417 to 0.77768, saving model to /content/drive/My Drive/Data/Output060420/PairwiseModels/CascadeModel_S8_C1_5_Epochs20.h5\n",
            "Epoch 5/20\n",
            "60399/60399 [==============================] - 51s 843us/step - loss: 0.3346 - accuracy: 0.8561 - val_loss: 0.3732 - val_accuracy: 0.8300\n",
            "\n",
            "Epoch 00005: val_accuracy improved from 0.77768 to 0.83000, saving model to /content/drive/My Drive/Data/Output060420/PairwiseModels/CascadeModel_S8_C1_5_Epochs20.h5\n",
            "Epoch 6/20\n",
            "60399/60399 [==============================] - 51s 841us/step - loss: 0.2261 - accuracy: 0.9120 - val_loss: 0.3384 - val_accuracy: 0.8570\n",
            "\n",
            "Epoch 00006: val_accuracy improved from 0.83000 to 0.85695, saving model to /content/drive/My Drive/Data/Output060420/PairwiseModels/CascadeModel_S8_C1_5_Epochs20.h5\n",
            "Epoch 7/20\n",
            "60399/60399 [==============================] - 51s 845us/step - loss: 0.1472 - accuracy: 0.9462 - val_loss: 0.3209 - val_accuracy: 0.8699\n",
            "\n",
            "Epoch 00007: val_accuracy improved from 0.85695 to 0.86993, saving model to /content/drive/My Drive/Data/Output060420/PairwiseModels/CascadeModel_S8_C1_5_Epochs20.h5\n",
            "Epoch 8/20\n",
            "60399/60399 [==============================] - 50s 834us/step - loss: 0.1025 - accuracy: 0.9637 - val_loss: 0.3245 - val_accuracy: 0.8790\n",
            "\n",
            "Epoch 00008: val_accuracy improved from 0.86993 to 0.87901, saving model to /content/drive/My Drive/Data/Output060420/PairwiseModels/CascadeModel_S8_C1_5_Epochs20.h5\n",
            "Epoch 9/20\n",
            "60399/60399 [==============================] - 49s 817us/step - loss: 0.0799 - accuracy: 0.9719 - val_loss: 0.3042 - val_accuracy: 0.8925\n",
            "\n",
            "Epoch 00009: val_accuracy improved from 0.87901 to 0.89252, saving model to /content/drive/My Drive/Data/Output060420/PairwiseModels/CascadeModel_S8_C1_5_Epochs20.h5\n",
            "Epoch 10/20\n",
            "60399/60399 [==============================] - 50s 831us/step - loss: 0.0599 - accuracy: 0.9784 - val_loss: 0.3536 - val_accuracy: 0.8852\n",
            "\n",
            "Epoch 00010: val_accuracy did not improve from 0.89252\n",
            "Epoch 11/20\n",
            "60399/60399 [==============================] - 50s 826us/step - loss: 0.0551 - accuracy: 0.9810 - val_loss: 0.3100 - val_accuracy: 0.8963\n",
            "\n",
            "Epoch 00011: val_accuracy improved from 0.89252 to 0.89629, saving model to /content/drive/My Drive/Data/Output060420/PairwiseModels/CascadeModel_S8_C1_5_Epochs20.h5\n",
            "Epoch 12/20\n",
            "60399/60399 [==============================] - 50s 828us/step - loss: 0.0461 - accuracy: 0.9839 - val_loss: 0.3430 - val_accuracy: 0.8930\n",
            "\n",
            "Epoch 00012: val_accuracy did not improve from 0.89629\n",
            "Epoch 13/20\n",
            "60399/60399 [==============================] - 50s 827us/step - loss: 0.0389 - accuracy: 0.9869 - val_loss: 0.3479 - val_accuracy: 0.8992\n",
            "\n",
            "Epoch 00013: val_accuracy improved from 0.89629 to 0.89921, saving model to /content/drive/My Drive/Data/Output060420/PairwiseModels/CascadeModel_S8_C1_5_Epochs20.h5\n",
            "Epoch 14/20\n",
            "60399/60399 [==============================] - 50s 821us/step - loss: 0.0398 - accuracy: 0.9868 - val_loss: 0.3363 - val_accuracy: 0.9023\n",
            "\n",
            "Epoch 00014: val_accuracy improved from 0.89921 to 0.90232, saving model to /content/drive/My Drive/Data/Output060420/PairwiseModels/CascadeModel_S8_C1_5_Epochs20.h5\n",
            "Epoch 15/20\n",
            "60399/60399 [==============================] - 51s 840us/step - loss: 0.0350 - accuracy: 0.9880 - val_loss: 0.3473 - val_accuracy: 0.9026\n",
            "\n",
            "Epoch 00015: val_accuracy improved from 0.90232 to 0.90258, saving model to /content/drive/My Drive/Data/Output060420/PairwiseModels/CascadeModel_S8_C1_5_Epochs20.h5\n",
            "Epoch 16/20\n",
            "60399/60399 [==============================] - 50s 832us/step - loss: 0.0322 - accuracy: 0.9901 - val_loss: 0.3234 - val_accuracy: 0.9066\n",
            "\n",
            "Epoch 00016: val_accuracy improved from 0.90258 to 0.90656, saving model to /content/drive/My Drive/Data/Output060420/PairwiseModels/CascadeModel_S8_C1_5_Epochs20.h5\n",
            "Epoch 17/20\n",
            "60399/60399 [==============================] - 50s 835us/step - loss: 0.0318 - accuracy: 0.9898 - val_loss: 0.3103 - val_accuracy: 0.9092\n",
            "\n",
            "Epoch 00017: val_accuracy improved from 0.90656 to 0.90921, saving model to /content/drive/My Drive/Data/Output060420/PairwiseModels/CascadeModel_S8_C1_5_Epochs20.h5\n",
            "Epoch 18/20\n",
            "60399/60399 [==============================] - 49s 813us/step - loss: 0.0275 - accuracy: 0.9907 - val_loss: 0.3467 - val_accuracy: 0.9049\n",
            "\n",
            "Epoch 00018: val_accuracy did not improve from 0.90921\n",
            "Epoch 19/20\n",
            "60399/60399 [==============================] - 50s 820us/step - loss: 0.0257 - accuracy: 0.9909 - val_loss: 0.3454 - val_accuracy: 0.9073\n",
            "\n",
            "Epoch 00019: val_accuracy did not improve from 0.90921\n",
            "Epoch 20/20\n",
            "60399/60399 [==============================] - 51s 837us/step - loss: 0.0271 - accuracy: 0.9913 - val_loss: 0.3474 - val_accuracy: 0.9025\n",
            "\n",
            "Epoch 00020: val_accuracy did not improve from 0.90921\n",
            "18875/18875 [==============================] - 3s 141us/step\n"
          ],
          "name": "stdout"
        },
        {
          "output_type": "display_data",
          "data": {
            "text/plain": [
              "[1, 6]"
            ]
          },
          "metadata": {
            "tags": []
          }
        },
        {
          "output_type": "stream",
          "text": [
            "Train on 60399 samples, validate on 15100 samples\n",
            "Epoch 1/20\n",
            "60399/60399 [==============================] - 50s 832us/step - loss: 0.6744 - accuracy: 0.5665 - val_loss: 0.6279 - val_accuracy: 0.6304\n",
            "\n",
            "Epoch 00001: val_accuracy improved from -inf to 0.63040, saving model to /content/drive/My Drive/Data/Output060420/PairwiseModels/CascadeModel_S8_C1_6_Epochs20.h5\n",
            "Epoch 2/20\n",
            "60399/60399 [==============================] - 50s 831us/step - loss: 0.5896 - accuracy: 0.6698 - val_loss: 0.5371 - val_accuracy: 0.7101\n",
            "\n",
            "Epoch 00002: val_accuracy improved from 0.63040 to 0.71013, saving model to /content/drive/My Drive/Data/Output060420/PairwiseModels/CascadeModel_S8_C1_6_Epochs20.h5\n",
            "Epoch 3/20\n",
            "60399/60399 [==============================] - 51s 837us/step - loss: 0.4900 - accuracy: 0.7532 - val_loss: 0.4618 - val_accuracy: 0.7644\n",
            "\n",
            "Epoch 00003: val_accuracy improved from 0.71013 to 0.76437, saving model to /content/drive/My Drive/Data/Output060420/PairwiseModels/CascadeModel_S8_C1_6_Epochs20.h5\n",
            "Epoch 4/20\n",
            "60399/60399 [==============================] - 50s 833us/step - loss: 0.3723 - accuracy: 0.8335 - val_loss: 0.4035 - val_accuracy: 0.8054\n",
            "\n",
            "Epoch 00004: val_accuracy improved from 0.76437 to 0.80543, saving model to /content/drive/My Drive/Data/Output060420/PairwiseModels/CascadeModel_S8_C1_6_Epochs20.h5\n",
            "Epoch 5/20\n",
            "60399/60399 [==============================] - 50s 822us/step - loss: 0.2582 - accuracy: 0.8956 - val_loss: 0.3538 - val_accuracy: 0.8427\n",
            "\n",
            "Epoch 00005: val_accuracy improved from 0.80543 to 0.84272, saving model to /content/drive/My Drive/Data/Output060420/PairwiseModels/CascadeModel_S8_C1_6_Epochs20.h5\n",
            "Epoch 6/20\n",
            "60399/60399 [==============================] - 50s 825us/step - loss: 0.1715 - accuracy: 0.9356 - val_loss: 0.3166 - val_accuracy: 0.8688\n",
            "\n",
            "Epoch 00006: val_accuracy improved from 0.84272 to 0.86881, saving model to /content/drive/My Drive/Data/Output060420/PairwiseModels/CascadeModel_S8_C1_6_Epochs20.h5\n",
            "Epoch 7/20\n",
            "60399/60399 [==============================] - 50s 829us/step - loss: 0.1174 - accuracy: 0.9590 - val_loss: 0.3161 - val_accuracy: 0.8786\n",
            "\n",
            "Epoch 00007: val_accuracy improved from 0.86881 to 0.87861, saving model to /content/drive/My Drive/Data/Output060420/PairwiseModels/CascadeModel_S8_C1_6_Epochs20.h5\n",
            "Epoch 8/20\n",
            "60399/60399 [==============================] - 50s 821us/step - loss: 0.0863 - accuracy: 0.9714 - val_loss: 0.3444 - val_accuracy: 0.8797\n",
            "\n",
            "Epoch 00008: val_accuracy improved from 0.87861 to 0.87967, saving model to /content/drive/My Drive/Data/Output060420/PairwiseModels/CascadeModel_S8_C1_6_Epochs20.h5\n",
            "Epoch 9/20\n",
            "60399/60399 [==============================] - 51s 837us/step - loss: 0.0725 - accuracy: 0.9757 - val_loss: 0.3314 - val_accuracy: 0.8879\n",
            "\n",
            "Epoch 00009: val_accuracy improved from 0.87967 to 0.88795, saving model to /content/drive/My Drive/Data/Output060420/PairwiseModels/CascadeModel_S8_C1_6_Epochs20.h5\n",
            "Epoch 10/20\n",
            "60399/60399 [==============================] - 51s 851us/step - loss: 0.0567 - accuracy: 0.9816 - val_loss: 0.3354 - val_accuracy: 0.8894\n",
            "\n",
            "Epoch 00010: val_accuracy improved from 0.88795 to 0.88940, saving model to /content/drive/My Drive/Data/Output060420/PairwiseModels/CascadeModel_S8_C1_6_Epochs20.h5\n",
            "Epoch 11/20\n",
            "60399/60399 [==============================] - 50s 832us/step - loss: 0.0482 - accuracy: 0.9840 - val_loss: 0.3301 - val_accuracy: 0.8945\n",
            "\n",
            "Epoch 00011: val_accuracy improved from 0.88940 to 0.89450, saving model to /content/drive/My Drive/Data/Output060420/PairwiseModels/CascadeModel_S8_C1_6_Epochs20.h5\n",
            "Epoch 12/20\n",
            "60399/60399 [==============================] - 51s 841us/step - loss: 0.0459 - accuracy: 0.9857 - val_loss: 0.3319 - val_accuracy: 0.8955\n",
            "\n",
            "Epoch 00012: val_accuracy improved from 0.89450 to 0.89550, saving model to /content/drive/My Drive/Data/Output060420/PairwiseModels/CascadeModel_S8_C1_6_Epochs20.h5\n",
            "Epoch 13/20\n",
            "60399/60399 [==============================] - 51s 847us/step - loss: 0.0393 - accuracy: 0.9872 - val_loss: 0.3169 - val_accuracy: 0.9009\n",
            "\n",
            "Epoch 00013: val_accuracy improved from 0.89550 to 0.90093, saving model to /content/drive/My Drive/Data/Output060420/PairwiseModels/CascadeModel_S8_C1_6_Epochs20.h5\n",
            "Epoch 14/20\n",
            "60399/60399 [==============================] - 51s 843us/step - loss: 0.0391 - accuracy: 0.9869 - val_loss: 0.3217 - val_accuracy: 0.9037\n",
            "\n",
            "Epoch 00014: val_accuracy improved from 0.90093 to 0.90371, saving model to /content/drive/My Drive/Data/Output060420/PairwiseModels/CascadeModel_S8_C1_6_Epochs20.h5\n",
            "Epoch 15/20\n",
            "60399/60399 [==============================] - 51s 845us/step - loss: 0.0323 - accuracy: 0.9897 - val_loss: 0.3496 - val_accuracy: 0.9014\n",
            "\n",
            "Epoch 00015: val_accuracy did not improve from 0.90371\n",
            "Epoch 16/20\n",
            "60399/60399 [==============================] - 51s 844us/step - loss: 0.0329 - accuracy: 0.9892 - val_loss: 0.3208 - val_accuracy: 0.9031\n",
            "\n",
            "Epoch 00016: val_accuracy did not improve from 0.90371\n",
            "Epoch 17/20\n",
            "60399/60399 [==============================] - 50s 833us/step - loss: 0.0326 - accuracy: 0.9898 - val_loss: 0.3193 - val_accuracy: 0.9070\n",
            "\n",
            "Epoch 00017: val_accuracy improved from 0.90371 to 0.90702, saving model to /content/drive/My Drive/Data/Output060420/PairwiseModels/CascadeModel_S8_C1_6_Epochs20.h5\n",
            "Epoch 18/20\n",
            "60399/60399 [==============================] - 51s 846us/step - loss: 0.0273 - accuracy: 0.9913 - val_loss: 0.3053 - val_accuracy: 0.9156\n",
            "\n",
            "Epoch 00018: val_accuracy improved from 0.90702 to 0.91556, saving model to /content/drive/My Drive/Data/Output060420/PairwiseModels/CascadeModel_S8_C1_6_Epochs20.h5\n",
            "Epoch 19/20\n",
            "60399/60399 [==============================] - 50s 827us/step - loss: 0.0251 - accuracy: 0.9918 - val_loss: 0.3186 - val_accuracy: 0.9104\n",
            "\n",
            "Epoch 00019: val_accuracy did not improve from 0.91556\n",
            "Epoch 20/20\n",
            "60399/60399 [==============================] - 51s 845us/step - loss: 0.0250 - accuracy: 0.9921 - val_loss: 0.3072 - val_accuracy: 0.9132\n",
            "\n",
            "Epoch 00020: val_accuracy did not improve from 0.91556\n",
            "18875/18875 [==============================] - 3s 143us/step\n"
          ],
          "name": "stdout"
        },
        {
          "output_type": "display_data",
          "data": {
            "text/plain": [
              "[1, 7]"
            ]
          },
          "metadata": {
            "tags": []
          }
        },
        {
          "output_type": "stream",
          "text": [
            "Train on 60399 samples, validate on 15100 samples\n",
            "Epoch 1/20\n",
            "60399/60399 [==============================] - 51s 836us/step - loss: 0.6901 - accuracy: 0.5216 - val_loss: 0.6717 - val_accuracy: 0.5867\n",
            "\n",
            "Epoch 00001: val_accuracy improved from -inf to 0.58669, saving model to /content/drive/My Drive/Data/Output060420/PairwiseModels/CascadeModel_S8_C1_7_Epochs20.h5\n",
            "Epoch 2/20\n",
            "60399/60399 [==============================] - 50s 826us/step - loss: 0.6507 - accuracy: 0.6072 - val_loss: 0.6237 - val_accuracy: 0.6430\n",
            "\n",
            "Epoch 00002: val_accuracy improved from 0.58669 to 0.64305, saving model to /content/drive/My Drive/Data/Output060420/PairwiseModels/CascadeModel_S8_C1_7_Epochs20.h5\n",
            "Epoch 3/20\n",
            "60399/60399 [==============================] - 50s 830us/step - loss: 0.5815 - accuracy: 0.6900 - val_loss: 0.5489 - val_accuracy: 0.7106\n",
            "\n",
            "Epoch 00003: val_accuracy improved from 0.64305 to 0.71060, saving model to /content/drive/My Drive/Data/Output060420/PairwiseModels/CascadeModel_S8_C1_7_Epochs20.h5\n",
            "Epoch 4/20\n",
            "60399/60399 [==============================] - 51s 843us/step - loss: 0.4922 - accuracy: 0.7625 - val_loss: 0.4783 - val_accuracy: 0.7662\n",
            "\n",
            "Epoch 00004: val_accuracy improved from 0.71060 to 0.76616, saving model to /content/drive/My Drive/Data/Output060420/PairwiseModels/CascadeModel_S8_C1_7_Epochs20.h5\n",
            "Epoch 5/20\n",
            "60399/60399 [==============================] - 50s 834us/step - loss: 0.3863 - accuracy: 0.8296 - val_loss: 0.4102 - val_accuracy: 0.8094\n",
            "\n",
            "Epoch 00005: val_accuracy improved from 0.76616 to 0.80940, saving model to /content/drive/My Drive/Data/Output060420/PairwiseModels/CascadeModel_S8_C1_7_Epochs20.h5\n",
            "Epoch 6/20\n",
            "60399/60399 [==============================] - 50s 828us/step - loss: 0.2752 - accuracy: 0.8891 - val_loss: 0.3700 - val_accuracy: 0.8364\n",
            "\n",
            "Epoch 00006: val_accuracy improved from 0.80940 to 0.83636, saving model to /content/drive/My Drive/Data/Output060420/PairwiseModels/CascadeModel_S8_C1_7_Epochs20.h5\n",
            "Epoch 7/20\n",
            "60399/60399 [==============================] - 49s 819us/step - loss: 0.1811 - accuracy: 0.9324 - val_loss: 0.3578 - val_accuracy: 0.8515\n",
            "\n",
            "Epoch 00007: val_accuracy improved from 0.83636 to 0.85146, saving model to /content/drive/My Drive/Data/Output060420/PairwiseModels/CascadeModel_S8_C1_7_Epochs20.h5\n",
            "Epoch 8/20\n",
            "60399/60399 [==============================] - 49s 816us/step - loss: 0.1240 - accuracy: 0.9561 - val_loss: 0.3532 - val_accuracy: 0.8679\n",
            "\n",
            "Epoch 00008: val_accuracy improved from 0.85146 to 0.86788, saving model to /content/drive/My Drive/Data/Output060420/PairwiseModels/CascadeModel_S8_C1_7_Epochs20.h5\n",
            "Epoch 9/20\n",
            "60399/60399 [==============================] - 50s 834us/step - loss: 0.0863 - accuracy: 0.9706 - val_loss: 0.3630 - val_accuracy: 0.8746\n",
            "\n",
            "Epoch 00009: val_accuracy improved from 0.86788 to 0.87457, saving model to /content/drive/My Drive/Data/Output060420/PairwiseModels/CascadeModel_S8_C1_7_Epochs20.h5\n",
            "Epoch 10/20\n",
            "60399/60399 [==============================] - 51s 841us/step - loss: 0.0668 - accuracy: 0.9777 - val_loss: 0.3580 - val_accuracy: 0.8830\n",
            "\n",
            "Epoch 00010: val_accuracy improved from 0.87457 to 0.88305, saving model to /content/drive/My Drive/Data/Output060420/PairwiseModels/CascadeModel_S8_C1_7_Epochs20.h5\n",
            "Epoch 11/20\n",
            "60399/60399 [==============================] - 51s 836us/step - loss: 0.0533 - accuracy: 0.9823 - val_loss: 0.3429 - val_accuracy: 0.8899\n",
            "\n",
            "Epoch 00011: val_accuracy improved from 0.88305 to 0.88993, saving model to /content/drive/My Drive/Data/Output060420/PairwiseModels/CascadeModel_S8_C1_7_Epochs20.h5\n",
            "Epoch 12/20\n",
            "60399/60399 [==============================] - 50s 826us/step - loss: 0.0456 - accuracy: 0.9850 - val_loss: 0.3568 - val_accuracy: 0.8909\n",
            "\n",
            "Epoch 00012: val_accuracy improved from 0.88993 to 0.89093, saving model to /content/drive/My Drive/Data/Output060420/PairwiseModels/CascadeModel_S8_C1_7_Epochs20.h5\n",
            "Epoch 13/20\n",
            "60399/60399 [==============================] - 50s 829us/step - loss: 0.0415 - accuracy: 0.9864 - val_loss: 0.3629 - val_accuracy: 0.8895\n",
            "\n",
            "Epoch 00013: val_accuracy did not improve from 0.89093\n",
            "Epoch 14/20\n",
            "60399/60399 [==============================] - 49s 819us/step - loss: 0.0360 - accuracy: 0.9882 - val_loss: 0.3666 - val_accuracy: 0.8954\n",
            "\n",
            "Epoch 00014: val_accuracy improved from 0.89093 to 0.89536, saving model to /content/drive/My Drive/Data/Output060420/PairwiseModels/CascadeModel_S8_C1_7_Epochs20.h5\n",
            "Epoch 15/20\n",
            "60399/60399 [==============================] - 50s 828us/step - loss: 0.0344 - accuracy: 0.9882 - val_loss: 0.3711 - val_accuracy: 0.8985\n",
            "\n",
            "Epoch 00015: val_accuracy improved from 0.89536 to 0.89848, saving model to /content/drive/My Drive/Data/Output060420/PairwiseModels/CascadeModel_S8_C1_7_Epochs20.h5\n",
            "Epoch 16/20\n",
            "60399/60399 [==============================] - 50s 830us/step - loss: 0.0314 - accuracy: 0.9893 - val_loss: 0.4000 - val_accuracy: 0.8881\n",
            "\n",
            "Epoch 00016: val_accuracy did not improve from 0.89848\n",
            "Epoch 17/20\n",
            "60399/60399 [==============================] - 49s 816us/step - loss: 0.0272 - accuracy: 0.9912 - val_loss: 0.3553 - val_accuracy: 0.8999\n",
            "\n",
            "Epoch 00017: val_accuracy improved from 0.89848 to 0.89987, saving model to /content/drive/My Drive/Data/Output060420/PairwiseModels/CascadeModel_S8_C1_7_Epochs20.h5\n",
            "Epoch 18/20\n",
            "60399/60399 [==============================] - 49s 815us/step - loss: 0.0268 - accuracy: 0.9914 - val_loss: 0.3748 - val_accuracy: 0.8991\n",
            "\n",
            "Epoch 00018: val_accuracy did not improve from 0.89987\n",
            "Epoch 19/20\n",
            "60399/60399 [==============================] - 50s 831us/step - loss: 0.0256 - accuracy: 0.9915 - val_loss: 0.3510 - val_accuracy: 0.9052\n",
            "\n",
            "Epoch 00019: val_accuracy improved from 0.89987 to 0.90523, saving model to /content/drive/My Drive/Data/Output060420/PairwiseModels/CascadeModel_S8_C1_7_Epochs20.h5\n",
            "Epoch 20/20\n",
            "60399/60399 [==============================] - 51s 846us/step - loss: 0.0261 - accuracy: 0.9917 - val_loss: 0.3299 - val_accuracy: 0.9101\n",
            "\n",
            "Epoch 00020: val_accuracy improved from 0.90523 to 0.91007, saving model to /content/drive/My Drive/Data/Output060420/PairwiseModels/CascadeModel_S8_C1_7_Epochs20.h5\n",
            "18875/18875 [==============================] - 3s 143us/step\n"
          ],
          "name": "stdout"
        },
        {
          "output_type": "display_data",
          "data": {
            "text/plain": [
              "[2, 3]"
            ]
          },
          "metadata": {
            "tags": []
          }
        },
        {
          "output_type": "stream",
          "text": [
            "Train on 60399 samples, validate on 15100 samples\n",
            "Epoch 1/20\n",
            "60399/60399 [==============================] - 52s 856us/step - loss: 0.6915 - accuracy: 0.5181 - val_loss: 0.6859 - val_accuracy: 0.5552\n",
            "\n",
            "Epoch 00001: val_accuracy improved from -inf to 0.55523, saving model to /content/drive/My Drive/Data/Output060420/PairwiseModels/CascadeModel_S8_C2_3_Epochs20.h5\n",
            "Epoch 2/20\n",
            "60399/60399 [==============================] - 51s 851us/step - loss: 0.6761 - accuracy: 0.5730 - val_loss: 0.6554 - val_accuracy: 0.6174\n",
            "\n",
            "Epoch 00002: val_accuracy improved from 0.55523 to 0.61742, saving model to /content/drive/My Drive/Data/Output060420/PairwiseModels/CascadeModel_S8_C2_3_Epochs20.h5\n",
            "Epoch 3/20\n",
            "60399/60399 [==============================] - 52s 861us/step - loss: 0.6235 - accuracy: 0.6497 - val_loss: 0.5907 - val_accuracy: 0.6764\n",
            "\n",
            "Epoch 00003: val_accuracy improved from 0.61742 to 0.67636, saving model to /content/drive/My Drive/Data/Output060420/PairwiseModels/CascadeModel_S8_C2_3_Epochs20.h5\n",
            "Epoch 4/20\n",
            "60399/60399 [==============================] - 50s 835us/step - loss: 0.5381 - accuracy: 0.7298 - val_loss: 0.5191 - val_accuracy: 0.7327\n",
            "\n",
            "Epoch 00004: val_accuracy improved from 0.67636 to 0.73272, saving model to /content/drive/My Drive/Data/Output060420/PairwiseModels/CascadeModel_S8_C2_3_Epochs20.h5\n",
            "Epoch 5/20\n",
            "60399/60399 [==============================] - 51s 844us/step - loss: 0.4176 - accuracy: 0.8126 - val_loss: 0.4464 - val_accuracy: 0.7839\n",
            "\n",
            "Epoch 00005: val_accuracy improved from 0.73272 to 0.78391, saving model to /content/drive/My Drive/Data/Output060420/PairwiseModels/CascadeModel_S8_C2_3_Epochs20.h5\n",
            "Epoch 6/20\n",
            "60399/60399 [==============================] - 51s 841us/step - loss: 0.2937 - accuracy: 0.8803 - val_loss: 0.3929 - val_accuracy: 0.8206\n",
            "\n",
            "Epoch 00006: val_accuracy improved from 0.78391 to 0.82060, saving model to /content/drive/My Drive/Data/Output060420/PairwiseModels/CascadeModel_S8_C2_3_Epochs20.h5\n",
            "Epoch 7/20\n",
            "60399/60399 [==============================] - 52s 853us/step - loss: 0.1956 - accuracy: 0.9266 - val_loss: 0.3707 - val_accuracy: 0.8446\n",
            "\n",
            "Epoch 00007: val_accuracy improved from 0.82060 to 0.84457, saving model to /content/drive/My Drive/Data/Output060420/PairwiseModels/CascadeModel_S8_C2_3_Epochs20.h5\n",
            "Epoch 8/20\n",
            "60399/60399 [==============================] - 51s 851us/step - loss: 0.1322 - accuracy: 0.9528 - val_loss: 0.3442 - val_accuracy: 0.8677\n",
            "\n",
            "Epoch 00008: val_accuracy improved from 0.84457 to 0.86775, saving model to /content/drive/My Drive/Data/Output060420/PairwiseModels/CascadeModel_S8_C2_3_Epochs20.h5\n",
            "Epoch 9/20\n",
            "60399/60399 [==============================] - 51s 846us/step - loss: 0.0945 - accuracy: 0.9670 - val_loss: 0.3495 - val_accuracy: 0.8760\n",
            "\n",
            "Epoch 00009: val_accuracy improved from 0.86775 to 0.87603, saving model to /content/drive/My Drive/Data/Output060420/PairwiseModels/CascadeModel_S8_C2_3_Epochs20.h5\n",
            "Epoch 10/20\n",
            "60399/60399 [==============================] - 51s 844us/step - loss: 0.0763 - accuracy: 0.9734 - val_loss: 0.3599 - val_accuracy: 0.8787\n",
            "\n",
            "Epoch 00010: val_accuracy improved from 0.87603 to 0.87874, saving model to /content/drive/My Drive/Data/Output060420/PairwiseModels/CascadeModel_S8_C2_3_Epochs20.h5\n",
            "Epoch 11/20\n",
            "60399/60399 [==============================] - 51s 841us/step - loss: 0.0623 - accuracy: 0.9784 - val_loss: 0.3596 - val_accuracy: 0.8837\n",
            "\n",
            "Epoch 00011: val_accuracy improved from 0.87874 to 0.88371, saving model to /content/drive/My Drive/Data/Output060420/PairwiseModels/CascadeModel_S8_C2_3_Epochs20.h5\n",
            "Epoch 12/20\n",
            "60399/60399 [==============================] - 51s 846us/step - loss: 0.0548 - accuracy: 0.9812 - val_loss: 0.3553 - val_accuracy: 0.8880\n",
            "\n",
            "Epoch 00012: val_accuracy improved from 0.88371 to 0.88801, saving model to /content/drive/My Drive/Data/Output060420/PairwiseModels/CascadeModel_S8_C2_3_Epochs20.h5\n",
            "Epoch 13/20\n",
            "60399/60399 [==============================] - 51s 842us/step - loss: 0.0505 - accuracy: 0.9828 - val_loss: 0.3583 - val_accuracy: 0.8895\n",
            "\n",
            "Epoch 00013: val_accuracy improved from 0.88801 to 0.88954, saving model to /content/drive/My Drive/Data/Output060420/PairwiseModels/CascadeModel_S8_C2_3_Epochs20.h5\n",
            "Epoch 14/20\n",
            "60399/60399 [==============================] - 50s 833us/step - loss: 0.0421 - accuracy: 0.9863 - val_loss: 0.3741 - val_accuracy: 0.8875\n",
            "\n",
            "Epoch 00014: val_accuracy did not improve from 0.88954\n",
            "Epoch 15/20\n",
            "60399/60399 [==============================] - 51s 848us/step - loss: 0.0404 - accuracy: 0.9866 - val_loss: 0.3469 - val_accuracy: 0.8948\n",
            "\n",
            "Epoch 00015: val_accuracy improved from 0.88954 to 0.89477, saving model to /content/drive/My Drive/Data/Output060420/PairwiseModels/CascadeModel_S8_C2_3_Epochs20.h5\n",
            "Epoch 16/20\n",
            "60399/60399 [==============================] - 50s 829us/step - loss: 0.0378 - accuracy: 0.9870 - val_loss: 0.3399 - val_accuracy: 0.9030\n",
            "\n",
            "Epoch 00016: val_accuracy improved from 0.89477 to 0.90298, saving model to /content/drive/My Drive/Data/Output060420/PairwiseModels/CascadeModel_S8_C2_3_Epochs20.h5\n",
            "Epoch 17/20\n",
            "60399/60399 [==============================] - 51s 836us/step - loss: 0.0320 - accuracy: 0.9894 - val_loss: 0.3648 - val_accuracy: 0.9009\n",
            "\n",
            "Epoch 00017: val_accuracy did not improve from 0.90298\n",
            "Epoch 18/20\n",
            "60399/60399 [==============================] - 51s 842us/step - loss: 0.0357 - accuracy: 0.9877 - val_loss: 0.3582 - val_accuracy: 0.8984\n",
            "\n",
            "Epoch 00018: val_accuracy did not improve from 0.90298\n",
            "Epoch 19/20\n",
            "60399/60399 [==============================] - 50s 822us/step - loss: 0.0291 - accuracy: 0.9906 - val_loss: 0.3441 - val_accuracy: 0.9043\n",
            "\n",
            "Epoch 00019: val_accuracy improved from 0.90298 to 0.90430, saving model to /content/drive/My Drive/Data/Output060420/PairwiseModels/CascadeModel_S8_C2_3_Epochs20.h5\n",
            "Epoch 20/20\n",
            "60399/60399 [==============================] - 51s 840us/step - loss: 0.0278 - accuracy: 0.9909 - val_loss: 0.3413 - val_accuracy: 0.9066\n",
            "\n",
            "Epoch 00020: val_accuracy improved from 0.90430 to 0.90662, saving model to /content/drive/My Drive/Data/Output060420/PairwiseModels/CascadeModel_S8_C2_3_Epochs20.h5\n",
            "18875/18875 [==============================] - 3s 145us/step\n"
          ],
          "name": "stdout"
        },
        {
          "output_type": "display_data",
          "data": {
            "text/plain": [
              "[2, 4]"
            ]
          },
          "metadata": {
            "tags": []
          }
        },
        {
          "output_type": "stream",
          "text": [
            "Train on 60399 samples, validate on 15100 samples\n",
            "Epoch 1/20\n",
            "60399/60399 [==============================] - 52s 860us/step - loss: 0.6901 - accuracy: 0.5280 - val_loss: 0.6799 - val_accuracy: 0.5683\n",
            "\n",
            "Epoch 00001: val_accuracy improved from -inf to 0.56834, saving model to /content/drive/My Drive/Data/Output060420/PairwiseModels/CascadeModel_S8_C2_4_Epochs20.h5\n",
            "Epoch 2/20\n",
            "60399/60399 [==============================] - 50s 829us/step - loss: 0.6556 - accuracy: 0.6054 - val_loss: 0.6140 - val_accuracy: 0.6576\n",
            "\n",
            "Epoch 00002: val_accuracy improved from 0.56834 to 0.65762, saving model to /content/drive/My Drive/Data/Output060420/PairwiseModels/CascadeModel_S8_C2_4_Epochs20.h5\n",
            "Epoch 3/20\n",
            "60399/60399 [==============================] - 50s 836us/step - loss: 0.5754 - accuracy: 0.6918 - val_loss: 0.5517 - val_accuracy: 0.7056\n",
            "\n",
            "Epoch 00003: val_accuracy improved from 0.65762 to 0.70556, saving model to /content/drive/My Drive/Data/Output060420/PairwiseModels/CascadeModel_S8_C2_4_Epochs20.h5\n",
            "Epoch 4/20\n",
            "60399/60399 [==============================] - 51s 840us/step - loss: 0.4713 - accuracy: 0.7739 - val_loss: 0.4764 - val_accuracy: 0.7592\n",
            "\n",
            "Epoch 00004: val_accuracy improved from 0.70556 to 0.75921, saving model to /content/drive/My Drive/Data/Output060420/PairwiseModels/CascadeModel_S8_C2_4_Epochs20.h5\n",
            "Epoch 5/20\n",
            "60399/60399 [==============================] - 50s 832us/step - loss: 0.3456 - accuracy: 0.8495 - val_loss: 0.4075 - val_accuracy: 0.8113\n",
            "\n",
            "Epoch 00005: val_accuracy improved from 0.75921 to 0.81132, saving model to /content/drive/My Drive/Data/Output060420/PairwiseModels/CascadeModel_S8_C2_4_Epochs20.h5\n",
            "Epoch 6/20\n",
            "60399/60399 [==============================] - 52s 854us/step - loss: 0.2330 - accuracy: 0.9076 - val_loss: 0.3688 - val_accuracy: 0.8374\n",
            "\n",
            "Epoch 00006: val_accuracy improved from 0.81132 to 0.83742, saving model to /content/drive/My Drive/Data/Output060420/PairwiseModels/CascadeModel_S8_C2_4_Epochs20.h5\n",
            "Epoch 7/20\n",
            "60399/60399 [==============================] - 51s 844us/step - loss: 0.1519 - accuracy: 0.9444 - val_loss: 0.3665 - val_accuracy: 0.8540\n",
            "\n",
            "Epoch 00007: val_accuracy improved from 0.83742 to 0.85397, saving model to /content/drive/My Drive/Data/Output060420/PairwiseModels/CascadeModel_S8_C2_4_Epochs20.h5\n",
            "Epoch 8/20\n",
            "60399/60399 [==============================] - 50s 833us/step - loss: 0.1056 - accuracy: 0.9627 - val_loss: 0.3437 - val_accuracy: 0.8697\n",
            "\n",
            "Epoch 00008: val_accuracy improved from 0.85397 to 0.86974, saving model to /content/drive/My Drive/Data/Output060420/PairwiseModels/CascadeModel_S8_C2_4_Epochs20.h5\n",
            "Epoch 9/20\n",
            "60399/60399 [==============================] - 50s 831us/step - loss: 0.0809 - accuracy: 0.9712 - val_loss: 0.3587 - val_accuracy: 0.8752\n",
            "\n",
            "Epoch 00009: val_accuracy improved from 0.86974 to 0.87517, saving model to /content/drive/My Drive/Data/Output060420/PairwiseModels/CascadeModel_S8_C2_4_Epochs20.h5\n",
            "Epoch 10/20\n",
            "60399/60399 [==============================] - 50s 826us/step - loss: 0.0688 - accuracy: 0.9758 - val_loss: 0.3942 - val_accuracy: 0.8735\n",
            "\n",
            "Epoch 00010: val_accuracy did not improve from 0.87517\n",
            "Epoch 11/20\n",
            "60399/60399 [==============================] - 50s 824us/step - loss: 0.0566 - accuracy: 0.9805 - val_loss: 0.3710 - val_accuracy: 0.8793\n",
            "\n",
            "Epoch 00011: val_accuracy improved from 0.87517 to 0.87927, saving model to /content/drive/My Drive/Data/Output060420/PairwiseModels/CascadeModel_S8_C2_4_Epochs20.h5\n",
            "Epoch 12/20\n",
            "60399/60399 [==============================] - 50s 835us/step - loss: 0.0516 - accuracy: 0.9817 - val_loss: 0.4005 - val_accuracy: 0.8782\n",
            "\n",
            "Epoch 00012: val_accuracy did not improve from 0.87927\n",
            "Epoch 13/20\n",
            "60399/60399 [==============================] - 49s 817us/step - loss: 0.0476 - accuracy: 0.9843 - val_loss: 0.3683 - val_accuracy: 0.8855\n",
            "\n",
            "Epoch 00013: val_accuracy improved from 0.87927 to 0.88550, saving model to /content/drive/My Drive/Data/Output060420/PairwiseModels/CascadeModel_S8_C2_4_Epochs20.h5\n",
            "Epoch 14/20\n",
            "60399/60399 [==============================] - 50s 825us/step - loss: 0.0406 - accuracy: 0.9863 - val_loss: 0.4121 - val_accuracy: 0.8828\n",
            "\n",
            "Epoch 00014: val_accuracy did not improve from 0.88550\n",
            "Epoch 15/20\n",
            "60399/60399 [==============================] - 50s 823us/step - loss: 0.0398 - accuracy: 0.9863 - val_loss: 0.3650 - val_accuracy: 0.8906\n",
            "\n",
            "Epoch 00015: val_accuracy improved from 0.88550 to 0.89060, saving model to /content/drive/My Drive/Data/Output060420/PairwiseModels/CascadeModel_S8_C2_4_Epochs20.h5\n",
            "Epoch 16/20\n",
            "60399/60399 [==============================] - 50s 827us/step - loss: 0.0324 - accuracy: 0.9896 - val_loss: 0.3595 - val_accuracy: 0.8960\n",
            "\n",
            "Epoch 00016: val_accuracy improved from 0.89060 to 0.89596, saving model to /content/drive/My Drive/Data/Output060420/PairwiseModels/CascadeModel_S8_C2_4_Epochs20.h5\n",
            "Epoch 17/20\n",
            "60399/60399 [==============================] - 50s 822us/step - loss: 0.0346 - accuracy: 0.9889 - val_loss: 0.3732 - val_accuracy: 0.8964\n",
            "\n",
            "Epoch 00017: val_accuracy improved from 0.89596 to 0.89642, saving model to /content/drive/My Drive/Data/Output060420/PairwiseModels/CascadeModel_S8_C2_4_Epochs20.h5\n",
            "Epoch 18/20\n",
            "60399/60399 [==============================] - 50s 826us/step - loss: 0.0311 - accuracy: 0.9900 - val_loss: 0.3485 - val_accuracy: 0.9001\n",
            "\n",
            "Epoch 00018: val_accuracy improved from 0.89642 to 0.90013, saving model to /content/drive/My Drive/Data/Output060420/PairwiseModels/CascadeModel_S8_C2_4_Epochs20.h5\n",
            "Epoch 19/20\n",
            "60399/60399 [==============================] - 50s 832us/step - loss: 0.0308 - accuracy: 0.9901 - val_loss: 0.3346 - val_accuracy: 0.9046\n",
            "\n",
            "Epoch 00019: val_accuracy improved from 0.90013 to 0.90457, saving model to /content/drive/My Drive/Data/Output060420/PairwiseModels/CascadeModel_S8_C2_4_Epochs20.h5\n",
            "Epoch 20/20\n",
            "60399/60399 [==============================] - 52s 855us/step - loss: 0.0275 - accuracy: 0.9907 - val_loss: 0.3440 - val_accuracy: 0.9012\n",
            "\n",
            "Epoch 00020: val_accuracy did not improve from 0.90457\n",
            "18875/18875 [==============================] - 3s 140us/step\n"
          ],
          "name": "stdout"
        },
        {
          "output_type": "display_data",
          "data": {
            "text/plain": [
              "[2, 5]"
            ]
          },
          "metadata": {
            "tags": []
          }
        },
        {
          "output_type": "stream",
          "text": [
            "Train on 60399 samples, validate on 15100 samples\n",
            "Epoch 1/20\n",
            "60399/60399 [==============================] - 52s 861us/step - loss: 0.6835 - accuracy: 0.5485 - val_loss: 0.6601 - val_accuracy: 0.6082\n",
            "\n",
            "Epoch 00001: val_accuracy improved from -inf to 0.60821, saving model to /content/drive/My Drive/Data/Output060420/PairwiseModels/CascadeModel_S8_C2_5_Epochs20.h5\n",
            "Epoch 2/20\n",
            "60399/60399 [==============================] - 51s 837us/step - loss: 0.6278 - accuracy: 0.6446 - val_loss: 0.5926 - val_accuracy: 0.6787\n",
            "\n",
            "Epoch 00002: val_accuracy improved from 0.60821 to 0.67874, saving model to /content/drive/My Drive/Data/Output060420/PairwiseModels/CascadeModel_S8_C2_5_Epochs20.h5\n",
            "Epoch 3/20\n",
            "60399/60399 [==============================] - 50s 831us/step - loss: 0.5404 - accuracy: 0.7298 - val_loss: 0.5382 - val_accuracy: 0.7245\n",
            "\n",
            "Epoch 00003: val_accuracy improved from 0.67874 to 0.72450, saving model to /content/drive/My Drive/Data/Output060420/PairwiseModels/CascadeModel_S8_C2_5_Epochs20.h5\n",
            "Epoch 4/20\n",
            "60399/60399 [==============================] - 50s 822us/step - loss: 0.4289 - accuracy: 0.8054 - val_loss: 0.4550 - val_accuracy: 0.7799\n",
            "\n",
            "Epoch 00004: val_accuracy improved from 0.72450 to 0.77993, saving model to /content/drive/My Drive/Data/Output060420/PairwiseModels/CascadeModel_S8_C2_5_Epochs20.h5\n",
            "Epoch 5/20\n",
            "60399/60399 [==============================] - 51s 840us/step - loss: 0.3080 - accuracy: 0.8736 - val_loss: 0.3847 - val_accuracy: 0.8227\n",
            "\n",
            "Epoch 00005: val_accuracy improved from 0.77993 to 0.82272, saving model to /content/drive/My Drive/Data/Output060420/PairwiseModels/CascadeModel_S8_C2_5_Epochs20.h5\n",
            "Epoch 6/20\n",
            "60399/60399 [==============================] - 50s 828us/step - loss: 0.2070 - accuracy: 0.9219 - val_loss: 0.3449 - val_accuracy: 0.8574\n",
            "\n",
            "Epoch 00006: val_accuracy improved from 0.82272 to 0.85742, saving model to /content/drive/My Drive/Data/Output060420/PairwiseModels/CascadeModel_S8_C2_5_Epochs20.h5\n",
            "Epoch 7/20\n",
            "60399/60399 [==============================] - 50s 831us/step - loss: 0.1359 - accuracy: 0.9526 - val_loss: 0.3364 - val_accuracy: 0.8708\n",
            "\n",
            "Epoch 00007: val_accuracy improved from 0.85742 to 0.87079, saving model to /content/drive/My Drive/Data/Output060420/PairwiseModels/CascadeModel_S8_C2_5_Epochs20.h5\n",
            "Epoch 8/20\n",
            "60399/60399 [==============================] - 50s 823us/step - loss: 0.0956 - accuracy: 0.9676 - val_loss: 0.3642 - val_accuracy: 0.8719\n",
            "\n",
            "Epoch 00008: val_accuracy improved from 0.87079 to 0.87185, saving model to /content/drive/My Drive/Data/Output060420/PairwiseModels/CascadeModel_S8_C2_5_Epochs20.h5\n",
            "Epoch 9/20\n",
            "60399/60399 [==============================] - 50s 829us/step - loss: 0.0752 - accuracy: 0.9756 - val_loss: 0.3530 - val_accuracy: 0.8823\n",
            "\n",
            "Epoch 00009: val_accuracy improved from 0.87185 to 0.88232, saving model to /content/drive/My Drive/Data/Output060420/PairwiseModels/CascadeModel_S8_C2_5_Epochs20.h5\n",
            "Epoch 10/20\n",
            "60399/60399 [==============================] - 50s 821us/step - loss: 0.0633 - accuracy: 0.9791 - val_loss: 0.3310 - val_accuracy: 0.8900\n",
            "\n",
            "Epoch 00010: val_accuracy improved from 0.88232 to 0.89000, saving model to /content/drive/My Drive/Data/Output060420/PairwiseModels/CascadeModel_S8_C2_5_Epochs20.h5\n",
            "Epoch 11/20\n",
            "60399/60399 [==============================] - 50s 825us/step - loss: 0.0532 - accuracy: 0.9824 - val_loss: 0.3525 - val_accuracy: 0.8875\n",
            "\n",
            "Epoch 00011: val_accuracy did not improve from 0.89000\n",
            "Epoch 12/20\n",
            "60399/60399 [==============================] - 49s 817us/step - loss: 0.0440 - accuracy: 0.9862 - val_loss: 0.3502 - val_accuracy: 0.8948\n",
            "\n",
            "Epoch 00012: val_accuracy improved from 0.89000 to 0.89483, saving model to /content/drive/My Drive/Data/Output060420/PairwiseModels/CascadeModel_S8_C2_5_Epochs20.h5\n",
            "Epoch 13/20\n",
            "60399/60399 [==============================] - 50s 827us/step - loss: 0.0406 - accuracy: 0.9865 - val_loss: 0.3648 - val_accuracy: 0.8905\n",
            "\n",
            "Epoch 00013: val_accuracy did not improve from 0.89483\n",
            "Epoch 14/20\n",
            "60399/60399 [==============================] - 49s 811us/step - loss: 0.0371 - accuracy: 0.9879 - val_loss: 0.3667 - val_accuracy: 0.8934\n",
            "\n",
            "Epoch 00014: val_accuracy did not improve from 0.89483\n",
            "Epoch 15/20\n",
            "60399/60399 [==============================] - 50s 828us/step - loss: 0.0331 - accuracy: 0.9893 - val_loss: 0.3596 - val_accuracy: 0.8964\n",
            "\n",
            "Epoch 00015: val_accuracy improved from 0.89483 to 0.89636, saving model to /content/drive/My Drive/Data/Output060420/PairwiseModels/CascadeModel_S8_C2_5_Epochs20.h5\n",
            "Epoch 16/20\n",
            "60399/60399 [==============================] - 50s 827us/step - loss: 0.0346 - accuracy: 0.9890 - val_loss: 0.3371 - val_accuracy: 0.9036\n",
            "\n",
            "Epoch 00016: val_accuracy improved from 0.89636 to 0.90364, saving model to /content/drive/My Drive/Data/Output060420/PairwiseModels/CascadeModel_S8_C2_5_Epochs20.h5\n",
            "Epoch 17/20\n",
            "60399/60399 [==============================] - 50s 820us/step - loss: 0.0312 - accuracy: 0.9900 - val_loss: 0.3188 - val_accuracy: 0.9075\n",
            "\n",
            "Epoch 00017: val_accuracy improved from 0.90364 to 0.90755, saving model to /content/drive/My Drive/Data/Output060420/PairwiseModels/CascadeModel_S8_C2_5_Epochs20.h5\n",
            "Epoch 18/20\n",
            "60399/60399 [==============================] - 51s 837us/step - loss: 0.0261 - accuracy: 0.9915 - val_loss: 0.3554 - val_accuracy: 0.9026\n",
            "\n",
            "Epoch 00018: val_accuracy did not improve from 0.90755\n",
            "Epoch 19/20\n",
            "60399/60399 [==============================] - 50s 830us/step - loss: 0.0273 - accuracy: 0.9914 - val_loss: 0.3512 - val_accuracy: 0.9040\n",
            "\n",
            "Epoch 00019: val_accuracy did not improve from 0.90755\n",
            "Epoch 20/20\n",
            "60399/60399 [==============================] - 50s 827us/step - loss: 0.0263 - accuracy: 0.9912 - val_loss: 0.3357 - val_accuracy: 0.9084\n",
            "\n",
            "Epoch 00020: val_accuracy improved from 0.90755 to 0.90841, saving model to /content/drive/My Drive/Data/Output060420/PairwiseModels/CascadeModel_S8_C2_5_Epochs20.h5\n",
            "18875/18875 [==============================] - 3s 143us/step\n"
          ],
          "name": "stdout"
        },
        {
          "output_type": "display_data",
          "data": {
            "text/plain": [
              "[2, 6]"
            ]
          },
          "metadata": {
            "tags": []
          }
        },
        {
          "output_type": "stream",
          "text": [
            "Train on 60399 samples, validate on 15100 samples\n",
            "Epoch 1/20\n",
            "60399/60399 [==============================] - 50s 836us/step - loss: 0.6779 - accuracy: 0.5557 - val_loss: 0.6540 - val_accuracy: 0.5993\n",
            "\n",
            "Epoch 00001: val_accuracy improved from -inf to 0.59934, saving model to /content/drive/My Drive/Data/Output060420/PairwiseModels/CascadeModel_S8_C2_6_Epochs20.h5\n",
            "Epoch 2/20\n",
            "60399/60399 [==============================] - 50s 830us/step - loss: 0.6198 - accuracy: 0.6416 - val_loss: 0.5796 - val_accuracy: 0.6772\n",
            "\n",
            "Epoch 00002: val_accuracy improved from 0.59934 to 0.67722, saving model to /content/drive/My Drive/Data/Output060420/PairwiseModels/CascadeModel_S8_C2_6_Epochs20.h5\n",
            "Epoch 3/20\n",
            "60399/60399 [==============================] - 50s 829us/step - loss: 0.5308 - accuracy: 0.7220 - val_loss: 0.4972 - val_accuracy: 0.7389\n",
            "\n",
            "Epoch 00003: val_accuracy improved from 0.67722 to 0.73894, saving model to /content/drive/My Drive/Data/Output060420/PairwiseModels/CascadeModel_S8_C2_6_Epochs20.h5\n",
            "Epoch 4/20\n",
            "60399/60399 [==============================] - 50s 826us/step - loss: 0.4187 - accuracy: 0.8036 - val_loss: 0.4268 - val_accuracy: 0.7937\n",
            "\n",
            "Epoch 00004: val_accuracy improved from 0.73894 to 0.79371, saving model to /content/drive/My Drive/Data/Output060420/PairwiseModels/CascadeModel_S8_C2_6_Epochs20.h5\n",
            "Epoch 5/20\n",
            "60399/60399 [==============================] - 50s 828us/step - loss: 0.2967 - accuracy: 0.8745 - val_loss: 0.3615 - val_accuracy: 0.8372\n",
            "\n",
            "Epoch 00005: val_accuracy improved from 0.79371 to 0.83722, saving model to /content/drive/My Drive/Data/Output060420/PairwiseModels/CascadeModel_S8_C2_6_Epochs20.h5\n",
            "Epoch 6/20\n",
            "60399/60399 [==============================] - 50s 824us/step - loss: 0.1947 - accuracy: 0.9253 - val_loss: 0.3258 - val_accuracy: 0.8642\n",
            "\n",
            "Epoch 00006: val_accuracy improved from 0.83722 to 0.86424, saving model to /content/drive/My Drive/Data/Output060420/PairwiseModels/CascadeModel_S8_C2_6_Epochs20.h5\n",
            "Epoch 7/20\n",
            "60399/60399 [==============================] - 49s 817us/step - loss: 0.1329 - accuracy: 0.9523 - val_loss: 0.3094 - val_accuracy: 0.8782\n",
            "\n",
            "Epoch 00007: val_accuracy improved from 0.86424 to 0.87821, saving model to /content/drive/My Drive/Data/Output060420/PairwiseModels/CascadeModel_S8_C2_6_Epochs20.h5\n",
            "Epoch 8/20\n",
            "60399/60399 [==============================] - 50s 829us/step - loss: 0.0975 - accuracy: 0.9660 - val_loss: 0.3303 - val_accuracy: 0.8779\n",
            "\n",
            "Epoch 00008: val_accuracy did not improve from 0.87821\n",
            "Epoch 9/20\n",
            "60399/60399 [==============================] - 50s 823us/step - loss: 0.0706 - accuracy: 0.9761 - val_loss: 0.3518 - val_accuracy: 0.8802\n",
            "\n",
            "Epoch 00009: val_accuracy improved from 0.87821 to 0.88020, saving model to /content/drive/My Drive/Data/Output060420/PairwiseModels/CascadeModel_S8_C2_6_Epochs20.h5\n",
            "Epoch 10/20\n",
            "60399/60399 [==============================] - 50s 823us/step - loss: 0.0596 - accuracy: 0.9803 - val_loss: 0.3274 - val_accuracy: 0.8907\n",
            "\n",
            "Epoch 00010: val_accuracy improved from 0.88020 to 0.89073, saving model to /content/drive/My Drive/Data/Output060420/PairwiseModels/CascadeModel_S8_C2_6_Epochs20.h5\n",
            "Epoch 11/20\n",
            "60399/60399 [==============================] - 50s 833us/step - loss: 0.0508 - accuracy: 0.9831 - val_loss: 0.3293 - val_accuracy: 0.8950\n",
            "\n",
            "Epoch 00011: val_accuracy improved from 0.89073 to 0.89497, saving model to /content/drive/My Drive/Data/Output060420/PairwiseModels/CascadeModel_S8_C2_6_Epochs20.h5\n",
            "Epoch 12/20\n",
            "60399/60399 [==============================] - 50s 824us/step - loss: 0.0409 - accuracy: 0.9865 - val_loss: 0.3817 - val_accuracy: 0.8858\n",
            "\n",
            "Epoch 00012: val_accuracy did not improve from 0.89497\n",
            "Epoch 13/20\n",
            "60399/60399 [==============================] - 49s 814us/step - loss: 0.0440 - accuracy: 0.9859 - val_loss: 0.3235 - val_accuracy: 0.9043\n",
            "\n",
            "Epoch 00013: val_accuracy improved from 0.89497 to 0.90430, saving model to /content/drive/My Drive/Data/Output060420/PairwiseModels/CascadeModel_S8_C2_6_Epochs20.h5\n",
            "Epoch 14/20\n",
            "60399/60399 [==============================] - 50s 824us/step - loss: 0.0340 - accuracy: 0.9892 - val_loss: 0.3083 - val_accuracy: 0.9063\n",
            "\n",
            "Epoch 00014: val_accuracy improved from 0.90430 to 0.90629, saving model to /content/drive/My Drive/Data/Output060420/PairwiseModels/CascadeModel_S8_C2_6_Epochs20.h5\n",
            "Epoch 15/20\n",
            "60399/60399 [==============================] - 50s 827us/step - loss: 0.0344 - accuracy: 0.9882 - val_loss: 0.3215 - val_accuracy: 0.9037\n",
            "\n",
            "Epoch 00015: val_accuracy did not improve from 0.90629\n",
            "Epoch 16/20\n",
            "60399/60399 [==============================] - 50s 828us/step - loss: 0.0337 - accuracy: 0.9891 - val_loss: 0.3553 - val_accuracy: 0.9015\n",
            "\n",
            "Epoch 00016: val_accuracy did not improve from 0.90629\n",
            "Epoch 17/20\n",
            "60399/60399 [==============================] - 49s 811us/step - loss: 0.0251 - accuracy: 0.9922 - val_loss: 0.3337 - val_accuracy: 0.9071\n",
            "\n",
            "Epoch 00017: val_accuracy improved from 0.90629 to 0.90709, saving model to /content/drive/My Drive/Data/Output060420/PairwiseModels/CascadeModel_S8_C2_6_Epochs20.h5\n",
            "Epoch 18/20\n",
            "60399/60399 [==============================] - 50s 831us/step - loss: 0.0259 - accuracy: 0.9918 - val_loss: 0.3328 - val_accuracy: 0.9085\n",
            "\n",
            "Epoch 00018: val_accuracy improved from 0.90709 to 0.90848, saving model to /content/drive/My Drive/Data/Output060420/PairwiseModels/CascadeModel_S8_C2_6_Epochs20.h5\n",
            "Epoch 19/20\n",
            "60399/60399 [==============================] - 50s 822us/step - loss: 0.0273 - accuracy: 0.9911 - val_loss: 0.3098 - val_accuracy: 0.9139\n",
            "\n",
            "Epoch 00019: val_accuracy improved from 0.90848 to 0.91391, saving model to /content/drive/My Drive/Data/Output060420/PairwiseModels/CascadeModel_S8_C2_6_Epochs20.h5\n",
            "Epoch 20/20\n",
            "60399/60399 [==============================] - 50s 823us/step - loss: 0.0228 - accuracy: 0.9927 - val_loss: 0.3133 - val_accuracy: 0.9114\n",
            "\n",
            "Epoch 00020: val_accuracy did not improve from 0.91391\n",
            "18875/18875 [==============================] - 3s 145us/step\n"
          ],
          "name": "stdout"
        },
        {
          "output_type": "display_data",
          "data": {
            "text/plain": [
              "[2, 7]"
            ]
          },
          "metadata": {
            "tags": []
          }
        },
        {
          "output_type": "stream",
          "text": [
            "Train on 60399 samples, validate on 15100 samples\n",
            "Epoch 1/20\n",
            "60399/60399 [==============================] - 51s 844us/step - loss: 0.6886 - accuracy: 0.5346 - val_loss: 0.6735 - val_accuracy: 0.5798\n",
            "\n",
            "Epoch 00001: val_accuracy improved from -inf to 0.57980, saving model to /content/drive/My Drive/Data/Output060420/PairwiseModels/CascadeModel_S8_C2_7_Epochs20.h5\n",
            "Epoch 2/20\n",
            "60399/60399 [==============================] - 51s 836us/step - loss: 0.6493 - accuracy: 0.6185 - val_loss: 0.6152 - val_accuracy: 0.6607\n",
            "\n",
            "Epoch 00002: val_accuracy improved from 0.57980 to 0.66066, saving model to /content/drive/My Drive/Data/Output060420/PairwiseModels/CascadeModel_S8_C2_7_Epochs20.h5\n",
            "Epoch 3/20\n",
            "60399/60399 [==============================] - 50s 833us/step - loss: 0.5882 - accuracy: 0.6852 - val_loss: 0.5567 - val_accuracy: 0.7090\n",
            "\n",
            "Epoch 00003: val_accuracy improved from 0.66066 to 0.70901, saving model to /content/drive/My Drive/Data/Output060420/PairwiseModels/CascadeModel_S8_C2_7_Epochs20.h5\n",
            "Epoch 4/20\n",
            "60399/60399 [==============================] - 50s 831us/step - loss: 0.5104 - accuracy: 0.7493 - val_loss: 0.4948 - val_accuracy: 0.7564\n",
            "\n",
            "Epoch 00004: val_accuracy improved from 0.70901 to 0.75642, saving model to /content/drive/My Drive/Data/Output060420/PairwiseModels/CascadeModel_S8_C2_7_Epochs20.h5\n",
            "Epoch 5/20\n",
            "60399/60399 [==============================] - 50s 835us/step - loss: 0.4126 - accuracy: 0.8136 - val_loss: 0.4618 - val_accuracy: 0.7783\n",
            "\n",
            "Epoch 00005: val_accuracy improved from 0.75642 to 0.77828, saving model to /content/drive/My Drive/Data/Output060420/PairwiseModels/CascadeModel_S8_C2_7_Epochs20.h5\n",
            "Epoch 6/20\n",
            "60399/60399 [==============================] - 51s 842us/step - loss: 0.3041 - accuracy: 0.8753 - val_loss: 0.3981 - val_accuracy: 0.8234\n",
            "\n",
            "Epoch 00006: val_accuracy improved from 0.77828 to 0.82344, saving model to /content/drive/My Drive/Data/Output060420/PairwiseModels/CascadeModel_S8_C2_7_Epochs20.h5\n",
            "Epoch 7/20\n",
            "60399/60399 [==============================] - 51s 843us/step - loss: 0.2098 - accuracy: 0.9209 - val_loss: 0.3756 - val_accuracy: 0.8432\n",
            "\n",
            "Epoch 00007: val_accuracy improved from 0.82344 to 0.84325, saving model to /content/drive/My Drive/Data/Output060420/PairwiseModels/CascadeModel_S8_C2_7_Epochs20.h5\n",
            "Epoch 8/20\n",
            "60399/60399 [==============================] - 50s 828us/step - loss: 0.1447 - accuracy: 0.9478 - val_loss: 0.4028 - val_accuracy: 0.8483\n",
            "\n",
            "Epoch 00008: val_accuracy improved from 0.84325 to 0.84834, saving model to /content/drive/My Drive/Data/Output060420/PairwiseModels/CascadeModel_S8_C2_7_Epochs20.h5\n",
            "Epoch 9/20\n",
            "60399/60399 [==============================] - 50s 823us/step - loss: 0.1037 - accuracy: 0.9639 - val_loss: 0.3471 - val_accuracy: 0.8729\n",
            "\n",
            "Epoch 00009: val_accuracy improved from 0.84834 to 0.87291, saving model to /content/drive/My Drive/Data/Output060420/PairwiseModels/CascadeModel_S8_C2_7_Epochs20.h5\n",
            "Epoch 10/20\n",
            "60399/60399 [==============================] - 51s 839us/step - loss: 0.0774 - accuracy: 0.9739 - val_loss: 0.3913 - val_accuracy: 0.8694\n",
            "\n",
            "Epoch 00010: val_accuracy did not improve from 0.87291\n",
            "Epoch 11/20\n",
            "60399/60399 [==============================] - 50s 829us/step - loss: 0.0594 - accuracy: 0.9801 - val_loss: 0.3906 - val_accuracy: 0.8763\n",
            "\n",
            "Epoch 00011: val_accuracy improved from 0.87291 to 0.87629, saving model to /content/drive/My Drive/Data/Output060420/PairwiseModels/CascadeModel_S8_C2_7_Epochs20.h5\n",
            "Epoch 12/20\n",
            "60399/60399 [==============================] - 51s 838us/step - loss: 0.0529 - accuracy: 0.9823 - val_loss: 0.3530 - val_accuracy: 0.8856\n",
            "\n",
            "Epoch 00012: val_accuracy improved from 0.87629 to 0.88563, saving model to /content/drive/My Drive/Data/Output060420/PairwiseModels/CascadeModel_S8_C2_7_Epochs20.h5\n",
            "Epoch 13/20\n",
            "60399/60399 [==============================] - 50s 834us/step - loss: 0.0477 - accuracy: 0.9845 - val_loss: 0.3717 - val_accuracy: 0.8850\n",
            "\n",
            "Epoch 00013: val_accuracy did not improve from 0.88563\n",
            "Epoch 14/20\n",
            "60399/60399 [==============================] - 50s 829us/step - loss: 0.0399 - accuracy: 0.9866 - val_loss: 0.3536 - val_accuracy: 0.8931\n",
            "\n",
            "Epoch 00014: val_accuracy improved from 0.88563 to 0.89311, saving model to /content/drive/My Drive/Data/Output060420/PairwiseModels/CascadeModel_S8_C2_7_Epochs20.h5\n",
            "Epoch 15/20\n",
            "60399/60399 [==============================] - 50s 836us/step - loss: 0.0380 - accuracy: 0.9875 - val_loss: 0.3666 - val_accuracy: 0.8942\n",
            "\n",
            "Epoch 00015: val_accuracy improved from 0.89311 to 0.89424, saving model to /content/drive/My Drive/Data/Output060420/PairwiseModels/CascadeModel_S8_C2_7_Epochs20.h5\n",
            "Epoch 16/20\n",
            "60399/60399 [==============================] - 51s 842us/step - loss: 0.0340 - accuracy: 0.9890 - val_loss: 0.3913 - val_accuracy: 0.8880\n",
            "\n",
            "Epoch 00016: val_accuracy did not improve from 0.89424\n",
            "Epoch 17/20\n",
            "60399/60399 [==============================] - 50s 833us/step - loss: 0.0320 - accuracy: 0.9898 - val_loss: 0.3752 - val_accuracy: 0.8955\n",
            "\n",
            "Epoch 00017: val_accuracy improved from 0.89424 to 0.89550, saving model to /content/drive/My Drive/Data/Output060420/PairwiseModels/CascadeModel_S8_C2_7_Epochs20.h5\n",
            "Epoch 18/20\n",
            "60399/60399 [==============================] - 51s 841us/step - loss: 0.0294 - accuracy: 0.9900 - val_loss: 0.3684 - val_accuracy: 0.8977\n",
            "\n",
            "Epoch 00018: val_accuracy improved from 0.89550 to 0.89775, saving model to /content/drive/My Drive/Data/Output060420/PairwiseModels/CascadeModel_S8_C2_7_Epochs20.h5\n",
            "Epoch 19/20\n",
            "60399/60399 [==============================] - 51s 843us/step - loss: 0.0263 - accuracy: 0.9913 - val_loss: 0.4366 - val_accuracy: 0.8869\n",
            "\n",
            "Epoch 00019: val_accuracy did not improve from 0.89775\n",
            "Epoch 20/20\n",
            "60399/60399 [==============================] - 51s 837us/step - loss: 0.0255 - accuracy: 0.9915 - val_loss: 0.3723 - val_accuracy: 0.8970\n",
            "\n",
            "Epoch 00020: val_accuracy did not improve from 0.89775\n",
            "18875/18875 [==============================] - 3s 140us/step\n"
          ],
          "name": "stdout"
        },
        {
          "output_type": "display_data",
          "data": {
            "text/plain": [
              "[3, 4]"
            ]
          },
          "metadata": {
            "tags": []
          }
        },
        {
          "output_type": "stream",
          "text": [
            "Train on 60399 samples, validate on 15100 samples\n",
            "Epoch 1/20\n",
            "60399/60399 [==============================] - 51s 847us/step - loss: 0.6931 - accuracy: 0.5082 - val_loss: 0.6924 - val_accuracy: 0.5199\n",
            "\n",
            "Epoch 00001: val_accuracy improved from -inf to 0.51987, saving model to /content/drive/My Drive/Data/Output060420/PairwiseModels/CascadeModel_S8_C3_4_Epochs20.h5\n",
            "Epoch 2/20\n",
            "60399/60399 [==============================] - 51s 843us/step - loss: 0.6925 - accuracy: 0.5198 - val_loss: 0.6910 - val_accuracy: 0.5353\n",
            "\n",
            "Epoch 00002: val_accuracy improved from 0.51987 to 0.53530, saving model to /content/drive/My Drive/Data/Output060420/PairwiseModels/CascadeModel_S8_C3_4_Epochs20.h5\n",
            "Epoch 3/20\n",
            "60399/60399 [==============================] - 50s 827us/step - loss: 0.6850 - accuracy: 0.5519 - val_loss: 0.6685 - val_accuracy: 0.5916\n",
            "\n",
            "Epoch 00003: val_accuracy improved from 0.53530 to 0.59159, saving model to /content/drive/My Drive/Data/Output060420/PairwiseModels/CascadeModel_S8_C3_4_Epochs20.h5\n",
            "Epoch 4/20\n",
            "60399/60399 [==============================] - 50s 832us/step - loss: 0.6428 - accuracy: 0.6230 - val_loss: 0.6140 - val_accuracy: 0.6455\n",
            "\n",
            "Epoch 00004: val_accuracy improved from 0.59159 to 0.64550, saving model to /content/drive/My Drive/Data/Output060420/PairwiseModels/CascadeModel_S8_C3_4_Epochs20.h5\n",
            "Epoch 5/20\n",
            "60399/60399 [==============================] - 50s 828us/step - loss: 0.5680 - accuracy: 0.6983 - val_loss: 0.5500 - val_accuracy: 0.7072\n",
            "\n",
            "Epoch 00005: val_accuracy improved from 0.64550 to 0.70715, saving model to /content/drive/My Drive/Data/Output060420/PairwiseModels/CascadeModel_S8_C3_4_Epochs20.h5\n",
            "Epoch 6/20\n",
            "60399/60399 [==============================] - 51s 850us/step - loss: 0.4731 - accuracy: 0.7714 - val_loss: 0.4918 - val_accuracy: 0.7519\n",
            "\n",
            "Epoch 00006: val_accuracy improved from 0.70715 to 0.75192, saving model to /content/drive/My Drive/Data/Output060420/PairwiseModels/CascadeModel_S8_C3_4_Epochs20.h5\n",
            "Epoch 7/20\n",
            "60399/60399 [==============================] - 50s 835us/step - loss: 0.3646 - accuracy: 0.8382 - val_loss: 0.4426 - val_accuracy: 0.7924\n",
            "\n",
            "Epoch 00007: val_accuracy improved from 0.75192 to 0.79238, saving model to /content/drive/My Drive/Data/Output060420/PairwiseModels/CascadeModel_S8_C3_4_Epochs20.h5\n",
            "Epoch 8/20\n",
            "60399/60399 [==============================] - 50s 827us/step - loss: 0.2603 - accuracy: 0.8929 - val_loss: 0.4084 - val_accuracy: 0.8224\n",
            "\n",
            "Epoch 00008: val_accuracy improved from 0.79238 to 0.82238, saving model to /content/drive/My Drive/Data/Output060420/PairwiseModels/CascadeModel_S8_C3_4_Epochs20.h5\n",
            "Epoch 9/20\n",
            "60399/60399 [==============================] - 50s 826us/step - loss: 0.1796 - accuracy: 0.9299 - val_loss: 0.4327 - val_accuracy: 0.8286\n",
            "\n",
            "Epoch 00009: val_accuracy improved from 0.82238 to 0.82861, saving model to /content/drive/My Drive/Data/Output060420/PairwiseModels/CascadeModel_S8_C3_4_Epochs20.h5\n",
            "Epoch 10/20\n",
            "60399/60399 [==============================] - 51s 839us/step - loss: 0.1334 - accuracy: 0.9492 - val_loss: 0.3936 - val_accuracy: 0.8543\n",
            "\n",
            "Epoch 00010: val_accuracy improved from 0.82861 to 0.85430, saving model to /content/drive/My Drive/Data/Output060420/PairwiseModels/CascadeModel_S8_C3_4_Epochs20.h5\n",
            "Epoch 11/20\n",
            "60399/60399 [==============================] - 50s 824us/step - loss: 0.1043 - accuracy: 0.9614 - val_loss: 0.4014 - val_accuracy: 0.8587\n",
            "\n",
            "Epoch 00011: val_accuracy improved from 0.85430 to 0.85874, saving model to /content/drive/My Drive/Data/Output060420/PairwiseModels/CascadeModel_S8_C3_4_Epochs20.h5\n",
            "Epoch 12/20\n",
            "60399/60399 [==============================] - 50s 820us/step - loss: 0.0834 - accuracy: 0.9688 - val_loss: 0.4037 - val_accuracy: 0.8600\n",
            "\n",
            "Epoch 00012: val_accuracy improved from 0.85874 to 0.86000, saving model to /content/drive/My Drive/Data/Output060420/PairwiseModels/CascadeModel_S8_C3_4_Epochs20.h5\n",
            "Epoch 13/20\n",
            "60399/60399 [==============================] - 50s 826us/step - loss: 0.0714 - accuracy: 0.9739 - val_loss: 0.4078 - val_accuracy: 0.8723\n",
            "\n",
            "Epoch 00013: val_accuracy improved from 0.86000 to 0.87232, saving model to /content/drive/My Drive/Data/Output060420/PairwiseModels/CascadeModel_S8_C3_4_Epochs20.h5\n",
            "Epoch 14/20\n",
            "60399/60399 [==============================] - 49s 819us/step - loss: 0.0644 - accuracy: 0.9767 - val_loss: 0.4056 - val_accuracy: 0.8701\n",
            "\n",
            "Epoch 00014: val_accuracy did not improve from 0.87232\n",
            "Epoch 15/20\n",
            "60399/60399 [==============================] - 51s 836us/step - loss: 0.0585 - accuracy: 0.9785 - val_loss: 0.4118 - val_accuracy: 0.8763\n",
            "\n",
            "Epoch 00015: val_accuracy improved from 0.87232 to 0.87629, saving model to /content/drive/My Drive/Data/Output060420/PairwiseModels/CascadeModel_S8_C3_4_Epochs20.h5\n",
            "Epoch 16/20\n",
            "60399/60399 [==============================] - 50s 827us/step - loss: 0.0538 - accuracy: 0.9807 - val_loss: 0.4121 - val_accuracy: 0.8765\n",
            "\n",
            "Epoch 00016: val_accuracy improved from 0.87629 to 0.87649, saving model to /content/drive/My Drive/Data/Output060420/PairwiseModels/CascadeModel_S8_C3_4_Epochs20.h5\n",
            "Epoch 17/20\n",
            "60399/60399 [==============================] - 50s 832us/step - loss: 0.0491 - accuracy: 0.9825 - val_loss: 0.4288 - val_accuracy: 0.8746\n",
            "\n",
            "Epoch 00017: val_accuracy did not improve from 0.87649\n",
            "Epoch 18/20\n",
            "60399/60399 [==============================] - 50s 825us/step - loss: 0.0456 - accuracy: 0.9835 - val_loss: 0.4472 - val_accuracy: 0.8744\n",
            "\n",
            "Epoch 00018: val_accuracy did not improve from 0.87649\n",
            "Epoch 19/20\n",
            "60399/60399 [==============================] - 50s 828us/step - loss: 0.0435 - accuracy: 0.9839 - val_loss: 0.4120 - val_accuracy: 0.8834\n",
            "\n",
            "Epoch 00019: val_accuracy improved from 0.87649 to 0.88344, saving model to /content/drive/My Drive/Data/Output060420/PairwiseModels/CascadeModel_S8_C3_4_Epochs20.h5\n"
          ],
          "name": "stdout"
        },
        {
          "output_type": "error",
          "ename": "OSError",
          "evalue": "ignored",
          "traceback": [
            "\u001b[0;31m---------------------------------------------------------------------------\u001b[0m",
            "\u001b[0;31mOSError\u001b[0m                                   Traceback (most recent call last)",
            "\u001b[0;32m<ipython-input-32-518b499265bc>\u001b[0m in \u001b[0;36m<module>\u001b[0;34m()\u001b[0m\n\u001b[1;32m     19\u001b[0m \u001b[0;34m\u001b[0m\u001b[0m\n\u001b[1;32m     20\u001b[0m       \u001b[0;31m# fit network\u001b[0m\u001b[0;34m\u001b[0m\u001b[0;34m\u001b[0m\u001b[0;34m\u001b[0m\u001b[0m\n\u001b[0;32m---> 21\u001b[0;31m       \u001b[0mhistory\u001b[0m \u001b[0;34m=\u001b[0m \u001b[0mmodel\u001b[0m\u001b[0;34m.\u001b[0m\u001b[0mfit\u001b[0m\u001b[0;34m(\u001b[0m\u001b[0mX_train\u001b[0m\u001b[0;34m,\u001b[0m \u001b[0my_train\u001b[0m\u001b[0;34m-\u001b[0m\u001b[0;36m1\u001b[0m\u001b[0;34m,\u001b[0m \u001b[0mepochs\u001b[0m\u001b[0;34m=\u001b[0m\u001b[0mnEpochs\u001b[0m\u001b[0;34m,\u001b[0m \u001b[0mbatch_size\u001b[0m\u001b[0;34m=\u001b[0m\u001b[0;36m64\u001b[0m\u001b[0;34m,\u001b[0m \u001b[0mverbose\u001b[0m\u001b[0;34m=\u001b[0m\u001b[0;36m1\u001b[0m\u001b[0;34m,\u001b[0m \u001b[0mvalidation_split\u001b[0m\u001b[0;34m=\u001b[0m\u001b[0;36m0.2\u001b[0m\u001b[0;34m,\u001b[0m \u001b[0mcallbacks\u001b[0m\u001b[0;34m=\u001b[0m\u001b[0;34m[\u001b[0m\u001b[0mcheckpoint\u001b[0m\u001b[0;34m,\u001b[0m \u001b[0mearly\u001b[0m\u001b[0;34m]\u001b[0m\u001b[0;34m)\u001b[0m\u001b[0;34m\u001b[0m\u001b[0;34m\u001b[0m\u001b[0m\n\u001b[0m\u001b[1;32m     22\u001b[0m       \u001b[0;31m# evaluate model\u001b[0m\u001b[0;34m\u001b[0m\u001b[0;34m\u001b[0m\u001b[0;34m\u001b[0m\u001b[0m\n\u001b[1;32m     23\u001b[0m       \u001b[0m_\u001b[0m\u001b[0;34m,\u001b[0m \u001b[0maccuracy\u001b[0m \u001b[0;34m=\u001b[0m \u001b[0mmodel\u001b[0m\u001b[0;34m.\u001b[0m\u001b[0mevaluate\u001b[0m\u001b[0;34m(\u001b[0m\u001b[0mX_test\u001b[0m\u001b[0;34m,\u001b[0m \u001b[0my_test\u001b[0m\u001b[0;34m-\u001b[0m\u001b[0;36m1\u001b[0m\u001b[0;34m,\u001b[0m \u001b[0mbatch_size\u001b[0m\u001b[0;34m=\u001b[0m\u001b[0;36m64\u001b[0m\u001b[0;34m,\u001b[0m \u001b[0mverbose\u001b[0m\u001b[0;34m=\u001b[0m\u001b[0;36m1\u001b[0m\u001b[0;34m)\u001b[0m\u001b[0;34m\u001b[0m\u001b[0;34m\u001b[0m\u001b[0m\n",
            "\u001b[0;32m/usr/local/lib/python3.6/dist-packages/keras/engine/training.py\u001b[0m in \u001b[0;36mfit\u001b[0;34m(self, x, y, batch_size, epochs, verbose, callbacks, validation_split, validation_data, shuffle, class_weight, sample_weight, initial_epoch, steps_per_epoch, validation_steps, validation_freq, max_queue_size, workers, use_multiprocessing, **kwargs)\u001b[0m\n\u001b[1;32m   1237\u001b[0m                                         \u001b[0msteps_per_epoch\u001b[0m\u001b[0;34m=\u001b[0m\u001b[0msteps_per_epoch\u001b[0m\u001b[0;34m,\u001b[0m\u001b[0;34m\u001b[0m\u001b[0;34m\u001b[0m\u001b[0m\n\u001b[1;32m   1238\u001b[0m                                         \u001b[0mvalidation_steps\u001b[0m\u001b[0;34m=\u001b[0m\u001b[0mvalidation_steps\u001b[0m\u001b[0;34m,\u001b[0m\u001b[0;34m\u001b[0m\u001b[0;34m\u001b[0m\u001b[0m\n\u001b[0;32m-> 1239\u001b[0;31m                                         validation_freq=validation_freq)\n\u001b[0m\u001b[1;32m   1240\u001b[0m \u001b[0;34m\u001b[0m\u001b[0m\n\u001b[1;32m   1241\u001b[0m     def evaluate(self,\n",
            "\u001b[0;32m/usr/local/lib/python3.6/dist-packages/keras/engine/training_arrays.py\u001b[0m in \u001b[0;36mfit_loop\u001b[0;34m(model, fit_function, fit_inputs, out_labels, batch_size, epochs, verbose, callbacks, val_function, val_inputs, shuffle, initial_epoch, steps_per_epoch, validation_steps, validation_freq)\u001b[0m\n\u001b[1;32m    214\u001b[0m                         \u001b[0mepoch_logs\u001b[0m\u001b[0;34m[\u001b[0m\u001b[0;34m'val_'\u001b[0m \u001b[0;34m+\u001b[0m \u001b[0ml\u001b[0m\u001b[0;34m]\u001b[0m \u001b[0;34m=\u001b[0m \u001b[0mo\u001b[0m\u001b[0;34m\u001b[0m\u001b[0;34m\u001b[0m\u001b[0m\n\u001b[1;32m    215\u001b[0m \u001b[0;34m\u001b[0m\u001b[0m\n\u001b[0;32m--> 216\u001b[0;31m         \u001b[0mcallbacks\u001b[0m\u001b[0;34m.\u001b[0m\u001b[0mon_epoch_end\u001b[0m\u001b[0;34m(\u001b[0m\u001b[0mepoch\u001b[0m\u001b[0;34m,\u001b[0m \u001b[0mepoch_logs\u001b[0m\u001b[0;34m)\u001b[0m\u001b[0;34m\u001b[0m\u001b[0;34m\u001b[0m\u001b[0m\n\u001b[0m\u001b[1;32m    217\u001b[0m         \u001b[0;32mif\u001b[0m \u001b[0mcallbacks\u001b[0m\u001b[0;34m.\u001b[0m\u001b[0mmodel\u001b[0m\u001b[0;34m.\u001b[0m\u001b[0mstop_training\u001b[0m\u001b[0;34m:\u001b[0m\u001b[0;34m\u001b[0m\u001b[0;34m\u001b[0m\u001b[0m\n\u001b[1;32m    218\u001b[0m             \u001b[0;32mbreak\u001b[0m\u001b[0;34m\u001b[0m\u001b[0;34m\u001b[0m\u001b[0m\n",
            "\u001b[0;32m/usr/local/lib/python3.6/dist-packages/keras/callbacks/callbacks.py\u001b[0m in \u001b[0;36mon_epoch_end\u001b[0;34m(self, epoch, logs)\u001b[0m\n\u001b[1;32m    150\u001b[0m         \u001b[0mlogs\u001b[0m \u001b[0;34m=\u001b[0m \u001b[0mlogs\u001b[0m \u001b[0;32mor\u001b[0m \u001b[0;34m{\u001b[0m\u001b[0;34m}\u001b[0m\u001b[0;34m\u001b[0m\u001b[0;34m\u001b[0m\u001b[0m\n\u001b[1;32m    151\u001b[0m         \u001b[0;32mfor\u001b[0m \u001b[0mcallback\u001b[0m \u001b[0;32min\u001b[0m \u001b[0mself\u001b[0m\u001b[0;34m.\u001b[0m\u001b[0mcallbacks\u001b[0m\u001b[0;34m:\u001b[0m\u001b[0;34m\u001b[0m\u001b[0;34m\u001b[0m\u001b[0m\n\u001b[0;32m--> 152\u001b[0;31m             \u001b[0mcallback\u001b[0m\u001b[0;34m.\u001b[0m\u001b[0mon_epoch_end\u001b[0m\u001b[0;34m(\u001b[0m\u001b[0mepoch\u001b[0m\u001b[0;34m,\u001b[0m \u001b[0mlogs\u001b[0m\u001b[0;34m)\u001b[0m\u001b[0;34m\u001b[0m\u001b[0;34m\u001b[0m\u001b[0m\n\u001b[0m\u001b[1;32m    153\u001b[0m \u001b[0;34m\u001b[0m\u001b[0m\n\u001b[1;32m    154\u001b[0m     \u001b[0;32mdef\u001b[0m \u001b[0mon_train_batch_begin\u001b[0m\u001b[0;34m(\u001b[0m\u001b[0mself\u001b[0m\u001b[0;34m,\u001b[0m \u001b[0mbatch\u001b[0m\u001b[0;34m,\u001b[0m \u001b[0mlogs\u001b[0m\u001b[0;34m=\u001b[0m\u001b[0;32mNone\u001b[0m\u001b[0;34m)\u001b[0m\u001b[0;34m:\u001b[0m\u001b[0;34m\u001b[0m\u001b[0;34m\u001b[0m\u001b[0m\n",
            "\u001b[0;32m/usr/local/lib/python3.6/dist-packages/keras/callbacks/callbacks.py\u001b[0m in \u001b[0;36mon_epoch_end\u001b[0;34m(self, epoch, logs)\u001b[0m\n\u001b[1;32m    717\u001b[0m                             \u001b[0mself\u001b[0m\u001b[0;34m.\u001b[0m\u001b[0mmodel\u001b[0m\u001b[0;34m.\u001b[0m\u001b[0msave_weights\u001b[0m\u001b[0;34m(\u001b[0m\u001b[0mfilepath\u001b[0m\u001b[0;34m,\u001b[0m \u001b[0moverwrite\u001b[0m\u001b[0;34m=\u001b[0m\u001b[0;32mTrue\u001b[0m\u001b[0;34m)\u001b[0m\u001b[0;34m\u001b[0m\u001b[0;34m\u001b[0m\u001b[0m\n\u001b[1;32m    718\u001b[0m                         \u001b[0;32melse\u001b[0m\u001b[0;34m:\u001b[0m\u001b[0;34m\u001b[0m\u001b[0;34m\u001b[0m\u001b[0m\n\u001b[0;32m--> 719\u001b[0;31m                             \u001b[0mself\u001b[0m\u001b[0;34m.\u001b[0m\u001b[0mmodel\u001b[0m\u001b[0;34m.\u001b[0m\u001b[0msave\u001b[0m\u001b[0;34m(\u001b[0m\u001b[0mfilepath\u001b[0m\u001b[0;34m,\u001b[0m \u001b[0moverwrite\u001b[0m\u001b[0;34m=\u001b[0m\u001b[0;32mTrue\u001b[0m\u001b[0;34m)\u001b[0m\u001b[0;34m\u001b[0m\u001b[0;34m\u001b[0m\u001b[0m\n\u001b[0m\u001b[1;32m    720\u001b[0m                     \u001b[0;32melse\u001b[0m\u001b[0;34m:\u001b[0m\u001b[0;34m\u001b[0m\u001b[0;34m\u001b[0m\u001b[0m\n\u001b[1;32m    721\u001b[0m                         \u001b[0;32mif\u001b[0m \u001b[0mself\u001b[0m\u001b[0;34m.\u001b[0m\u001b[0mverbose\u001b[0m \u001b[0;34m>\u001b[0m \u001b[0;36m0\u001b[0m\u001b[0;34m:\u001b[0m\u001b[0;34m\u001b[0m\u001b[0;34m\u001b[0m\u001b[0m\n",
            "\u001b[0;32m/usr/local/lib/python3.6/dist-packages/keras/engine/network.py\u001b[0m in \u001b[0;36msave\u001b[0;34m(self, filepath, overwrite, include_optimizer)\u001b[0m\n\u001b[1;32m   1150\u001b[0m             \u001b[0;32mraise\u001b[0m \u001b[0mNotImplementedError\u001b[0m\u001b[0;34m\u001b[0m\u001b[0;34m\u001b[0m\u001b[0m\n\u001b[1;32m   1151\u001b[0m         \u001b[0;32mfrom\u001b[0m \u001b[0;34m.\u001b[0m\u001b[0;34m.\u001b[0m\u001b[0mmodels\u001b[0m \u001b[0;32mimport\u001b[0m \u001b[0msave_model\u001b[0m\u001b[0;34m\u001b[0m\u001b[0;34m\u001b[0m\u001b[0m\n\u001b[0;32m-> 1152\u001b[0;31m         \u001b[0msave_model\u001b[0m\u001b[0;34m(\u001b[0m\u001b[0mself\u001b[0m\u001b[0;34m,\u001b[0m \u001b[0mfilepath\u001b[0m\u001b[0;34m,\u001b[0m \u001b[0moverwrite\u001b[0m\u001b[0;34m,\u001b[0m \u001b[0minclude_optimizer\u001b[0m\u001b[0;34m)\u001b[0m\u001b[0;34m\u001b[0m\u001b[0;34m\u001b[0m\u001b[0m\n\u001b[0m\u001b[1;32m   1153\u001b[0m \u001b[0;34m\u001b[0m\u001b[0m\n\u001b[1;32m   1154\u001b[0m     \u001b[0;34m@\u001b[0m\u001b[0msaving\u001b[0m\u001b[0;34m.\u001b[0m\u001b[0mallow_write_to_gcs\u001b[0m\u001b[0;34m\u001b[0m\u001b[0;34m\u001b[0m\u001b[0m\n",
            "\u001b[0;32m/usr/local/lib/python3.6/dist-packages/keras/engine/saving.py\u001b[0m in \u001b[0;36msave_wrapper\u001b[0;34m(obj, filepath, overwrite, *args, **kwargs)\u001b[0m\n\u001b[1;32m    447\u001b[0m                 \u001b[0mos\u001b[0m\u001b[0;34m.\u001b[0m\u001b[0mremove\u001b[0m\u001b[0;34m(\u001b[0m\u001b[0mtmp_filepath\u001b[0m\u001b[0;34m)\u001b[0m\u001b[0;34m\u001b[0m\u001b[0;34m\u001b[0m\u001b[0m\n\u001b[1;32m    448\u001b[0m         \u001b[0;32melse\u001b[0m\u001b[0;34m:\u001b[0m\u001b[0;34m\u001b[0m\u001b[0;34m\u001b[0m\u001b[0m\n\u001b[0;32m--> 449\u001b[0;31m             \u001b[0msave_function\u001b[0m\u001b[0;34m(\u001b[0m\u001b[0mobj\u001b[0m\u001b[0;34m,\u001b[0m \u001b[0mfilepath\u001b[0m\u001b[0;34m,\u001b[0m \u001b[0moverwrite\u001b[0m\u001b[0;34m,\u001b[0m \u001b[0;34m*\u001b[0m\u001b[0margs\u001b[0m\u001b[0;34m,\u001b[0m \u001b[0;34m**\u001b[0m\u001b[0mkwargs\u001b[0m\u001b[0;34m)\u001b[0m\u001b[0;34m\u001b[0m\u001b[0;34m\u001b[0m\u001b[0m\n\u001b[0m\u001b[1;32m    450\u001b[0m \u001b[0;34m\u001b[0m\u001b[0m\n\u001b[1;32m    451\u001b[0m     \u001b[0;32mreturn\u001b[0m \u001b[0msave_wrapper\u001b[0m\u001b[0;34m\u001b[0m\u001b[0;34m\u001b[0m\u001b[0m\n",
            "\u001b[0;32m/usr/local/lib/python3.6/dist-packages/keras/engine/saving.py\u001b[0m in \u001b[0;36msave_model\u001b[0;34m(model, filepath, overwrite, include_optimizer)\u001b[0m\n\u001b[1;32m    538\u001b[0m             \u001b[0;32mif\u001b[0m \u001b[0;32mnot\u001b[0m \u001b[0mproceed\u001b[0m\u001b[0;34m:\u001b[0m\u001b[0;34m\u001b[0m\u001b[0;34m\u001b[0m\u001b[0m\n\u001b[1;32m    539\u001b[0m                 \u001b[0;32mreturn\u001b[0m\u001b[0;34m\u001b[0m\u001b[0;34m\u001b[0m\u001b[0m\n\u001b[0;32m--> 540\u001b[0;31m         \u001b[0;32mwith\u001b[0m \u001b[0mH5Dict\u001b[0m\u001b[0;34m(\u001b[0m\u001b[0mfilepath\u001b[0m\u001b[0;34m,\u001b[0m \u001b[0mmode\u001b[0m\u001b[0;34m=\u001b[0m\u001b[0;34m'w'\u001b[0m\u001b[0;34m)\u001b[0m \u001b[0;32mas\u001b[0m \u001b[0mh5dict\u001b[0m\u001b[0;34m:\u001b[0m\u001b[0;34m\u001b[0m\u001b[0;34m\u001b[0m\u001b[0m\n\u001b[0m\u001b[1;32m    541\u001b[0m             \u001b[0m_serialize_model\u001b[0m\u001b[0;34m(\u001b[0m\u001b[0mmodel\u001b[0m\u001b[0;34m,\u001b[0m \u001b[0mh5dict\u001b[0m\u001b[0;34m,\u001b[0m \u001b[0minclude_optimizer\u001b[0m\u001b[0;34m)\u001b[0m\u001b[0;34m\u001b[0m\u001b[0;34m\u001b[0m\u001b[0m\n\u001b[1;32m    542\u001b[0m     \u001b[0;32melif\u001b[0m \u001b[0mhasattr\u001b[0m\u001b[0;34m(\u001b[0m\u001b[0mfilepath\u001b[0m\u001b[0;34m,\u001b[0m \u001b[0;34m'write'\u001b[0m\u001b[0;34m)\u001b[0m \u001b[0;32mand\u001b[0m \u001b[0mcallable\u001b[0m\u001b[0;34m(\u001b[0m\u001b[0mfilepath\u001b[0m\u001b[0;34m.\u001b[0m\u001b[0mwrite\u001b[0m\u001b[0;34m)\u001b[0m\u001b[0;34m:\u001b[0m\u001b[0;34m\u001b[0m\u001b[0;34m\u001b[0m\u001b[0m\n",
            "\u001b[0;32m/usr/local/lib/python3.6/dist-packages/keras/utils/io_utils.py\u001b[0m in \u001b[0;36m__init__\u001b[0;34m(self, path, mode)\u001b[0m\n\u001b[1;32m    189\u001b[0m             \u001b[0mself\u001b[0m\u001b[0;34m.\u001b[0m\u001b[0m_is_file\u001b[0m \u001b[0;34m=\u001b[0m \u001b[0;32mFalse\u001b[0m\u001b[0;34m\u001b[0m\u001b[0;34m\u001b[0m\u001b[0m\n\u001b[1;32m    190\u001b[0m         \u001b[0;32melif\u001b[0m \u001b[0misinstance\u001b[0m\u001b[0;34m(\u001b[0m\u001b[0mpath\u001b[0m\u001b[0;34m,\u001b[0m \u001b[0msix\u001b[0m\u001b[0;34m.\u001b[0m\u001b[0mstring_types\u001b[0m\u001b[0;34m)\u001b[0m \u001b[0;32mor\u001b[0m \u001b[0m_is_path_instance\u001b[0m\u001b[0;34m(\u001b[0m\u001b[0mpath\u001b[0m\u001b[0;34m)\u001b[0m\u001b[0;34m:\u001b[0m\u001b[0;34m\u001b[0m\u001b[0;34m\u001b[0m\u001b[0m\n\u001b[0;32m--> 191\u001b[0;31m             \u001b[0mself\u001b[0m\u001b[0;34m.\u001b[0m\u001b[0mdata\u001b[0m \u001b[0;34m=\u001b[0m \u001b[0mh5py\u001b[0m\u001b[0;34m.\u001b[0m\u001b[0mFile\u001b[0m\u001b[0;34m(\u001b[0m\u001b[0mpath\u001b[0m\u001b[0;34m,\u001b[0m \u001b[0mmode\u001b[0m\u001b[0;34m=\u001b[0m\u001b[0mmode\u001b[0m\u001b[0;34m)\u001b[0m\u001b[0;34m\u001b[0m\u001b[0;34m\u001b[0m\u001b[0m\n\u001b[0m\u001b[1;32m    192\u001b[0m             \u001b[0mself\u001b[0m\u001b[0;34m.\u001b[0m\u001b[0m_is_file\u001b[0m \u001b[0;34m=\u001b[0m \u001b[0;32mTrue\u001b[0m\u001b[0;34m\u001b[0m\u001b[0;34m\u001b[0m\u001b[0m\n\u001b[1;32m    193\u001b[0m         \u001b[0;32melif\u001b[0m \u001b[0misinstance\u001b[0m\u001b[0;34m(\u001b[0m\u001b[0mpath\u001b[0m\u001b[0;34m,\u001b[0m \u001b[0mdict\u001b[0m\u001b[0;34m)\u001b[0m\u001b[0;34m:\u001b[0m\u001b[0;34m\u001b[0m\u001b[0;34m\u001b[0m\u001b[0m\n",
            "\u001b[0;32m/usr/local/lib/python3.6/dist-packages/h5py/_hl/files.py\u001b[0m in \u001b[0;36m__init__\u001b[0;34m(self, name, mode, driver, libver, userblock_size, swmr, rdcc_nslots, rdcc_nbytes, rdcc_w0, track_order, **kwds)\u001b[0m\n\u001b[1;32m    406\u001b[0m                 fid = make_fid(name, mode, userblock_size,\n\u001b[1;32m    407\u001b[0m                                \u001b[0mfapl\u001b[0m\u001b[0;34m,\u001b[0m \u001b[0mfcpl\u001b[0m\u001b[0;34m=\u001b[0m\u001b[0mmake_fcpl\u001b[0m\u001b[0;34m(\u001b[0m\u001b[0mtrack_order\u001b[0m\u001b[0;34m=\u001b[0m\u001b[0mtrack_order\u001b[0m\u001b[0;34m)\u001b[0m\u001b[0;34m,\u001b[0m\u001b[0;34m\u001b[0m\u001b[0;34m\u001b[0m\u001b[0m\n\u001b[0;32m--> 408\u001b[0;31m                                swmr=swmr)\n\u001b[0m\u001b[1;32m    409\u001b[0m \u001b[0;34m\u001b[0m\u001b[0m\n\u001b[1;32m    410\u001b[0m             \u001b[0;32mif\u001b[0m \u001b[0misinstance\u001b[0m\u001b[0;34m(\u001b[0m\u001b[0mlibver\u001b[0m\u001b[0;34m,\u001b[0m \u001b[0mtuple\u001b[0m\u001b[0;34m)\u001b[0m\u001b[0;34m:\u001b[0m\u001b[0;34m\u001b[0m\u001b[0;34m\u001b[0m\u001b[0m\n",
            "\u001b[0;32m/usr/local/lib/python3.6/dist-packages/h5py/_hl/files.py\u001b[0m in \u001b[0;36mmake_fid\u001b[0;34m(name, mode, userblock_size, fapl, fcpl, swmr)\u001b[0m\n\u001b[1;32m    177\u001b[0m         \u001b[0mfid\u001b[0m \u001b[0;34m=\u001b[0m \u001b[0mh5f\u001b[0m\u001b[0;34m.\u001b[0m\u001b[0mcreate\u001b[0m\u001b[0;34m(\u001b[0m\u001b[0mname\u001b[0m\u001b[0;34m,\u001b[0m \u001b[0mh5f\u001b[0m\u001b[0;34m.\u001b[0m\u001b[0mACC_EXCL\u001b[0m\u001b[0;34m,\u001b[0m \u001b[0mfapl\u001b[0m\u001b[0;34m=\u001b[0m\u001b[0mfapl\u001b[0m\u001b[0;34m,\u001b[0m \u001b[0mfcpl\u001b[0m\u001b[0;34m=\u001b[0m\u001b[0mfcpl\u001b[0m\u001b[0;34m)\u001b[0m\u001b[0;34m\u001b[0m\u001b[0;34m\u001b[0m\u001b[0m\n\u001b[1;32m    178\u001b[0m     \u001b[0;32melif\u001b[0m \u001b[0mmode\u001b[0m \u001b[0;34m==\u001b[0m \u001b[0;34m'w'\u001b[0m\u001b[0;34m:\u001b[0m\u001b[0;34m\u001b[0m\u001b[0;34m\u001b[0m\u001b[0m\n\u001b[0;32m--> 179\u001b[0;31m         \u001b[0mfid\u001b[0m \u001b[0;34m=\u001b[0m \u001b[0mh5f\u001b[0m\u001b[0;34m.\u001b[0m\u001b[0mcreate\u001b[0m\u001b[0;34m(\u001b[0m\u001b[0mname\u001b[0m\u001b[0;34m,\u001b[0m \u001b[0mh5f\u001b[0m\u001b[0;34m.\u001b[0m\u001b[0mACC_TRUNC\u001b[0m\u001b[0;34m,\u001b[0m \u001b[0mfapl\u001b[0m\u001b[0;34m=\u001b[0m\u001b[0mfapl\u001b[0m\u001b[0;34m,\u001b[0m \u001b[0mfcpl\u001b[0m\u001b[0;34m=\u001b[0m\u001b[0mfcpl\u001b[0m\u001b[0;34m)\u001b[0m\u001b[0;34m\u001b[0m\u001b[0;34m\u001b[0m\u001b[0m\n\u001b[0m\u001b[1;32m    180\u001b[0m     \u001b[0;32melif\u001b[0m \u001b[0mmode\u001b[0m \u001b[0;34m==\u001b[0m \u001b[0;34m'a'\u001b[0m\u001b[0;34m:\u001b[0m\u001b[0;34m\u001b[0m\u001b[0;34m\u001b[0m\u001b[0m\n\u001b[1;32m    181\u001b[0m         \u001b[0;31m# Open in append mode (read/write).\u001b[0m\u001b[0;34m\u001b[0m\u001b[0;34m\u001b[0m\u001b[0;34m\u001b[0m\u001b[0m\n",
            "\u001b[0;32mh5py/_objects.pyx\u001b[0m in \u001b[0;36mh5py._objects.with_phil.wrapper\u001b[0;34m()\u001b[0m\n",
            "\u001b[0;32mh5py/_objects.pyx\u001b[0m in \u001b[0;36mh5py._objects.with_phil.wrapper\u001b[0;34m()\u001b[0m\n",
            "\u001b[0;32mh5py/h5f.pyx\u001b[0m in \u001b[0;36mh5py.h5f.create\u001b[0;34m()\u001b[0m\n",
            "\u001b[0;31mOSError\u001b[0m: Unable to create file (unable to open file: name = '/content/drive/My Drive/Data/Output060420/PairwiseModels/CascadeModel_S8_C3_4_Epochs20.h5', errno = 2, error message = 'No such file or directory', flags = 13, o_flags = 242)"
          ]
        }
      ]
    },
    {
      "cell_type": "code",
      "metadata": {
        "id": "3d3vmvFXuUxS",
        "colab_type": "code",
        "colab": {
          "base_uri": "https://localhost:8080/",
          "height": 391
        },
        "outputId": "e0087a70-bf9c-40c7-c7fa-e915609ac377"
      },
      "source": [
        "df2 = pd.read_csv(output_dir+\"/Pairwise_fit.csv\")\n",
        "print(df2)\n",
        "print(df2.to_numpy())\n",
        "print(accuracyPairwise)"
      ],
      "execution_count": 28,
      "outputs": [
        {
          "output_type": "stream",
          "text": [
            "     0    1    2    3    4    5    6\n",
            "0  0.0  0.0  0.0  0.0  0.0  0.0  0.0\n",
            "1  0.0  0.0  0.0  0.0  0.0  0.0  0.0\n",
            "2  0.0  0.0  0.0  0.0  0.0  0.0  0.0\n",
            "3  0.0  0.0  0.0  0.0  0.0  0.0  0.0\n",
            "4  0.0  0.0  0.0  0.0  0.0  0.0  0.0\n",
            "5  0.0  0.0  0.0  0.0  0.0  0.0  0.0\n",
            "6  0.0  0.0  0.0  0.0  0.0  0.0  0.0\n",
            "[[0. 0. 0. 0. 0. 0. 0.]\n",
            " [0. 0. 0. 0. 0. 0. 0.]\n",
            " [0. 0. 0. 0. 0. 0. 0.]\n",
            " [0. 0. 0. 0. 0. 0. 0.]\n",
            " [0. 0. 0. 0. 0. 0. 0.]\n",
            " [0. 0. 0. 0. 0. 0. 0.]\n",
            " [0. 0. 0. 0. 0. 0. 0.]]\n",
            "[[0. 0. 0. 0. 0. 0. 0.]\n",
            " [0. 0. 0. 0. 0. 0. 0.]\n",
            " [0. 0. 0. 0. 0. 0. 0.]\n",
            " [0. 0. 0. 0. 0. 0. 0.]\n",
            " [0. 0. 0. 0. 0. 0. 0.]\n",
            " [0. 0. 0. 0. 0. 0. 0.]\n",
            " [0. 0. 0. 0. 0. 0. 0.]]\n"
          ],
          "name": "stdout"
        }
      ]
    },
    {
      "cell_type": "markdown",
      "metadata": {
        "id": "ME4lzWHfgYk4",
        "colab_type": "text"
      },
      "source": [
        "# Plot the Heatmap of pairwise comparisons"
      ]
    },
    {
      "cell_type": "code",
      "metadata": {
        "id": "j-DN9PN7gXe6",
        "colab_type": "code",
        "outputId": "ca1fa804-afd2-4fb9-8879-72dac91b10fc",
        "colab": {
          "base_uri": "https://localhost:8080/",
          "height": 309
        }
      },
      "source": [
        "plt.figure(figsize = (5,5))\n",
        "plt.imshow(accuracyPairwise+np.transpose(accuracyPairwise), cmap='hot', interpolation='nearest')\n",
        "plt.colorbar()\n",
        "plt.show()"
      ],
      "execution_count": 0,
      "outputs": [
        {
          "output_type": "display_data",
          "data": {
            "image/png": "[encoded data removed]",
            "text/plain": [
              "<Figure size 360x360 with 2 Axes>"
            ]
          },
          "metadata": {
            "tags": [],
            "needs_background": "light"
          }
        }
      ]
    },
    {
      "cell_type": "markdown",
      "metadata": {
        "id": "Gw6jvAcUifz7",
        "colab_type": "text"
      },
      "source": [
        "# Train model on all classes"
      ]
    },
    {
      "cell_type": "code",
      "metadata": {
        "id": "vq4PxId-gzOy",
        "colab_type": "code",
        "outputId": "213be2a9-f46d-42a7-c333-a49c39b9dcab",
        "colab": {
          "base_uri": "https://localhost:8080/",
          "height": 1000
        }
      },
      "source": [
        "class2Cons = [1,2,3,4,5,6,7]\n",
        "nClasses = len(class2Cons)\n",
        "display(class2Cons)\n",
        "\n",
        "X_train, X_test, y_train, y_test = setupDataForNetwork(ME_db_2Dmesh, class2Cons, S, S//2, nTrial_class)\n",
        "Dataset = [X_train, X_test, y_train, y_test]\n",
        "# save the fitting history to a file\n",
        "with open(output_dir+\"/CascadeModel_trainData.pickle\", 'wb') as file_pi:\n",
        "  pickle.dump(Dataset, file_pi)\n",
        "\n",
        "# define model\n",
        "model = cascadeModel(X_train, nClasses, dropout_rate=dropout_rate, opt=keras.optimizers.Adam(learning_rate=learning_rate))\n",
        "\n",
        "# define early stopping and checkpoints\n",
        "from keras.callbacks import ModelCheckpoint, EarlyStopping\n",
        "outputFile = output_dir+\"/CascadeModel_S\"+str(S)+\"_C1to7_\"+\"Epochs\"+str(nEpochs)+\".h5\"\n",
        "checkpoint = ModelCheckpoint(outputFile, monitor='val_accuracy', verbose=1, save_best_only=True, save_weights_only=False, mode='auto', period=1)\n",
        "early = EarlyStopping(monitor='val_accuracy', min_delta=0, patience=20, verbose=1, mode='auto')\n",
        "\n",
        "# fit network\n",
        "targetsOneHot = to_categorical(y_train-1)\n",
        "history = model.fit(X_train, targetsOneHot, epochs=nEpochs, batch_size=64, verbose=1, validation_split=0.2, callbacks=[checkpoint, early])\n",
        "# evaluate model\n",
        "targetsOneHot = to_categorical(y_test-1)\n",
        "_, accuracy = model.evaluate(X_test, targetsOneHot, batch_size=64, verbose=1)\n",
        "display(accuracy)\n",
        "\n",
        "\n",
        "\n",
        "# save the fitting history to a file\n",
        "with open(output_dir+\"/CascadeModel_trainHistoryDict\", 'wb') as file_pi:\n",
        "  pickle.dump(history.history, file_pi)\n",
        "\n"
      ],
      "execution_count": 11,
      "outputs": [
        {
          "output_type": "display_data",
          "data": {
            "text/plain": [
              "[1, 2, 3, 4, 5, 6, 7]"
            ]
          },
          "metadata": {
            "tags": []
          }
        },
        {
          "output_type": "stream",
          "text": [
            "Train on 211397 samples, validate on 52850 samples\n",
            "Epoch 1/50\n",
            "211397/211397 [==============================] - 167s 791us/step - loss: 1.9244 - accuracy: 0.1794 - val_loss: 1.8742 - val_accuracy: 0.2289\n",
            "\n",
            "Epoch 00001: val_accuracy improved from -inf to 0.22889, saving model to /content/drive/My Drive/Data/Output060520/CascadeModel_S8_C1to7_Epochs50.h5\n",
            "Epoch 2/50\n",
            "   192/211397 [..............................] - ETA: 2:58 - loss: 1.8891 - accuracy: 0.2240"
          ],
          "name": "stdout"
        },
        {
          "output_type": "stream",
          "text": [
            "/usr/local/lib/python3.6/dist-packages/keras/engine/saving.py:165: UserWarning: TensorFlow optimizers do not make it possible to access optimizer attributes or optimizer state after instantiation. As a result, we cannot save the optimizer as part of the model save file.You will have to compile your model again after loading it. Prefer using a Keras optimizer instead (see keras.io/optimizers).\n",
            "  'TensorFlow optimizers do not '\n"
          ],
          "name": "stderr"
        },
        {
          "output_type": "stream",
          "text": [
            "211397/211397 [==============================] - 161s 762us/step - loss: 1.8257 - accuracy: 0.2593 - val_loss: 1.7399 - val_accuracy: 0.3167\n",
            "\n",
            "Epoch 00002: val_accuracy improved from 0.22889 to 0.31671, saving model to /content/drive/My Drive/Data/Output060520/CascadeModel_S8_C1to7_Epochs50.h5\n",
            "Epoch 3/50\n",
            "211397/211397 [==============================] - 162s 765us/step - loss: 1.6624 - accuracy: 0.3557 - val_loss: 1.5863 - val_accuracy: 0.3902\n",
            "\n",
            "Epoch 00003: val_accuracy improved from 0.31671 to 0.39018, saving model to /content/drive/My Drive/Data/Output060520/CascadeModel_S8_C1to7_Epochs50.h5\n",
            "Epoch 4/50\n",
            "211397/211397 [==============================] - 161s 760us/step - loss: 1.4426 - accuracy: 0.4623 - val_loss: 1.4193 - val_accuracy: 0.4661\n",
            "\n",
            "Epoch 00004: val_accuracy improved from 0.39018 to 0.46611, saving model to /content/drive/My Drive/Data/Output060520/CascadeModel_S8_C1to7_Epochs50.h5\n",
            "Epoch 5/50\n",
            "211397/211397 [==============================] - 162s 766us/step - loss: 1.2035 - accuracy: 0.5666 - val_loss: 1.2579 - val_accuracy: 0.5389\n",
            "\n",
            "Epoch 00005: val_accuracy improved from 0.46611 to 0.53886, saving model to /content/drive/My Drive/Data/Output060520/CascadeModel_S8_C1to7_Epochs50.h5\n",
            "Epoch 6/50\n",
            "211397/211397 [==============================] - 160s 756us/step - loss: 0.9759 - accuracy: 0.6578 - val_loss: 1.1337 - val_accuracy: 0.5917\n",
            "\n",
            "Epoch 00006: val_accuracy improved from 0.53886 to 0.59171, saving model to /content/drive/My Drive/Data/Output060520/CascadeModel_S8_C1to7_Epochs50.h5\n",
            "Epoch 7/50\n",
            "211397/211397 [==============================] - 161s 764us/step - loss: 0.7821 - accuracy: 0.7310 - val_loss: 1.0291 - val_accuracy: 0.6374\n",
            "\n",
            "Epoch 00007: val_accuracy improved from 0.59171 to 0.63739, saving model to /content/drive/My Drive/Data/Output060520/CascadeModel_S8_C1to7_Epochs50.h5\n",
            "Epoch 8/50\n",
            "211397/211397 [==============================] - 158s 748us/step - loss: 0.6290 - accuracy: 0.7876 - val_loss: 0.9673 - val_accuracy: 0.6732\n",
            "\n",
            "Epoch 00008: val_accuracy improved from 0.63739 to 0.67323, saving model to /content/drive/My Drive/Data/Output060520/CascadeModel_S8_C1to7_Epochs50.h5\n",
            "Epoch 9/50\n",
            "211397/211397 [==============================] - 159s 753us/step - loss: 0.5074 - accuracy: 0.8316 - val_loss: 0.9423 - val_accuracy: 0.6940\n",
            "\n",
            "Epoch 00009: val_accuracy improved from 0.67323 to 0.69402, saving model to /content/drive/My Drive/Data/Output060520/CascadeModel_S8_C1to7_Epochs50.h5\n",
            "Epoch 10/50\n",
            "211397/211397 [==============================] - 161s 762us/step - loss: 0.4199 - accuracy: 0.8628 - val_loss: 0.8793 - val_accuracy: 0.7221\n",
            "\n",
            "Epoch 00010: val_accuracy improved from 0.69402 to 0.72206, saving model to /content/drive/My Drive/Data/Output060520/CascadeModel_S8_C1to7_Epochs50.h5\n",
            "Epoch 11/50\n",
            "211397/211397 [==============================] - 160s 758us/step - loss: 0.3575 - accuracy: 0.8845 - val_loss: 0.8727 - val_accuracy: 0.7309\n",
            "\n",
            "Epoch 00011: val_accuracy improved from 0.72206 to 0.73090, saving model to /content/drive/My Drive/Data/Output060520/CascadeModel_S8_C1to7_Epochs50.h5\n",
            "Epoch 12/50\n",
            "211397/211397 [==============================] - 161s 763us/step - loss: 0.3069 - accuracy: 0.9000 - val_loss: 0.8359 - val_accuracy: 0.7485\n",
            "\n",
            "Epoch 00012: val_accuracy improved from 0.73090 to 0.74853, saving model to /content/drive/My Drive/Data/Output060520/CascadeModel_S8_C1to7_Epochs50.h5\n",
            "Epoch 13/50\n",
            "211397/211397 [==============================] - 161s 762us/step - loss: 0.2723 - accuracy: 0.9131 - val_loss: 0.8262 - val_accuracy: 0.7588\n",
            "\n",
            "Epoch 00013: val_accuracy improved from 0.74853 to 0.75883, saving model to /content/drive/My Drive/Data/Output060520/CascadeModel_S8_C1to7_Epochs50.h5\n",
            "Epoch 14/50\n",
            "211397/211397 [==============================] - 161s 759us/step - loss: 0.2448 - accuracy: 0.9219 - val_loss: 0.8362 - val_accuracy: 0.7607\n",
            "\n",
            "Epoch 00014: val_accuracy improved from 0.75883 to 0.76074, saving model to /content/drive/My Drive/Data/Output060520/CascadeModel_S8_C1to7_Epochs50.h5\n",
            "Epoch 15/50\n",
            "211397/211397 [==============================] - 162s 767us/step - loss: 0.2220 - accuracy: 0.9297 - val_loss: 0.8108 - val_accuracy: 0.7686\n",
            "\n",
            "Epoch 00015: val_accuracy improved from 0.76074 to 0.76861, saving model to /content/drive/My Drive/Data/Output060520/CascadeModel_S8_C1to7_Epochs50.h5\n",
            "Epoch 16/50\n",
            "211397/211397 [==============================] - 160s 756us/step - loss: 0.2018 - accuracy: 0.9363 - val_loss: 0.7965 - val_accuracy: 0.7811\n",
            "\n",
            "Epoch 00016: val_accuracy improved from 0.76861 to 0.78110, saving model to /content/drive/My Drive/Data/Output060520/CascadeModel_S8_C1to7_Epochs50.h5\n",
            "Epoch 17/50\n",
            "211397/211397 [==============================] - 160s 755us/step - loss: 0.1865 - accuracy: 0.9415 - val_loss: 0.7784 - val_accuracy: 0.7885\n",
            "\n",
            "Epoch 00017: val_accuracy improved from 0.78110 to 0.78846, saving model to /content/drive/My Drive/Data/Output060520/CascadeModel_S8_C1to7_Epochs50.h5\n",
            "Epoch 18/50\n",
            "211397/211397 [==============================] - 163s 771us/step - loss: 0.1739 - accuracy: 0.9467 - val_loss: 0.8115 - val_accuracy: 0.7880\n",
            "\n",
            "Epoch 00018: val_accuracy did not improve from 0.78846\n",
            "Epoch 19/50\n",
            "211397/211397 [==============================] - 161s 762us/step - loss: 0.1655 - accuracy: 0.9486 - val_loss: 0.7816 - val_accuracy: 0.7949\n",
            "\n",
            "Epoch 00019: val_accuracy improved from 0.78846 to 0.79491, saving model to /content/drive/My Drive/Data/Output060520/CascadeModel_S8_C1to7_Epochs50.h5\n",
            "Epoch 20/50\n",
            "211397/211397 [==============================] - 161s 763us/step - loss: 0.1542 - accuracy: 0.9523 - val_loss: 0.7725 - val_accuracy: 0.7975\n",
            "\n",
            "Epoch 00020: val_accuracy improved from 0.79491 to 0.79750, saving model to /content/drive/My Drive/Data/Output060520/CascadeModel_S8_C1to7_Epochs50.h5\n",
            "Epoch 21/50\n",
            "211397/211397 [==============================] - 162s 766us/step - loss: 0.1439 - accuracy: 0.9557 - val_loss: 0.7659 - val_accuracy: 0.8023\n",
            "\n",
            "Epoch 00021: val_accuracy improved from 0.79750 to 0.80235, saving model to /content/drive/My Drive/Data/Output060520/CascadeModel_S8_C1to7_Epochs50.h5\n",
            "Epoch 22/50\n",
            "211397/211397 [==============================] - 161s 762us/step - loss: 0.1383 - accuracy: 0.9577 - val_loss: 0.7630 - val_accuracy: 0.8058\n",
            "\n",
            "Epoch 00022: val_accuracy improved from 0.80235 to 0.80585, saving model to /content/drive/My Drive/Data/Output060520/CascadeModel_S8_C1to7_Epochs50.h5\n",
            "Epoch 23/50\n",
            "211397/211397 [==============================] - 163s 772us/step - loss: 0.1315 - accuracy: 0.9603 - val_loss: 0.7519 - val_accuracy: 0.8100\n",
            "\n",
            "Epoch 00023: val_accuracy improved from 0.80585 to 0.81001, saving model to /content/drive/My Drive/Data/Output060520/CascadeModel_S8_C1to7_Epochs50.h5\n",
            "Epoch 24/50\n",
            "211397/211397 [==============================] - 165s 782us/step - loss: 0.1251 - accuracy: 0.9618 - val_loss: 0.7384 - val_accuracy: 0.8135\n",
            "\n",
            "Epoch 00024: val_accuracy improved from 0.81001 to 0.81349, saving model to /content/drive/My Drive/Data/Output060520/CascadeModel_S8_C1to7_Epochs50.h5\n",
            "Epoch 25/50\n",
            "211397/211397 [==============================] - 162s 765us/step - loss: 0.1183 - accuracy: 0.9645 - val_loss: 0.7427 - val_accuracy: 0.8122\n",
            "\n",
            "Epoch 00025: val_accuracy did not improve from 0.81349\n",
            "Epoch 26/50\n",
            "211397/211397 [==============================] - 163s 769us/step - loss: 0.1147 - accuracy: 0.9653 - val_loss: 0.7275 - val_accuracy: 0.8177\n",
            "\n",
            "Epoch 00026: val_accuracy improved from 0.81349 to 0.81765, saving model to /content/drive/My Drive/Data/Output060520/CascadeModel_S8_C1to7_Epochs50.h5\n",
            "Epoch 27/50\n",
            "211397/211397 [==============================] - 161s 763us/step - loss: 0.1113 - accuracy: 0.9669 - val_loss: 0.7605 - val_accuracy: 0.8161\n",
            "\n",
            "Epoch 00027: val_accuracy did not improve from 0.81765\n",
            "Epoch 28/50\n",
            "211397/211397 [==============================] - 160s 759us/step - loss: 0.1053 - accuracy: 0.9683 - val_loss: 0.7499 - val_accuracy: 0.8161\n",
            "\n",
            "Epoch 00028: val_accuracy did not improve from 0.81765\n",
            "Epoch 29/50\n",
            "211397/211397 [==============================] - 164s 777us/step - loss: 0.1019 - accuracy: 0.9687 - val_loss: 0.7243 - val_accuracy: 0.8233\n",
            "\n",
            "Epoch 00029: val_accuracy improved from 0.81765 to 0.82325, saving model to /content/drive/My Drive/Data/Output060520/CascadeModel_S8_C1to7_Epochs50.h5\n",
            "Epoch 30/50\n",
            "211397/211397 [==============================] - 163s 772us/step - loss: 0.0976 - accuracy: 0.9709 - val_loss: 0.7311 - val_accuracy: 0.8238\n",
            "\n",
            "Epoch 00030: val_accuracy improved from 0.82325 to 0.82382, saving model to /content/drive/My Drive/Data/Output060520/CascadeModel_S8_C1to7_Epochs50.h5\n",
            "Epoch 31/50\n",
            "211397/211397 [==============================] - 163s 773us/step - loss: 0.0938 - accuracy: 0.9720 - val_loss: 0.7206 - val_accuracy: 0.8268\n",
            "\n",
            "Epoch 00031: val_accuracy improved from 0.82382 to 0.82681, saving model to /content/drive/My Drive/Data/Output060520/CascadeModel_S8_C1to7_Epochs50.h5\n",
            "Epoch 32/50\n",
            "211397/211397 [==============================] - 164s 774us/step - loss: 0.0925 - accuracy: 0.9724 - val_loss: 0.7300 - val_accuracy: 0.8239\n",
            "\n",
            "Epoch 00032: val_accuracy did not improve from 0.82681\n",
            "Epoch 33/50\n",
            "211397/211397 [==============================] - 164s 774us/step - loss: 0.0897 - accuracy: 0.9733 - val_loss: 0.7071 - val_accuracy: 0.8298\n",
            "\n",
            "Epoch 00033: val_accuracy improved from 0.82681 to 0.82978, saving model to /content/drive/My Drive/Data/Output060520/CascadeModel_S8_C1to7_Epochs50.h5\n",
            "Epoch 34/50\n",
            "211397/211397 [==============================] - 164s 776us/step - loss: 0.0855 - accuracy: 0.9748 - val_loss: 0.7271 - val_accuracy: 0.8288\n",
            "\n",
            "Epoch 00034: val_accuracy did not improve from 0.82978\n",
            "Epoch 35/50\n",
            "211397/211397 [==============================] - 166s 788us/step - loss: 0.0831 - accuracy: 0.9753 - val_loss: 0.6955 - val_accuracy: 0.8351\n",
            "\n",
            "Epoch 00035: val_accuracy improved from 0.82978 to 0.83506, saving model to /content/drive/My Drive/Data/Output060520/CascadeModel_S8_C1to7_Epochs50.h5\n",
            "Epoch 36/50\n",
            "211397/211397 [==============================] - 160s 759us/step - loss: 0.0812 - accuracy: 0.9760 - val_loss: 0.7103 - val_accuracy: 0.8318\n",
            "\n",
            "Epoch 00036: val_accuracy did not improve from 0.83506\n",
            "Epoch 37/50\n",
            "211397/211397 [==============================] - 166s 787us/step - loss: 0.0792 - accuracy: 0.9766 - val_loss: 0.7138 - val_accuracy: 0.8323\n",
            "\n",
            "Epoch 00037: val_accuracy did not improve from 0.83506\n",
            "Epoch 38/50\n",
            "211397/211397 [==============================] - 164s 776us/step - loss: 0.0753 - accuracy: 0.9779 - val_loss: 0.6917 - val_accuracy: 0.8388\n",
            "\n",
            "Epoch 00038: val_accuracy improved from 0.83506 to 0.83885, saving model to /content/drive/My Drive/Data/Output060520/CascadeModel_S8_C1to7_Epochs50.h5\n",
            "Epoch 39/50\n",
            "211397/211397 [==============================] - 163s 769us/step - loss: 0.0741 - accuracy: 0.9777 - val_loss: 0.6852 - val_accuracy: 0.8405\n",
            "\n",
            "Epoch 00039: val_accuracy improved from 0.83885 to 0.84045, saving model to /content/drive/My Drive/Data/Output060520/CascadeModel_S8_C1to7_Epochs50.h5\n",
            "Epoch 40/50\n",
            "211397/211397 [==============================] - 161s 761us/step - loss: 0.0714 - accuracy: 0.9787 - val_loss: 0.7095 - val_accuracy: 0.8384\n",
            "\n",
            "Epoch 00040: val_accuracy did not improve from 0.84045\n",
            "Epoch 41/50\n",
            "211397/211397 [==============================] - 159s 754us/step - loss: 0.0706 - accuracy: 0.9794 - val_loss: 0.6935 - val_accuracy: 0.8395\n",
            "\n",
            "Epoch 00041: val_accuracy did not improve from 0.84045\n",
            "Epoch 42/50\n",
            "211397/211397 [==============================] - 159s 754us/step - loss: 0.0690 - accuracy: 0.9798 - val_loss: 0.7070 - val_accuracy: 0.8391\n",
            "\n",
            "Epoch 00042: val_accuracy did not improve from 0.84045\n",
            "Epoch 43/50\n",
            "211397/211397 [==============================] - 161s 759us/step - loss: 0.0659 - accuracy: 0.9805 - val_loss: 0.7451 - val_accuracy: 0.8366\n",
            "\n",
            "Epoch 00043: val_accuracy did not improve from 0.84045\n",
            "Epoch 44/50\n",
            "211397/211397 [==============================] - 162s 766us/step - loss: 0.0650 - accuracy: 0.9809 - val_loss: 0.6893 - val_accuracy: 0.8461\n",
            "\n",
            "Epoch 00044: val_accuracy improved from 0.84045 to 0.84615, saving model to /content/drive/My Drive/Data/Output060520/CascadeModel_S8_C1to7_Epochs50.h5\n",
            "Epoch 45/50\n",
            "211397/211397 [==============================] - 161s 763us/step - loss: 0.0631 - accuracy: 0.9817 - val_loss: 0.7006 - val_accuracy: 0.8422\n",
            "\n",
            "Epoch 00045: val_accuracy did not improve from 0.84615\n",
            "Epoch 46/50\n",
            "211397/211397 [==============================] - 162s 768us/step - loss: 0.0630 - accuracy: 0.9815 - val_loss: 0.7169 - val_accuracy: 0.8390\n",
            "\n",
            "Epoch 00046: val_accuracy did not improve from 0.84615\n",
            "Epoch 47/50\n",
            "211397/211397 [==============================] - 163s 772us/step - loss: 0.0629 - accuracy: 0.9818 - val_loss: 0.6781 - val_accuracy: 0.8440\n",
            "\n",
            "Epoch 00047: val_accuracy did not improve from 0.84615\n",
            "Epoch 48/50\n",
            "211397/211397 [==============================] - 164s 778us/step - loss: 0.0589 - accuracy: 0.9829 - val_loss: 0.6877 - val_accuracy: 0.8458\n",
            "\n",
            "Epoch 00048: val_accuracy did not improve from 0.84615\n",
            "Epoch 49/50\n",
            "211397/211397 [==============================] - 166s 786us/step - loss: 0.0578 - accuracy: 0.9827 - val_loss: 0.6920 - val_accuracy: 0.8495\n",
            "\n",
            "Epoch 00049: val_accuracy improved from 0.84615 to 0.84948, saving model to /content/drive/My Drive/Data/Output060520/CascadeModel_S8_C1to7_Epochs50.h5\n",
            "Epoch 50/50\n",
            "211397/211397 [==============================] - 167s 790us/step - loss: 0.0569 - accuracy: 0.9833 - val_loss: 0.6837 - val_accuracy: 0.8484\n",
            "\n",
            "Epoch 00050: val_accuracy did not improve from 0.84948\n",
            "66062/66062 [==============================] - 9s 131us/step\n"
          ],
          "name": "stdout"
        },
        {
          "output_type": "display_data",
          "data": {
            "text/plain": [
              "0.8498228788375854"
            ]
          },
          "metadata": {
            "tags": []
          }
        }
      ]
    },
    {
      "cell_type": "code",
      "metadata": {
        "id": "OBJaaxnOnYFG",
        "colab_type": "code",
        "colab": {}
      },
      "source": [
        "with open(output_dir+\"/CascadeModel_trainData.pickle\", 'wb') as file_pi:\n",
        "  pickle.dump(Dataset, file_pi)"
      ],
      "execution_count": 0,
      "outputs": []
    },
    {
      "cell_type": "markdown",
      "metadata": {
        "id": "scqPGFQ1jo4F",
        "colab_type": "text"
      },
      "source": [
        "# plot training/validation loss and accuracy"
      ]
    },
    {
      "cell_type": "code",
      "metadata": {
        "id": "kezZVpWtoH1Q",
        "colab_type": "code",
        "colab": {
          "base_uri": "https://localhost:8080/",
          "height": 286
        },
        "outputId": "55ba674c-6555-49cd-dcb8-e29f950694d8"
      },
      "source": [
        "plt.plot(history['val_accuracy'])\n",
        "plt.plot(history['accuracy'])\n",
        "plt.ylim((0, 1))"
      ],
      "execution_count": 20,
      "outputs": [
        {
          "output_type": "execute_result",
          "data": {
            "text/plain": [
              "(0.0, 1.0)"
            ]
          },
          "metadata": {
            "tags": []
          },
          "execution_count": 20
        },
        {
          "output_type": "display_data",
          "data": {
            "image/png": "[encoded data removed]",
            "text/plain": [
              "<Figure size 432x288 with 1 Axes>"
            ]
          },
          "metadata": {
            "tags": [],
            "needs_background": "light"
          }
        }
      ]
    },
    {
      "cell_type": "code",
      "metadata": {
        "id": "uXOYk2a8jxMB",
        "colab_type": "code",
        "outputId": "669b3213-ae83-476a-c20c-cea1392f6a58",
        "colab": {
          "base_uri": "https://localhost:8080/",
          "height": 573
        }
      },
      "source": [
        "with open(output_dir+\"/CascadeModel_trainHistoryDict\", 'rb') as f:\n",
        "  history = pickle.load(f)\n",
        "\n",
        "# summarize history for accuracy\n",
        "f = plt.figure()\n",
        "plt.plot(history['accuracy'])\n",
        "plt.plot(history['val_accuracy'])\n",
        "plt.title('model accuracy')\n",
        "plt.ylabel('accuracy')\n",
        "plt.xlabel('epoch')\n",
        "plt.legend(['train', 'val'], loc='lower right')\n",
        "plt.xlim((0, 50))\n",
        "plt.ylim((0, 1))\n",
        "plt.show()\n",
        "f.savefig(output_dir+\"/modelAccuracy.pdf\", bbox_inches='tight')\n",
        "\n",
        "# summarize history for loss\n",
        "f = plt.figure()\n",
        "plt.plot(history['loss'])\n",
        "plt.plot(history['val_loss'])\n",
        "plt.title('model loss')\n",
        "plt.ylabel('loss')\n",
        "plt.xlabel('epoch')\n",
        "plt.legend(['train', 'val'], loc='upper right')\n",
        "plt.xlim((0, 50))\n",
        "#plt.ylim((0, 1))\n",
        "plt.show()\n",
        "f.savefig(output_dir+\"/modelLoss.pdf\", bbox_inches='tight')"
      ],
      "execution_count": 22,
      "outputs": [
        {
          "output_type": "display_data",
          "data": {
            "image/png": "[encoded data removed]",
            "text/plain": [
              "<Figure size 432x288 with 1 Axes>"
            ]
          },
          "metadata": {
            "tags": [],
            "needs_background": "light"
          }
        },
        {
          "output_type": "display_data",
          "data": {
            "image/png": "[encoded data removed]",
            "text/plain": [
              "<Figure size 432x288 with 1 Axes>"
            ]
          },
          "metadata": {
            "tags": [],
            "needs_background": "light"
          }
        }
      ]
    },
    {
      "cell_type": "markdown",
      "metadata": {
        "id": "rO18PeRlkHMH",
        "colab_type": "text"
      },
      "source": [
        "# Generate the inputs, targets, and windows before splitting into training and testing sets"
      ]
    },
    {
      "cell_type": "code",
      "metadata": {
        "id": "SftjfbdCj60G",
        "colab_type": "code",
        "outputId": "e119f2a0-5557-4cad-ab33-403b31af771c",
        "colab": {
          "base_uri": "https://localhost:8080/",
          "height": 34
        }
      },
      "source": [
        "class2Cons = [1,2,3,4,5,6,7]\n",
        "nClasses = len(class2Cons)\n",
        "display(class2Cons)\n",
        "# get the dataset\n",
        "b = sliding_window(np.arange(nFrames), S, S//2)\n",
        "nWin = b.shape[0]\n",
        "inputs, targets, wins = genAllDat(ME_db_2Dmesh, b, class2Cons, nClasses, nTrial_class, nWin, S, nX, nY)"
      ],
      "execution_count": 7,
      "outputs": [
        {
          "output_type": "display_data",
          "data": {
            "text/plain": [
              "[1, 2, 3, 4, 5, 6, 7]"
            ]
          },
          "metadata": {
            "tags": []
          }
        }
      ]
    },
    {
      "cell_type": "markdown",
      "metadata": {
        "id": "JcZ9VMFOkgKD",
        "colab_type": "text"
      },
      "source": [
        "# Save the inputs, targets, and windows into pickle files"
      ]
    },
    {
      "cell_type": "code",
      "metadata": {
        "id": "jg7-gcF3j5GJ",
        "colab_type": "code",
        "outputId": "ca72fb9a-b8c3-4c4d-eea9-58976913d602",
        "colab": {
          "base_uri": "https://localhost:8080/",
          "height": 68
        }
      },
      "source": [
        "outputFile = [\"/inputs_S\"+str(S)+\"_C1to7.h5\", \\\n",
        "              \"/targets_S\"+str(S)+\"_C1to7.h5\", \\\n",
        "              \"/wins_S\"+str(S)+\"_C1to7.h5\"]\n",
        "\n",
        "dat = [inputs, targets, wins]\n",
        "\n",
        "t1 = time.time()\n",
        "for i in range(0,3):\n",
        "  f = open(output_dir+outputFile[i], \"wb\")\n",
        "  i_str = pickle.dumps(dat[i])\n",
        "  f_size = sys.getsizeof(i_str)\n",
        "  f.write(i_str)\n",
        "  f.close()\n",
        "  print(\"Finished writing %.2f MB of data to %s in %f s\" % (f_size, outputFile[i], time.time()-t1))"
      ],
      "execution_count": 13,
      "outputs": [
        {
          "output_type": "stream",
          "text": [
            "Finished writing 1712322057.00 MB of data to /inputs_S8_C1to7.h5 in 14.142479 s\n",
            "Finished writing 2642666.00 MB of data to /targets_S8_C1to7.h5 in 14.364438 s\n",
            "Finished writing 2642666.00 MB of data to /wins_S8_C1to7.h5 in 14.454746 s\n"
          ],
          "name": "stdout"
        }
      ]
    },
    {
      "cell_type": "code",
      "metadata": {
        "id": "1MQ3GJLBjyTy",
        "colab_type": "code",
        "colab": {}
      },
      "source": [
        ""
      ],
      "execution_count": 0,
      "outputs": []
    }
  ]
}