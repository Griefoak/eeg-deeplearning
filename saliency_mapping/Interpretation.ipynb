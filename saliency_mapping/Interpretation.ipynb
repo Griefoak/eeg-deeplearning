{
 "cells": [
  {
   "cell_type": "code",
   "execution_count": 266,
   "metadata": {},
   "outputs": [],
   "source": [
    "import numpy as np\n",
    "import pandas as pd\n",
    "import scipy as sp\n",
    "import tensorflow as tf\n",
    "import tensorflow.keras as keras\n",
    "import matplotlib.pyplot as plt\n",
    "\n",
    "from tensorflow.keras import optimizers\n",
    "from tensorflow.keras import models\n",
    "from tensorflow.keras import layers\n",
    "from tensorflow.keras import losses\n",
    "from tensorflow.keras import metrics\n",
    "\n",
    "from keras.models import Sequential\n",
    "from keras.layers import Dense\n",
    "from keras.layers import Flatten\n",
    "from keras.layers import Dropout\n",
    "from keras.layers import LSTM\n",
    "from keras.layers import TimeDistributed\n",
    "from keras.layers.convolutional import Conv1D, Conv2D\n",
    "from keras.layers.convolutional import MaxPooling1D\n",
    "from keras.callbacks import ModelCheckpoint, EarlyStopping\n",
    "\n",
    "from keras.utils import to_categorical\n",
    "from sklearn.model_selection import train_test_split\n",
    "from sklearn.utils import shuffle\n",
    "\n",
    "import tensorflow.keras as keras\n",
    "from keras.models import load_model\n",
    "\n",
    "import time\n",
    "import os\n",
    "import sys\n",
    "import pickle\n",
    "\n",
    "# append the path to the file that contains utility functions for organizing the data\n",
    "from modelFitUtils import *\n"
   ]
  },
  {
   "cell_type": "code",
   "execution_count": 2,
   "metadata": {},
   "outputs": [
    {
     "name": "stdout",
     "output_type": "stream",
     "text": [
      "Loaded mesh_NoArt_ME_db_128.pickle database in 1.227690 s\n",
      "There are: \n",
      " 7   Classes, \n",
      " 749 Trials/Class, \n",
      " 257 TimePoints/Trial, \n",
      " 9x9 Datashape/TimePoint\n"
     ]
    }
   ],
   "source": [
    "ME_db_fname = \"mesh_NoArt_ME_db_128.pickle\"\n",
    "\n",
    "t1 = time.time()\n",
    "with open(ME_db_fname, \"rb\") as f:\n",
    "    ME_db_2Dmesh = pickle.load(f)\n",
    "print(\"Loaded %s database in %f s\" % (ME_db_fname, time.time()-t1))\n",
    "\n",
    "with open(\"CascadeModel_trainData.pickle\", \"rb\") as f:\n",
    "    db = pickle.load(f)\n",
    "\n",
    "nClas = len(ME_db_2Dmesh)\n",
    "nTrials = ME_db_2Dmesh[1].shape[0]\n",
    "nFrames = ME_db_2Dmesh[1].shape[1]\n",
    "nX = ME_db_2Dmesh[1].shape[2]\n",
    "nY = ME_db_2Dmesh[1].shape[3]\n",
    "print(\"There are: \\n %.f   Classes, \\n %.f Trials/Class, \\n %.f TimePoints/Trial, \\n %.fx%.f Datashape/TimePoint\" % (nClas, nTrials, nFrames, nX, nY))"
   ]
  },
  {
   "cell_type": "code",
   "execution_count": 3,
   "metadata": {},
   "outputs": [],
   "source": [
    "S = 8    # S = number of images\n",
    "h_states_lstm = 64\n",
    "dropout_rate = 0.5\n",
    "learning_rate = 1e-4\n",
    "nTrial_class = nTrials\n",
    "opt = \"adam\"\n",
    "lossfn = 'categorical_crossentropy'\n",
    "metric = ['acurracy']\n",
    "nEpochs = 50"
   ]
  },
  {
   "cell_type": "code",
   "execution_count": 120,
   "metadata": {},
   "outputs": [],
   "source": [
    "def setupDataForNetwork2(inputs, targets, classes, testSize=0.2):\n",
    "    # convert target labels to be in ascending order starting from 1\n",
    "    j = 1\n",
    "    for c in classes:\n",
    "        targets[:] = [x if x != c else j for x in targets]\n",
    "        j = j+1\n",
    "    # split into training and testing set\n",
    "    X_train, X_test, y_train, y_test = train_test_split(inputs, targets, test_size=testSize)\n",
    "    # add an depth dimension\n",
    "    X_train = np.expand_dims(X_train, axis=-1)\n",
    "    X_test = np.expand_dims(X_test, axis=-1)\n",
    "\n",
    "    # set any channel with nans to 0\n",
    "    where_are_NaNs = np.isnan(X_train)\n",
    "    X_train[where_are_NaNs] = 0\n",
    "    where_are_NaNs = np.isnan(X_test)\n",
    "    X_test[where_are_NaNs] = 0\n",
    "\n",
    "    return X_train, X_test, y_train, y_test"
   ]
  },
  {
   "cell_type": "code",
   "execution_count": 74,
   "metadata": {},
   "outputs": [],
   "source": [
    "class2Cons = [1,2,3,4,5,6,7]\n",
    "nX = ME_db_2Dmesh[1].shape[2]\n",
    "nY = ME_db_2Dmesh[1].shape[3]\n",
    "nPointsPerTrial = ME_db_2Dmesh[1].shape[1]\n",
    "\n",
    "# convert ehd data into sliding windows\n",
    "windows = sliding_window(np.arange(nPointsPerTrial), S, S//2)\n",
    "nWin = windows.shape[0]\n",
    "inputs, targets, wins  = genAllDat(ME_db_2Dmesh, windows, class2Cons, len(class2Cons), nTrials, nWin, S, nX, nY, rand=False)"
   ]
  },
  {
   "cell_type": "code",
   "execution_count": 75,
   "metadata": {},
   "outputs": [],
   "source": [
    "#plt.plot(wins[0:100])\n",
    "targets.shape[0]/749\n",
    "\n",
    "InputsByClassTime = []\n",
    "for clas in class2Cons:\n",
    "    # loop through each time bin\n",
    "    timeBins = np.zeros((np.max(wins), nTrial_class, S, nX, nY))\n",
    "    for b in range(np.min(wins), np.max(wins)+1):\n",
    "        timeBins[b-1][:,:,:] = inputs[np.logical_and(wins==b, targets==clas)][:,:,:]\n",
    "        #timeBins.append(inputs[np.logical_and(wins==b, targets==clas)][:,:,:])\n",
    "        \n",
    "    InputsByClassTime.append(timeBins)"
   ]
  },
  {
   "cell_type": "code",
   "execution_count": 131,
   "metadata": {},
   "outputs": [
    {
     "data": {
      "text/plain": [
       "(62, 749, 8, 9, 9)"
      ]
     },
     "execution_count": 131,
     "metadata": {},
     "output_type": "execute_result"
    }
   ],
   "source": [
    "InputsByClassTime[0].shape\n",
    "#targets.shape\n",
    "#np.zeros(InputsByClassTime[0].shape[1]).shape"
   ]
  },
  {
   "cell_type": "code",
   "execution_count": 262,
   "metadata": {},
   "outputs": [
    {
     "name": "stdout",
     "output_type": "stream",
     "text": [
      "Model: \"sequential_2\"\n",
      "_________________________________________________________________\n",
      "Layer (type)                 Output Shape              Param #   \n",
      "=================================================================\n",
      "time_distributed_7 (TimeDist (None, 8, 9, 9, 32)       320       \n",
      "_________________________________________________________________\n",
      "time_distributed_8 (TimeDist (None, 8, 9, 9, 64)       18496     \n",
      "_________________________________________________________________\n",
      "time_distributed_9 (TimeDist (None, 8, 9, 9, 128)      73856     \n",
      "_________________________________________________________________\n",
      "time_distributed_10 (TimeDis (None, 8, 10368)          0         \n",
      "_________________________________________________________________\n",
      "time_distributed_11 (TimeDis (None, 8, 1024)           10617856  \n",
      "_________________________________________________________________\n",
      "time_distributed_12 (TimeDis (None, 8, 1024)           0         \n",
      "_________________________________________________________________\n",
      "lstm_3 (LSTM)                (None, 8, 8)              33056     \n",
      "_________________________________________________________________\n",
      "lstm_4 (LSTM)                (None, 8)                 544       \n",
      "_________________________________________________________________\n",
      "dense_5 (Dense)              (None, 64)                576       \n",
      "_________________________________________________________________\n",
      "dropout_4 (Dropout)          (None, 64)                0         \n",
      "_________________________________________________________________\n",
      "dense_6 (Dense)              (None, 7)                 455       \n",
      "=================================================================\n",
      "Total params: 10,745,159\n",
      "Trainable params: 10,745,159\n",
      "Non-trainable params: 0\n",
      "_________________________________________________________________\n"
     ]
    },
    {
     "name": "stderr",
     "output_type": "stream",
     "text": [
      "C:\\Users\\Liangyu\\AppData\\Local\\Continuum\\anaconda3\\envs\\tensorflow_env\\lib\\site-packages\\keras\\engine\\saving.py:341: UserWarning: No training configuration found in save file: the model was *not* compiled. Compile it manually.\n",
      "  warnings.warn('No training configuration found in save file: '\n"
     ]
    }
   ],
   "source": [
    "saved_model= load_model('CascadeModel_S8_C1to7_Epochs50.h5')#layer = 'dense_6'\n",
    "opt = keras.optimizers.Adam(learning_rate=1e-4)\n",
    "saved_model.compile(loss='categorical_crossentropy', optimizer=opt, metrics=['accuracy'])\n",
    "saved_model.summary()\n"
   ]
  },
  {
   "cell_type": "code",
   "execution_count": 247,
   "metadata": {},
   "outputs": [
    {
     "data": {
      "text/plain": [
       "'K=0, class1'"
      ]
     },
     "metadata": {},
     "output_type": "display_data"
    },
    {
     "data": {
      "text/plain": [
       "'K=0, class2'"
      ]
     },
     "metadata": {},
     "output_type": "display_data"
    },
    {
     "data": {
      "text/plain": [
       "'K=0, class3'"
      ]
     },
     "metadata": {},
     "output_type": "display_data"
    },
    {
     "data": {
      "text/plain": [
       "'K=0, class4'"
      ]
     },
     "metadata": {},
     "output_type": "display_data"
    },
    {
     "data": {
      "text/plain": [
       "'K=0, class5'"
      ]
     },
     "metadata": {},
     "output_type": "display_data"
    },
    {
     "data": {
      "text/plain": [
       "'K=0, class6'"
      ]
     },
     "metadata": {},
     "output_type": "display_data"
    },
    {
     "data": {
      "text/plain": [
       "'K=0, class7'"
      ]
     },
     "metadata": {},
     "output_type": "display_data"
    },
    {
     "data": {
      "text/plain": [
       "'K=1, class1'"
      ]
     },
     "metadata": {},
     "output_type": "display_data"
    },
    {
     "data": {
      "text/plain": [
       "'K=1, class2'"
      ]
     },
     "metadata": {},
     "output_type": "display_data"
    },
    {
     "data": {
      "text/plain": [
       "'K=1, class3'"
      ]
     },
     "metadata": {},
     "output_type": "display_data"
    },
    {
     "data": {
      "text/plain": [
       "'K=1, class4'"
      ]
     },
     "metadata": {},
     "output_type": "display_data"
    },
    {
     "data": {
      "text/plain": [
       "'K=1, class5'"
      ]
     },
     "metadata": {},
     "output_type": "display_data"
    },
    {
     "data": {
      "text/plain": [
       "'K=1, class6'"
      ]
     },
     "metadata": {},
     "output_type": "display_data"
    },
    {
     "data": {
      "text/plain": [
       "'K=1, class7'"
      ]
     },
     "metadata": {},
     "output_type": "display_data"
    },
    {
     "data": {
      "text/plain": [
       "'K=2, class1'"
      ]
     },
     "metadata": {},
     "output_type": "display_data"
    },
    {
     "data": {
      "text/plain": [
       "'K=2, class2'"
      ]
     },
     "metadata": {},
     "output_type": "display_data"
    },
    {
     "data": {
      "text/plain": [
       "'K=2, class3'"
      ]
     },
     "metadata": {},
     "output_type": "display_data"
    },
    {
     "data": {
      "text/plain": [
       "'K=2, class4'"
      ]
     },
     "metadata": {},
     "output_type": "display_data"
    },
    {
     "data": {
      "text/plain": [
       "'K=2, class5'"
      ]
     },
     "metadata": {},
     "output_type": "display_data"
    },
    {
     "data": {
      "text/plain": [
       "'K=2, class6'"
      ]
     },
     "metadata": {},
     "output_type": "display_data"
    },
    {
     "data": {
      "text/plain": [
       "'K=2, class7'"
      ]
     },
     "metadata": {},
     "output_type": "display_data"
    },
    {
     "data": {
      "text/plain": [
       "'K=3, class1'"
      ]
     },
     "metadata": {},
     "output_type": "display_data"
    },
    {
     "data": {
      "text/plain": [
       "'K=3, class2'"
      ]
     },
     "metadata": {},
     "output_type": "display_data"
    },
    {
     "data": {
      "text/plain": [
       "'K=3, class3'"
      ]
     },
     "metadata": {},
     "output_type": "display_data"
    },
    {
     "data": {
      "text/plain": [
       "'K=3, class4'"
      ]
     },
     "metadata": {},
     "output_type": "display_data"
    },
    {
     "data": {
      "text/plain": [
       "'K=3, class5'"
      ]
     },
     "metadata": {},
     "output_type": "display_data"
    },
    {
     "data": {
      "text/plain": [
       "'K=3, class6'"
      ]
     },
     "metadata": {},
     "output_type": "display_data"
    },
    {
     "data": {
      "text/plain": [
       "'K=3, class7'"
      ]
     },
     "metadata": {},
     "output_type": "display_data"
    },
    {
     "data": {
      "text/plain": [
       "'K=4, class1'"
      ]
     },
     "metadata": {},
     "output_type": "display_data"
    },
    {
     "data": {
      "text/plain": [
       "'K=4, class2'"
      ]
     },
     "metadata": {},
     "output_type": "display_data"
    },
    {
     "data": {
      "text/plain": [
       "'K=4, class3'"
      ]
     },
     "metadata": {},
     "output_type": "display_data"
    },
    {
     "data": {
      "text/plain": [
       "'K=4, class4'"
      ]
     },
     "metadata": {},
     "output_type": "display_data"
    },
    {
     "data": {
      "text/plain": [
       "'K=4, class5'"
      ]
     },
     "metadata": {},
     "output_type": "display_data"
    },
    {
     "data": {
      "text/plain": [
       "'K=4, class6'"
      ]
     },
     "metadata": {},
     "output_type": "display_data"
    },
    {
     "data": {
      "text/plain": [
       "'K=4, class7'"
      ]
     },
     "metadata": {},
     "output_type": "display_data"
    },
    {
     "data": {
      "text/plain": [
       "'K=5, class1'"
      ]
     },
     "metadata": {},
     "output_type": "display_data"
    },
    {
     "data": {
      "text/plain": [
       "'K=5, class2'"
      ]
     },
     "metadata": {},
     "output_type": "display_data"
    },
    {
     "data": {
      "text/plain": [
       "'K=5, class3'"
      ]
     },
     "metadata": {},
     "output_type": "display_data"
    },
    {
     "data": {
      "text/plain": [
       "'K=5, class4'"
      ]
     },
     "metadata": {},
     "output_type": "display_data"
    },
    {
     "data": {
      "text/plain": [
       "'K=5, class5'"
      ]
     },
     "metadata": {},
     "output_type": "display_data"
    },
    {
     "data": {
      "text/plain": [
       "'K=5, class6'"
      ]
     },
     "metadata": {},
     "output_type": "display_data"
    },
    {
     "data": {
      "text/plain": [
       "'K=5, class7'"
      ]
     },
     "metadata": {},
     "output_type": "display_data"
    },
    {
     "data": {
      "text/plain": [
       "'K=6, class1'"
      ]
     },
     "metadata": {},
     "output_type": "display_data"
    },
    {
     "data": {
      "text/plain": [
       "'K=6, class2'"
      ]
     },
     "metadata": {},
     "output_type": "display_data"
    },
    {
     "data": {
      "text/plain": [
       "'K=6, class3'"
      ]
     },
     "metadata": {},
     "output_type": "display_data"
    },
    {
     "data": {
      "text/plain": [
       "'K=6, class4'"
      ]
     },
     "metadata": {},
     "output_type": "display_data"
    },
    {
     "data": {
      "text/plain": [
       "'K=6, class5'"
      ]
     },
     "metadata": {},
     "output_type": "display_data"
    },
    {
     "data": {
      "text/plain": [
       "'K=6, class6'"
      ]
     },
     "metadata": {},
     "output_type": "display_data"
    },
    {
     "data": {
      "text/plain": [
       "'K=6, class7'"
      ]
     },
     "metadata": {},
     "output_type": "display_data"
    },
    {
     "data": {
      "text/plain": [
       "'K=7, class1'"
      ]
     },
     "metadata": {},
     "output_type": "display_data"
    },
    {
     "data": {
      "text/plain": [
       "'K=7, class2'"
      ]
     },
     "metadata": {},
     "output_type": "display_data"
    },
    {
     "data": {
      "text/plain": [
       "'K=7, class3'"
      ]
     },
     "metadata": {},
     "output_type": "display_data"
    },
    {
     "data": {
      "text/plain": [
       "'K=7, class4'"
      ]
     },
     "metadata": {},
     "output_type": "display_data"
    },
    {
     "data": {
      "text/plain": [
       "'K=7, class5'"
      ]
     },
     "metadata": {},
     "output_type": "display_data"
    },
    {
     "data": {
      "text/plain": [
       "'K=7, class6'"
      ]
     },
     "metadata": {},
     "output_type": "display_data"
    },
    {
     "data": {
      "text/plain": [
       "'K=7, class7'"
      ]
     },
     "metadata": {},
     "output_type": "display_data"
    },
    {
     "data": {
      "text/plain": [
       "'K=8, class1'"
      ]
     },
     "metadata": {},
     "output_type": "display_data"
    },
    {
     "data": {
      "text/plain": [
       "'K=8, class2'"
      ]
     },
     "metadata": {},
     "output_type": "display_data"
    },
    {
     "data": {
      "text/plain": [
       "'K=8, class3'"
      ]
     },
     "metadata": {},
     "output_type": "display_data"
    },
    {
     "data": {
      "text/plain": [
       "'K=8, class4'"
      ]
     },
     "metadata": {},
     "output_type": "display_data"
    },
    {
     "data": {
      "text/plain": [
       "'K=8, class5'"
      ]
     },
     "metadata": {},
     "output_type": "display_data"
    },
    {
     "data": {
      "text/plain": [
       "'K=8, class6'"
      ]
     },
     "metadata": {},
     "output_type": "display_data"
    },
    {
     "data": {
      "text/plain": [
       "'K=8, class7'"
      ]
     },
     "metadata": {},
     "output_type": "display_data"
    },
    {
     "data": {
      "text/plain": [
       "'K=9, class1'"
      ]
     },
     "metadata": {},
     "output_type": "display_data"
    },
    {
     "data": {
      "text/plain": [
       "'K=9, class2'"
      ]
     },
     "metadata": {},
     "output_type": "display_data"
    },
    {
     "data": {
      "text/plain": [
       "'K=9, class3'"
      ]
     },
     "metadata": {},
     "output_type": "display_data"
    },
    {
     "data": {
      "text/plain": [
       "'K=9, class4'"
      ]
     },
     "metadata": {},
     "output_type": "display_data"
    },
    {
     "data": {
      "text/plain": [
       "'K=9, class5'"
      ]
     },
     "metadata": {},
     "output_type": "display_data"
    },
    {
     "data": {
      "text/plain": [
       "'K=9, class6'"
      ]
     },
     "metadata": {},
     "output_type": "display_data"
    },
    {
     "data": {
      "text/plain": [
       "'K=9, class7'"
      ]
     },
     "metadata": {},
     "output_type": "display_data"
    }
   ],
   "source": [
    "currClass = 6\n",
    "tBin = 31\n",
    "nBins = np.max(wins)\n",
    "allAccuracy = np.zeros((10,7,nBins+1))\n",
    "for k in range(0,10):\n",
    "    for c in range(0,7):\n",
    "        display(\"K=\"+str(k)+\", class\"+str(c+1))\n",
    "        for t in range(0,nBins+1):\n",
    "\n",
    "            currInput = InputsByClassTime[currClass][tBin]\n",
    "            currlabels = currClass*np.ones(InputsByClassTime[currClass].shape[1])\n",
    "            X_train, X_test, y_train, y_test = setupDataForNetwork2(currInput, currlabels, [currClass],testSize = 0.9)\n",
    "\n",
    "            y_train = y_train*currClass\n",
    "            y_train = np.append(y_train,6)\n",
    "            targetsOneHot = np.delete(to_categorical(y_train),-1,axis=0)\n",
    "\n",
    "            _, accuracy = saved_model.evaluate(X_train, targetsOneHot, batch_size=64, verbose=0)\n",
    "\n",
    "            allAccuracy[k,c,t] = accuracy\n"
   ]
  },
  {
   "cell_type": "code",
   "execution_count": 254,
   "metadata": {},
   "outputs": [
    {
     "data": {
      "image/png": "[encoded data removed]",
      "text/plain": [
       "<Figure size 432x288 with 1 Axes>"
      ]
     },
     "metadata": {
      "needs_background": "light"
     },
     "output_type": "display_data"
    }
   ],
   "source": [
    "mean = np.mean(np.mean(allAccuracy*100, axis=0), axis=0)\n",
    "standard_dev = np.std(np.std(allAccuracy*100, axis=0), axis=0)\n",
    "binLabels = np.arange(-31*(S/2)/128,32*(S/2)/128,S/2/128)\n",
    "plt.fill_between(binLabels, mean-standard_dev, mean+standard_dev, alpha = 0.5)\n",
    "plt.plot(binLabels,mean,'k')\n",
    "plt.plot([-1, 1],[1/7*100, 1/7*100],'k')\n",
    "plt.plot([0, 0],[0, 100],'k')\n",
    "plt.ylim((0, 100))\n",
    "plt.xlim((-1, 1))\n",
    "plt.xlabel(\"t (s)\")\n",
    "plt.ylabel(\"accuracy (%)\")\n",
    "plt.savefig('ClassificationAcrossBins.pdf')"
   ]
  },
  {
   "cell_type": "code",
   "execution_count": 245,
   "metadata": {},
   "outputs": [
    {
     "data": {
      "text/plain": [
       "(-1, 1)"
      ]
     },
     "execution_count": 245,
     "metadata": {},
     "output_type": "execute_result"
    },
    {
     "data": {
      "image/png": "[encoded data removed]",
      "text/plain": [
       "<Figure size 432x288 with 1 Axes>"
      ]
     },
     "metadata": {
      "needs_background": "light"
     },
     "output_type": "display_data"
    }
   ],
   "source": [
    "#plt.plot(allAccuracy[0,:])\n",
    "#plt.plot(np.mean(allAccuracy, axis=0))\n",
    "#plt.plot(np.std(allAccuracy, axis=0))\n",
    "mean = np.mean(allAccuracy*100, axis=0)\n",
    "standard_dev = np.std(allAccuracy*100, axis=0)\n",
    "binLabels = np.arange(-31*(S/2)/128,32*(S/2)/128,S/2/128)\n",
    "#plt.fill_between(binLabels, mean-standard_dev, mean+standard_dev, alpha = 0.5)\n",
    "plt.plot(binLabels,mean)\n",
    "plt.plot([-1, 1],[1/7*100, 1/7*100])\n",
    "plt.plot([0, 0],[0, 100])\n",
    "#plt.plot(binLabels,np.transpose(allAccuracy)*100)\n",
    "plt.ylim((0, 100))\n",
    "plt.xlim((-1, 1))\n"
   ]
  },
  {
   "cell_type": "code",
   "execution_count": null,
   "metadata": {},
   "outputs": [],
   "source": [
    "with open(\"CascadeModel_trainData.pickle\", \"rb\") as f:\n",
    "    Dataset = pickle.load(f)\n",
    "    \n",
    "X_train = Dataset[0]\n",
    "X_test = Dataset[1]\n",
    "y_train = Dataset[2]\n",
    "y_test = Dataset[3]"
   ]
  },
  {
   "cell_type": "code",
   "execution_count": 263,
   "metadata": {},
   "outputs": [
    {
     "data": {
      "text/plain": [
       "[1, 2, 3, 4, 5, 6, 7]"
      ]
     },
     "metadata": {},
     "output_type": "display_data"
    },
    {
     "name": "stdout",
     "output_type": "stream",
     "text": [
      "66062/66062 [==============================] - 126s 2ms/step\n"
     ]
    },
    {
     "data": {
      "text/plain": [
       "(66062,)"
      ]
     },
     "execution_count": 263,
     "metadata": {},
     "output_type": "execute_result"
    }
   ],
   "source": [
    "class2Cons = [1,2,3,4,5,6,7]\n",
    "nClasses = len(class2Cons)\n",
    "display(class2Cons)\n",
    "\n",
    "#X_train, X_test, y_train, y_test = setupDataForNetwork(ME_db_2Dmesh, class2Cons, S, S//2, nTrial_class)\n",
    "\n",
    "predictions = saved_model.predict(X_test,batch_size=64, verbose=1)\n",
    "predictions.argmax(axis=1).shape"
   ]
  },
  {
   "cell_type": "code",
   "execution_count": 265,
   "metadata": {},
   "outputs": [
    {
     "data": {
      "text/plain": [
       "array([[1.24585559e-03, 4.15164046e-03, 8.35484445e-01, 6.65378645e-02,\n",
       "        1.35203665e-02, 7.82415196e-02, 8.18264205e-04],\n",
       "       [9.89283681e-01, 4.22796933e-03, 3.61829843e-05, 7.95081505e-05,\n",
       "        1.84170168e-03, 3.84124485e-03, 6.89636392e-04],\n",
       "       [1.07743348e-09, 6.37141920e-06, 9.99982357e-01, 6.02465707e-06,\n",
       "        2.16071655e-07, 5.05388152e-06, 3.36176087e-11],\n",
       "       [3.76481040e-07, 7.38855158e-11, 2.19801222e-09, 1.04231083e-06,\n",
       "        9.99998450e-01, 1.50764933e-07, 5.20527686e-13],\n",
       "       [1.10377534e-03, 9.85433944e-05, 1.60152965e-07, 2.20284594e-04,\n",
       "        6.81088786e-05, 1.25648943e-03, 9.97252643e-01]], dtype=float32)"
      ]
     },
     "execution_count": 265,
     "metadata": {},
     "output_type": "execute_result"
    }
   ],
   "source": [
    "predictions[0:5,:]"
   ]
  },
  {
   "cell_type": "code",
   "execution_count": 200,
   "metadata": {},
   "outputs": [],
   "source": [
    "from sklearn.utils.multiclass import unique_labels\n",
    "\n",
    "def plot_confusion_matrix(y_true, y_pred, classes,\n",
    "                          normalize=False,\n",
    "                          title=None,\n",
    "                          cmap=plt.cm.Blues, saveFit=False, figName='test.pdf'):\n",
    "    \"\"\"\n",
    "    This function prints and plots the confusion matrix.\n",
    "    Normalization can be applied by setting `normalize=True`.\n",
    "    \"\"\"\n",
    "    if not title:\n",
    "        if normalize:\n",
    "            title = 'Normalized confusion matrix'\n",
    "        else:\n",
    "            title = 'Confusion matrix, without normalization'\n",
    "\n",
    "    # Compute confusion matrix\n",
    "    cm = confusion_matrix(y_true, y_pred)\n",
    "    # Only use the labels that appear in the data\n",
    "    classes = classes[unique_labels(y_true, y_pred)]\n",
    "    if normalize:\n",
    "        cm = cm.astype('float') / cm.sum(axis=1)[:, np.newaxis]\n",
    "        print(\"Normalized confusion matrix\")\n",
    "    else:\n",
    "        print('Confusion matrix, without normalization')\n",
    "\n",
    "    print(cm)\n",
    "\n",
    "    fig, ax = plt.subplots()\n",
    "    if normalize:\n",
    "        im = ax.imshow(cm, interpolation='nearest', vmin=0, vmax=1, cmap=cmap)\n",
    "    else:\n",
    "        im = ax.imshow(cm, interpolation='nearest', cmap=cmap)\n",
    "    ax.figure.colorbar(im, ax=ax)\n",
    "    # We want to show all ticks...\n",
    "    ax.set(xticks=np.arange(cm.shape[1]),\n",
    "           yticks=np.arange(cm.shape[0]),\n",
    "           # ... and label them with the respective list entries\n",
    "           xticklabels=classes, yticklabels=classes,\n",
    "           title=title,\n",
    "           ylabel='True label',\n",
    "           xlabel='Predicted label')\n",
    "\n",
    "    # Rotate the tick labels and set their alignment.\n",
    "    plt.setp(ax.get_xticklabels(), rotation=45, ha=\"right\",\n",
    "             rotation_mode=\"anchor\")\n",
    "\n",
    "    # Loop over data dimensions and create text annotations.\n",
    "    fmt = '.2f' if normalize else 'd'\n",
    "    thresh = cm.max() / 2.\n",
    "    for i in range(cm.shape[0]):\n",
    "        for j in range(cm.shape[1]):\n",
    "            ax.text(j, i, format(cm[i, j], fmt),\n",
    "                    ha=\"center\", va=\"center\",\n",
    "                    color=\"white\" if cm[i, j] > thresh else \"black\")\n",
    "    fig.tight_layout()\n",
    "    plt.xlim(-0.5, len(np.unique(y_true))-0.5)\n",
    "    plt.ylim(len(np.unique(y_true))-0.5, -0.5)\n",
    "    \n",
    "    if saveFit:\n",
    "        plt.savefig(figName)\n",
    "    return plt, ax"
   ]
  },
  {
   "cell_type": "code",
   "execution_count": 183,
   "metadata": {},
   "outputs": [
    {
     "name": "stdout",
     "output_type": "stream",
     "text": [
      "Confusion matrix, without normalization\n",
      "[[35178   786   324   194   375   148   703]\n",
      " [  519 35576   459   478    74   173   411]\n",
      " [  321   718 35500   351   386   286   206]\n",
      " [  121   657   273 35354   157   437   594]\n",
      " [  508   116   657   210 35245   557   464]\n",
      " [  104   304   338   812   376 35703   295]\n",
      " [  451   398   127   453   240   166 35964]]\n",
      "Normalized confusion matrix\n",
      "[[0.93290548 0.02084438 0.00859234 0.0051448  0.00994484 0.0039249\n",
      "  0.01864326]\n",
      " [0.01377023 0.94391085 0.0121783  0.01268241 0.00196339 0.00459008\n",
      "  0.01090475]\n",
      " [0.00849926 0.0190108  0.93994916 0.00929358 0.01022029 0.00757255\n",
      "  0.00545435]\n",
      " [0.00321868 0.01747666 0.00726199 0.94044104 0.00417631 0.0116245\n",
      "  0.01580081]\n",
      " [0.01345446 0.00307228 0.01740075 0.00556188 0.93346929 0.01475223\n",
      "  0.01228911]\n",
      " [0.00274175 0.00801434 0.00891068 0.02140673 0.00991247 0.94123695\n",
      "  0.00777707]\n",
      " [0.01193153 0.01052938 0.00335988 0.01198444 0.00634937 0.00439165\n",
      "  0.95145374]]\n"
     ]
    },
    {
     "data": {
      "image/png": "[encoded data removed]",
      "text/plain": [
       "<Figure size 432x288 with 2 Axes>"
      ]
     },
     "metadata": {
      "needs_background": "light"
     },
     "output_type": "display_data"
    },
    {
     "data": {
      "image/png": "[encoded data removed]",
      "text/plain": [
       "<Figure size 432x288 with 2 Axes>"
      ]
     },
     "metadata": {
      "needs_background": "light"
     },
     "output_type": "display_data"
    }
   ],
   "source": [
    "#np.set_printoptions(precision=2)\n",
    "class_names = np.array(['Fle', 'Ext', 'Sup', 'Pro', 'Clo','Opn','Rest'])\n",
    "# Plot non-normalized confusion matrix\n",
    "plot_confusion_matrix(y_train-1, predictions.argmax(axis=1), classes=class_names,\n",
    "                      title='Confusion matrix, without normalization')\n",
    "\n",
    "# Plot normalized confusion matrix\n",
    "plot_confusion_matrix(y_train-1, predictions.argmax(axis=1), classes=class_names, normalize=True,\n",
    "                      title='Normalized confusion matrix')\n",
    "\n",
    "plt.show()"
   ]
  },
  {
   "cell_type": "code",
   "execution_count": 264,
   "metadata": {},
   "outputs": [
    {
     "name": "stdout",
     "output_type": "stream",
     "text": [
      "Normalized confusion matrix\n",
      "[[0.84365029 0.03775792 0.02063391 0.01393321 0.02605829 0.0252074\n",
      "  0.03275899]\n",
      " [0.03185265 0.85222102 0.04734561 0.01375948 0.01213434 0.0099675\n",
      "  0.03271939]\n",
      " [0.01756771 0.03492628 0.85475269 0.03022064 0.01892711 0.03022064\n",
      "  0.01338492]\n",
      " [0.02132151 0.01625501 0.04749842 0.82256703 0.03082119 0.0180494\n",
      "  0.04348744]\n",
      " [0.02641429 0.01582718 0.02545182 0.03144049 0.85477489 0.02641429\n",
      "  0.01967704]\n",
      " [0.02373451 0.01081706 0.03938248 0.01081706 0.02320941 0.8600084\n",
      "  0.03203109]\n",
      " [0.02195378 0.04065126 0.01512605 0.02794118 0.01008403 0.0262605\n",
      "  0.85798319]]\n"
     ]
    },
    {
     "data": {
      "image/png": "[encoded data removed]",
      "text/plain": [
       "<Figure size 432x288 with 2 Axes>"
      ]
     },
     "metadata": {
      "needs_background": "light"
     },
     "output_type": "display_data"
    }
   ],
   "source": [
    "plt,ax =plot_confusion_matrix(y_test-1, predictions.argmax(axis=1), classes=class_names, normalize=True,\n",
    "                      title='Normalized confusion matrix', saveFit=True, figName='ConfusionMatrix.pdf')\n"
   ]
  },
  {
   "cell_type": "code",
   "execution_count": 192,
   "metadata": {},
   "outputs": [
    {
     "data": {
      "text/plain": [
       "<matplotlib.axes._subplots.AxesSubplot at 0x1d7328efc18>"
      ]
     },
     "execution_count": 192,
     "metadata": {},
     "output_type": "execute_result"
    }
   ],
   "source": [
    "ax"
   ]
  },
  {
   "cell_type": "code",
   "execution_count": null,
   "metadata": {},
   "outputs": [],
   "source": []
  },
  {
   "cell_type": "code",
   "execution_count": 169,
   "metadata": {},
   "outputs": [
    {
     "data": {
      "text/plain": [
       "array([[35178,   519,   321,   121,   508,   104,   451],\n",
       "       [  786, 35576,   718,   657,   116,   304,   398],\n",
       "       [  324,   459, 35500,   273,   657,   338,   127],\n",
       "       [  194,   478,   351, 35354,   210,   812,   453],\n",
       "       [  375,    74,   386,   157, 35245,   376,   240],\n",
       "       [  148,   173,   286,   437,   557, 35703,   166],\n",
       "       [  703,   411,   206,   594,   464,   295, 35964]], dtype=int64)"
      ]
     },
     "execution_count": 169,
     "metadata": {},
     "output_type": "execute_result"
    },
    {
     "data": {
      "image/png": "[encoded data removed]",
      "text/plain": [
       "<Figure size 432x288 with 1 Axes>"
      ]
     },
     "metadata": {
      "needs_background": "light"
     },
     "output_type": "display_data"
    }
   ],
   "source": [
    "from sklearn.metrics import confusion_matrix\n",
    "confusionMatrix = confusion_matrix(predictions.argmax(axis=1)+1, y_train)\n",
    "plt.imshow(confusionMatrix)\n",
    "confusionMatrix"
   ]
  },
  {
   "cell_type": "code",
   "execution_count": null,
   "metadata": {},
   "outputs": [],
   "source": [
    "class2Cons = [1,2,3,4,5,6,7]\n",
    "nClasses = len(class2Cons)\n",
    "display(class2Cons)\n",
    "\n",
    "X_train, X_test, y_train, y_test = setupDataForNetwork(ME_db_2Dmesh, class2Cons, S, S//2, nTrial_class)\n",
    "\n",
    "# define model\n",
    "model = cascadeModel(X_train, nClasses, dropout_rate=dropout_rate, opt=keras.optimizers.Adam(learning_rate=learning_rate))\n",
    "\n",
    "# define early stopping and checkpoints\n",
    "from keras.callbacks import ModelCheckpoint, EarlyStopping\n",
    "outputFile = output_dir+\"/CascadeModel_S\"+str(S)+\"_C1to7_\"+\"Epochs\"+str(nEpochs)+\".h5\"\n",
    "checkpoint = ModelCheckpoint(outputFile, monitor='val_accuracy', verbose=1, save_best_only=True, save_weights_only=False, mode='auto', period=1)\n",
    "early = EarlyStopping(monitor='val_accuracy', min_delta=0, patience=20, verbose=1, mode='auto')\n",
    "\n",
    "# fit network\n",
    "targetsOneHot = to_categorical(y_train-1)\n",
    "history = model.fit(X_train, targetsOneHot, epochs=nEpochs, batch_size=64, verbose=1, validation_split=0.2, callbacks=[checkpoint, early])\n",
    "# evaluate model\n",
    "targetsOneHot = to_categorical(y_test-1)\n",
    "_, accuracy = model.evaluate(X_test, targetsOneHot, batch_size=64, verbose=1)\n",
    "display(accuracy)\n",
    "\n",
    "# save the fitting history to a file\n",
    "with open(output_dir+\"/CascadeModel_trainHistoryDict\", 'wb') as file_pi:\n",
    "  pickle.dump(history.history, file_pi)\n",
    "\n"
   ]
  }
 ],
 "metadata": {
  "kernelspec": {
   "display_name": "Python 3",
   "language": "python",
   "name": "python3"
  },
  "language_info": {
   "codemirror_mode": {
    "name": "ipython",
    "version": 3
   },
   "file_extension": ".py",
   "mimetype": "text/x-python",
   "name": "python",
   "nbconvert_exporter": "python",
   "pygments_lexer": "ipython3",
   "version": "3.6.9"
  }
 },
 "nbformat": 4,
 "nbformat_minor": 4
}
