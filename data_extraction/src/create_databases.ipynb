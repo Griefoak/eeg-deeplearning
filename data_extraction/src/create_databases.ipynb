{
 "cells": [
  {
   "cell_type": "code",
   "execution_count": 1,
   "metadata": {},
   "outputs": [],
   "source": [
    "import numpy as np\n",
    "import time\n",
    "import os\n",
    "import sys\n",
    "import bz2\n",
    "import pickle"
   ]
  },
  {
   "cell_type": "code",
   "execution_count": 2,
   "metadata": {},
   "outputs": [],
   "source": [
    "def get_all_files(dir):\n",
    "    filelist = []\n",
    "\n",
    "    for root, dirs, files in os.walk(dir):\n",
    "        for file in files:\n",
    "            filelist.append(os.path.join(root,file))\n",
    "\n",
    "    return filelist"
   ]
  },
  {
   "cell_type": "code",
   "execution_count": 4,
   "metadata": {},
   "outputs": [
    {
     "name": "stdout",
     "output_type": "stream",
     "text": [
      "Processing 300 files\n",
      "Complete loading and merging maps in 11.954892 s\n",
      "Finished writing 2365.96 MB of data to prelim_ME_db.pickle in 12.653038 s\n",
      "Finished writing 2365.96 MB of data to prelim_MI_db.pickle in 9.385582 s\n"
     ]
    }
   ],
   "source": [
    "prelim_ME_db = {1:[], 2:[], 3:[], 4:[], 5:[], 6:[], 7:[]}\n",
    "prelim_MI_db = {1:[], 2:[], 3:[], 4:[], 5:[], 6:[], 7:[]}\n",
    "\n",
    "pwd = os.getcwd()\n",
    "processed_data_dir = pwd + \"/\" + \"processed_data\"\n",
    "filelist = get_all_files(processed_data_dir)\n",
    "\n",
    "print(\"Processing %d files\" % (len(filelist)))\n",
    "\n",
    "t1 = time.time()\n",
    "data = None\n",
    "while len(filelist) > 0:\n",
    "    with open(filelist.pop(), 'rb') as f:\n",
    "        data = pickle.load(f)\n",
    "        f_name = os.path.basename(f.name)\n",
    "        db = None\n",
    "        if \"ME\" in f_name:\n",
    "            db = prelim_ME_db\n",
    "        else:\n",
    "            db = prelim_MI_db\n",
    "        for key in data.keys():\n",
    "            db[key].extend(data[key])\n",
    "            \n",
    "print(\"Complete loading and merging maps in %f s\" % (time.time()-t1))\n",
    "\n",
    "t1 = time.time()\n",
    "f = open(\"prelim_ME_db.pickle\", \"wb\")\n",
    "i_str = pickle.dumps(prelim_ME_db)\n",
    "f_size = sys.getsizeof(i_str)/1048576\n",
    "f.write(i_str)\n",
    "f.close()\n",
    "    \n",
    "print(\"Finished writing %.2f MB of data to prelim_ME_db.pickle in %f s\" % (f_size, time.time()-t1))\n",
    "\n",
    "t1 = time.time()\n",
    "f = open(\"prelim_MI_db.pickle\", \"wb\")\n",
    "i_str = pickle.dumps(prelim_MI_db)\n",
    "f_size = sys.getsizeof(i_str)/1048576\n",
    "f.write(i_str)\n",
    "f.close()\n",
    "    \n",
    "print(\"Finished writing %.2f MB of data to prelim_MI_db.pickle in %f s\" % (f_size, time.time()-t1))"
   ]
  }
 ],
 "metadata": {
  "kernelspec": {
   "display_name": "Python 3",
   "language": "python",
   "name": "python3"
  },
  "language_info": {
   "codemirror_mode": {
    "name": "ipython",
    "version": 3
   },
   "file_extension": ".py",
   "mimetype": "text/x-python",
   "name": "python",
   "nbconvert_exporter": "python",
   "pygments_lexer": "ipython3",
   "version": "3.6.10"
  }
 },
 "nbformat": 4,
 "nbformat_minor": 4
}
