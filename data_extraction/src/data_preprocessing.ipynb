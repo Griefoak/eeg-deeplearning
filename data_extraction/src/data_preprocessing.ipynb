{
 "cells": [
  {
   "cell_type": "code",
   "execution_count": 1,
   "metadata": {},
   "outputs": [],
   "source": [
    "import numpy as np\n",
    "import time\n",
    "import os\n",
    "import sys\n",
    "import bz2\n",
    "import pickle\n",
    "from data_preprocess import data_1D_to_2D\n",
    "from channel_maps import channel_label_map, channel_loc_map"
   ]
  },
  {
   "cell_type": "code",
   "execution_count": 2,
   "metadata": {},
   "outputs": [],
   "source": [
    "ME_db = {}\n",
    "with open(\"prelim_ME_db.pickle\", \"rb\") as f:\n",
    "    ME_db = pickle.load(f)"
   ]
  },
  {
   "cell_type": "code",
   "execution_count": 3,
   "metadata": {},
   "outputs": [
    {
     "name": "stdout",
     "output_type": "stream",
     "text": [
      "['', '', '', '', 'F4', 'FFC6h', 'FC6', 'FTT8h', '', '']\n",
      "['', '', '', 'F2', 'FFC4h', 'FC4', 'FCC6h', 'C6', 'TTP8h', '']\n",
      "['', '', 'Fz', 'FFC2h', 'FC2', 'FCC4h', 'C4', 'CCP6h', 'CP6', '']\n",
      "['', 'F1', 'FFC1h', 'FCz', 'FCC2h', 'C2', 'CCP4h', 'CP4', 'CPP6h', '']\n",
      "['F3', 'FFC3h', 'FC1', 'FCC1h', 'Cz', 'CCP2h', 'CP2', 'CPP4h', 'P4', '']\n",
      "['FFC5h', 'FC3', 'FCC3h', 'C1', 'CCP1h', 'CPz', 'CPP2h', 'P2', '', '']\n",
      "['FC5', 'FCC5h', 'C3', 'CCP3h', 'CP1', 'CPP1h', 'Pz', 'PPO2h', '', '']\n",
      "['FTT7h', 'C5', 'CCP5h', 'CP3', 'CPP3h', 'P1', 'PPO1h', '', '', '']\n",
      "['', 'TTP7h', 'CP5', 'CPP5h', 'P3', '', '', '', '', '']\n"
     ]
    }
   ],
   "source": [
    "CLM = channel_loc_map()\n",
    "\n",
    "# populate the mesh with the electrodes\n",
    "mesh = [ [ \"\" for y in range(0,10) ] for x in range(0,10) ] \n",
    "for chan in range(0,np.shape(CLM)[0]):\n",
    "    mesh[CLM[chan][0]][CLM[chan][1]] = channel_label_map[chan+1]\n",
    "\n",
    "# print the 2D mesh of channels\n",
    "for x in range(0,9): \n",
    "    print(mesh[x])"
   ]
  },
  {
   "cell_type": "code",
   "execution_count": 10,
   "metadata": {
    "scrolled": true
   },
   "outputs": [
    {
     "name": "stdout",
     "output_type": "stream",
     "text": [
      "Converting 1D to 2D mesh takes 337.492795 s\n"
     ]
    }
   ],
   "source": [
    "CLM = channel_loc_map()\n",
    "\n",
    "t1 = time.time()\n",
    "ME_db_2Dmesh = data_1D_to_2D(ME_db, 9, 9, CLM)\n",
    "print(\"Converting 1D to 2D mesh takes %f s\" % (time.time()-t1))"
   ]
  },
  {
   "cell_type": "code",
   "execution_count": 11,
   "metadata": {},
   "outputs": [
    {
     "name": "stdout",
     "output_type": "stream",
     "text": [
      "Finished writing 2993.93 MB of data to mesh_ME_db2.pickle in 37.240328 s\n"
     ]
    }
   ],
   "source": [
    "t1 = time.time()\n",
    "f = open(\"mesh_ME_db.pickle\", \"wb\")\n",
    "i_str = pickle.dumps(ME_db_2Dmesh)\n",
    "f_size = sys.getsizeof(i_str)/1048576\n",
    "f.write(i_str)\n",
    "f.close()\n",
    "print(\"Finished writing %.2f MB of data to mesh_ME_db2.pickle in %f s\" % (f_size, time.time()-t1))"
   ]
  },
  {
   "cell_type": "code",
   "execution_count": 16,
   "metadata": {},
   "outputs": [
    {
     "data": {
      "text/plain": [
       "(900, 769, 64)"
      ]
     },
     "metadata": {},
     "output_type": "display_data"
    },
    {
     "data": {
      "text/plain": [
       "(900, 769, 9, 9)"
      ]
     },
     "metadata": {},
     "output_type": "display_data"
    }
   ],
   "source": [
    "display(np.shape(ME_db[1]))\n",
    "display(np.shape(ME_db_2Dmesh[1]))"
   ]
  },
  {
   "cell_type": "code",
   "execution_count": null,
   "metadata": {},
   "outputs": [],
   "source": []
  }
 ],
 "metadata": {
  "kernelspec": {
   "display_name": "Python 3",
   "language": "python",
   "name": "python3"
  },
  "language_info": {
   "codemirror_mode": {
    "name": "ipython",
    "version": 3
   },
   "file_extension": ".py",
   "mimetype": "text/x-python",
   "name": "python",
   "nbconvert_exporter": "python",
   "pygments_lexer": "ipython3",
   "version": "3.6.10"
  }
 },
 "nbformat": 4,
 "nbformat_minor": 4
}
