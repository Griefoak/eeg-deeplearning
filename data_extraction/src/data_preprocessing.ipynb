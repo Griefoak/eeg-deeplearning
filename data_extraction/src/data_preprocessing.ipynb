{
 "cells": [
  {
   "cell_type": "code",
   "execution_count": 19,
   "metadata": {},
   "outputs": [],
   "source": [
    "import numpy as np\n",
    "import time\n",
    "import os\n",
    "import sys\n",
    "import bz2\n",
    "import pickle\n",
    "from data_preprocess import data_1D_to_2D\n",
    "from channel_maps import channel_label_map, channel_loc_map"
   ]
  },
  {
   "cell_type": "code",
   "execution_count": 4,
   "metadata": {},
   "outputs": [],
   "source": [
    "ME_db = {}\n",
    "with open(\"prelim_ME_db.pickle\", \"rb\") as f:\n",
    "    ME_db = pickle.load(f)"
   ]
  },
  {
   "cell_type": "code",
   "execution_count": 22,
   "metadata": {
    "scrolled": true
   },
   "outputs": [
    {
     "name": "stdout",
     "output_type": "stream",
     "text": [
      "Converting 1D to 2D mesh takes 232.070382 s\n"
     ]
    }
   ],
   "source": [
    "CLM = []\n",
    "\n",
    "for r in range(len(channel_loc_map)):\n",
    "    for c in range(len(channel_loc_map[0])):\n",
    "        if channel_loc_map[r][c] > 0:\n",
    "            CLM.append((r, c))\n",
    "\n",
    "t1 = time.time()\n",
    "ME_db_2Dmesh = data_1D_to_2D(ME_db, 10, 11, CLM)\n",
    "print(\"Converting 1D to 2D mesh takes %f s\" % (time.time()-t1))"
   ]
  },
  {
   "cell_type": "code",
   "execution_count": 29,
   "metadata": {},
   "outputs": [
    {
     "name": "stdout",
     "output_type": "stream",
     "text": [
      "Finished writing 4065.83 MB of data to mesh_ME_db.pickle in 24.934874 s\n"
     ]
    }
   ],
   "source": [
    "t1 = time.time()\n",
    "f = open(\"mesh_ME_db.pickle\", \"wb\")\n",
    "i_str = pickle.dumps(ME_db_2Dmesh)\n",
    "f_size = sys.getsizeof(i_str)/1048576\n",
    "f.write(i_str)\n",
    "f.close()\n",
    "print(\"Finished writing %.2f MB of data to mesh_ME_db.pickle in %f s\" % (f_size, time.time()-t1))"
   ]
  }
 ],
 "metadata": {
  "kernelspec": {
   "display_name": "Python 3",
   "language": "python",
   "name": "python3"
  },
  "language_info": {
   "codemirror_mode": {
    "name": "ipython",
    "version": 3
   },
   "file_extension": ".py",
   "mimetype": "text/x-python",
   "name": "python",
   "nbconvert_exporter": "python",
   "pygments_lexer": "ipython3",
   "version": "3.6.9"
  }
 },
 "nbformat": 4,
 "nbformat_minor": 4
}
