{
 "cells": [
  {
   "cell_type": "code",
   "execution_count": 1,
   "metadata": {},
   "outputs": [],
   "source": [
    "import numpy as np\n",
    "import time\n",
    "from data_extract import *"
   ]
  },
  {
   "cell_type": "code",
   "execution_count": 2,
   "metadata": {},
   "outputs": [
    {
     "name": "stdout",
     "output_type": "stream",
     "text": [
      "Finished reading header\n",
      "Read header of /home/sweet/1-workdir/eeg001-2017/S01_ME/motorexecution_subject1_run1.gdf in 0.003634 s\n",
      "\n",
      "Finished reading data\n",
      "Read data of /home/sweet/1-workdir/eeg001-2017/S01_ME/motorexecution_subject1_run1.gdf in 34.850640 s\n",
      "\n",
      "Finished segregating data into classes in 0.607462 s\n",
      "\n",
      "Finished writing 14.27 MB of data to file in 3.601931 s\n",
      "\n",
      "Done processing file in 39.065811 s\n",
      "\n"
     ]
    }
   ],
   "source": [
    "gdf_fname = \"/home/sweet/1-workdir/eeg001-2017/S01_ME/motorexecution_subject1_run1.gdf\"\n",
    "compressed_fname = \"S1R1ME.bz2\"\n",
    "\n",
    "t1 = time.time()\n",
    "HDR, data = read_data(gdf_fname)\n",
    "seqs_v_class_map = segregate_data_into_classes(HDR, data)\n",
    "compress_segregated_data(seqs_v_class_map, compressed_fname)\n",
    "print(\"Done processing file in %f s\\n\" % (time.time() - t1))\n",
    "\n"
   ]
  }
 ],
 "metadata": {
  "kernelspec": {
   "display_name": "Python 3",
   "language": "python",
   "name": "python3"
  },
  "language_info": {
   "codemirror_mode": {
    "name": "ipython",
    "version": 3
   },
   "file_extension": ".py",
   "mimetype": "text/x-python",
   "name": "python",
   "nbconvert_exporter": "python",
   "pygments_lexer": "ipython3",
   "version": "3.6.9"
  }
 },
 "nbformat": 4,
 "nbformat_minor": 4
}
