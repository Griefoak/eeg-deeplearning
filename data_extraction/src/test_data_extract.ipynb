{
 "cells": [
  {
   "cell_type": "code",
   "execution_count": 1,
   "metadata": {},
   "outputs": [],
   "source": [
    "import numpy as np\n",
    "import time\n",
    "from data_extract_utils import *\n",
    "import multiprocessing\n",
    "import os"
   ]
  },
  {
   "cell_type": "code",
   "execution_count": 2,
   "metadata": {
    "scrolled": true
   },
   "outputs": [],
   "source": [
    "def get_all_files(dir):\n",
    "    filelist = []\n",
    "\n",
    "    for root, dirs, files in os.walk(dir):\n",
    "        for file in files:\n",
    "            filelist.append(os.path.join(root,file))\n",
    "\n",
    "    return filelist"
   ]
  },
  {
   "cell_type": "code",
   "execution_count": 3,
   "metadata": {},
   "outputs": [],
   "source": [
    "def process_file(fname):\n",
    "    print(\"Worker %d is processing file %s\\n\" %(os.getpid(), fname))\n",
    "    compressed_fname = fname[len(database_dir):].split('/')\n",
    "    run_idx = compressed_fname[1].split('.')\n",
    "    run_idx = run_idx[0].split('_')\n",
    "    compressed_fname = compressed_fname[0] + \"_\" + run_idx[-1] + \".pickle\"\n",
    "    \n",
    "    pwd = os.getcwd()\n",
    "    processed_file_dir = pwd + \"/processed_data\"\n",
    "    try:\n",
    "        if not os.path.isdir(processed_file_dir):\n",
    "            os.mkdir(processed_file_dir)\n",
    "    except OSError as error:\n",
    "        print(\"Cannot create directory. Exiting...\")\n",
    "        print(error)\n",
    "        \n",
    "    compressed_fname = processed_file_dir + \"/\" + compressed_fname\n",
    "\n",
    "    t1 = time.time()\n",
    "    HDR, data = read_data(fname)\n",
    "    seqs_v_class_map = segregate_data_into_classes(HDR, data)\n",
    "    compress_segregated_data(seqs_v_class_map, compressed_fname)\n",
    "    print(\"Worker %d is done processing file in %f s\\n\" % (os.getpid(), time.time() - t1))\n"
   ]
  },
  {
   "cell_type": "code",
   "execution_count": 4,
   "metadata": {
    "scrolled": false
   },
   "outputs": [
    {
     "name": "stdout",
     "output_type": "stream",
     "text": [
      "There are a total of 300 files in /home/sweet/1-workdir/eeg001-2017/\n",
      "\n",
      "**********START PROCESSING ALL FILES**********\n",
      "MAX NUMBER OF PROCESS = 16\n",
      "Worker 28395 is processing file /home/sweet/1-workdir/eeg001-2017/S14_MI/motorimagination_subject14_run5.gdf\n",
      "Worker 28397 is processing file /home/sweet/1-workdir/eeg001-2017/S10_MI/motorimagination_subject10_run10.gdf\n",
      "Worker 28401 is processing file /home/sweet/1-workdir/eeg001-2017/S07_MI/motorimagination_subject7_run4.gdf\n",
      "Worker 28399 is processing file /home/sweet/1-workdir/eeg001-2017/S12_MI/motorimagination_subject12_run2.gdf\n",
      "Worker 28396 is processing file /home/sweet/1-workdir/eeg001-2017/S14_MI/motorimagination_subject14_run3.gdf\n",
      "Worker 28398 is processing file /home/sweet/1-workdir/eeg001-2017/S10_MI/motorimagination_subject10_run4.gdf\n",
      "Worker 28402 is processing file /home/sweet/1-workdir/eeg001-2017/S07_MI/motorimagination_subject7_run3.gdf\n",
      "Worker 28400 is processing file /home/sweet/1-workdir/eeg001-2017/S12_MI/motorimagination_subject12_run9.gdf\n",
      "Worker 28405 is processing file /home/sweet/1-workdir/eeg001-2017/S03_MI/motorimagination_subject3_run5.gdf\n",
      "Worker 28404 is processing file /home/sweet/1-workdir/eeg001-2017/S14_ME/motorexecution_subject14_run6.gdf\n",
      "Worker 28403 is processing file /home/sweet/1-workdir/eeg001-2017/S14_ME/motorexecution_subject14_run1.gdf\n",
      "Worker 28406 is processing file /home/sweet/1-workdir/eeg001-2017/S03_MI/motorimagination_subject3_run9.gdf\n",
      "Worker 28408 is processing file /home/sweet/1-workdir/eeg001-2017/S09_MI/motorimagination_subject9_run10.gdf\n",
      "\n",
      "\n",
      "Worker 28410 is processing file /home/sweet/1-workdir/eeg001-2017/S02_ME/motorexecution_subject2_run8.gdf\n",
      "Worker 28407 is processing file /home/sweet/1-workdir/eeg001-2017/S09_MI/motorimagination_subject9_run4.gdf\n",
      "Worker 28409 is processing file /home/sweet/1-workdir/eeg001-2017/S02_ME/motorexecution_subject2_run2.gdf\n",
      "\n",
      "\n",
      "\n",
      "\n",
      "\n",
      "\n",
      "\n",
      "\n",
      "\n",
      "\n",
      "\n",
      "\n",
      "\n"
     ]
    }
   ],
   "source": [
    "database_dir = \"/home/sweet/1-workdir/eeg001-2017/\"\n",
    "filelist = get_all_files(database_dir)\n",
    "MAX_NPROCESS = multiprocessing.cpu_count()\n",
    "print(\"There are a total of %d files in %s\\n\" %(len(filelist), database_dir))\n",
    "print(\"**********START PROCESSING ALL FILES**********\")\n",
    "print(\"MAX NUMBER OF PROCESS = %d\" %(MAX_NPROCESS))\n",
    "\n",
    "p = multiprocessing.Pool(MAX_NPROCESS)\n",
    "p.map(process_file, filelist)\n",
    "\n",
    "# jobs = []\n",
    "# while len(filelist) > 0:\n",
    "#     for i in range(MAX_NPROCESS):\n",
    "#         if len(filelist) > 0:\n",
    "#             p = multiprocessing.Process(target=process_file, args=(filelist.pop(), ))\n",
    "#             jobs.append(p)\n",
    "#             p.start()\n",
    "\n",
    "#     for j in jobs:\n",
    "#         j.join()"
   ]
  },
  {
   "cell_type": "code",
   "execution_count": null,
   "metadata": {},
   "outputs": [],
   "source": []
  }
 ],
 "metadata": {
  "kernelspec": {
   "display_name": "Python 3",
   "language": "python",
   "name": "python3"
  },
  "language_info": {
   "codemirror_mode": {
    "name": "ipython",
    "version": 3
   },
   "file_extension": ".py",
   "mimetype": "text/x-python",
   "name": "python",
   "nbconvert_exporter": "python",
   "pygments_lexer": "ipython3",
   "version": "3.6.9"
  }
 },
 "nbformat": 4,
 "nbformat_minor": 4
}
