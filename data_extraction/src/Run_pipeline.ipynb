{
 "cells": [
  {
   "cell_type": "code",
   "execution_count": 1,
   "metadata": {},
   "outputs": [],
   "source": [
    "import numpy as np\n",
    "import math\n",
    "import time\n",
    "import xlrd\n",
    "import matplotlib.pyplot as plt\n",
    "from data_extract import *\n",
    "from data_preprocess import *\n"
   ]
  },
  {
   "cell_type": "markdown",
   "metadata": {},
   "source": [
    "# Data Extraction"
   ]
  },
  {
   "cell_type": "code",
   "execution_count": 2,
   "metadata": {},
   "outputs": [
    {
     "name": "stdout",
     "output_type": "stream",
     "text": [
      "Finished reading header\n",
      "Read header of C:/Users/Liangyu/Desktop/BME725/Final Project/Data/S01_ME/motorexecution_subject1_run1.gdf in 0.005981 s\n",
      "\n",
      "Finished reading data\n",
      "Read data of C:/Users/Liangyu/Desktop/BME725/Final Project/Data/S01_ME/motorexecution_subject1_run1.gdf in 46.872737 s\n",
      "\n",
      "Finished segregating data into classes in 0.653271 s\n",
      "\n",
      "Done processing file in 47.531990 s\n",
      "\n"
     ]
    }
   ],
   "source": [
    "gdf_fname = \"C:/Users/Liangyu/Desktop/BME725/Final Project/Data/S01_ME/motorexecution_subject1_run1.gdf\"\n",
    "compressed_fname = \"S1R1ME.bz2\"\n",
    "\n",
    "t1 = time.time()\n",
    "HDR, data = read_data(gdf_fname)\n",
    "seqs_v_class_map = segregate_data_into_classes(HDR, data)\n",
    "#compress_segregated_data(seqs_v_class_map, compressed_fname)\n",
    "print(\"Done processing file in %f s\\n\" % (time.time() - t1))\n",
    "\n",
    "# define sampling rate\n",
    "fs = int(HDR.SampleRate/2)"
   ]
  },
  {
   "cell_type": "markdown",
   "metadata": {},
   "source": [
    "# Window the 1D eeg vector data into time bins"
   ]
  },
  {
   "cell_type": "code",
   "execution_count": 3,
   "metadata": {},
   "outputs": [
    {
     "name": "stdout",
     "output_type": "stream",
     "text": [
      "(6, 769, 64)\n",
      "(6, 23, 64, 64)\n"
     ]
    }
   ],
   "source": [
    "# window size parameters\n",
    "width = int(fs/4)\n",
    "nOverlap = int(fs/8)\n",
    "initTime = 0\n",
    "finTime = int(fs*3)-nOverlap\n",
    "\n",
    "# segment the data based into windows\n",
    "seqs_v_class_map_binned = data_segmentation(seqs_v_class_map, initTime, finTime, width, nOverlap)\n",
    "\n",
    "# show the old and new array dimensions for class 1\n",
    "print(np.shape(seqs_v_class_map[1]))\n",
    "print(np.shape(seqs_v_class_map_binned[1]))"
   ]
  },
  {
   "cell_type": "markdown",
   "metadata": {},
   "source": [
    "# Convert 1D eeg vector to 2D spatial array"
   ]
  },
  {
   "cell_type": "code",
   "execution_count": 4,
   "metadata": {},
   "outputs": [
    {
     "name": "stdout",
     "output_type": "stream",
     "text": [
      "['   ', '   ', '   ', '   ', '   ', 'F3 ', 'F1 ', '   ', '   ', '   ', '   ']\n",
      "['   ', '   ', '   ', 'Fz ', 'F2 ', 'F4 ', 'FFC5h ', 'FFC3h ', '   ', '   ', '   ']\n",
      "['   ', 'FFC1h ', 'FFC2h ', 'FFC4h ', 'FFC6h ', 'FC5 ', 'FC3 ', 'FC1 ', 'FCz ', 'FC2 ', '   ']\n",
      "['   ', 'FC4 ', 'FC6 ', 'FTT7h ', 'FCC5h ', 'FCC3h ', 'FCC1h ', 'FCC2h ', 'FCC4h ', 'FCC6h ', '   ']\n",
      "['FTT8h ', 'C5 ', 'C3 ', 'C1 ', 'Cz ', 'C2 ', 'C4 ', 'C6 ', 'TTP7h ', 'CCP5h ', 'CCP3h ']\n",
      "['   ', 'CCP1h ', 'CCP2h ', 'CCP4h ', 'CCP6h ', 'TTP8h ', 'CP5 ', 'CP3 ', 'CP1 ', 'CPz ', '   ']\n",
      "['   ', 'CP2 ', 'CP4 ', 'CP6 ', 'CPP5h ', 'CPP3h ', 'CPP1h ', 'CPP2h ', 'CPP4h ', 'CPP6h ', '   ']\n",
      "['   ', '   ', '   ', 'P3 ', 'P1 ', 'Pz ', 'P2 ', 'P4 ', '   ', '   ', '   ']\n",
      "['   ', '   ', '   ', '   ', 'PPO1h ', 'PPO2h ', '   ', '   ', '   ', '   ', '   ']\n",
      "['   ', '   ', '   ', '   ', '   ', '   ', '   ', '   ', '   ', '   ', '   ']\n",
      "(6, 769, 10, 11)\n"
     ]
    }
   ],
   "source": [
    "# define the mapping of each channel to the r,c values of the mesh (This needs to be changed. I'ts currently just in order)\n",
    "maps = [(0, 4), (0, 5), (0, 6),\\\n",
    "        (1, 3), (1, 4), (1, 5), (1, 6), (1, 7),\\\n",
    "        (2, 1), (2, 2), (2, 3), (2, 4), (2, 5), (2, 6), (2, 7), (2, 8), (2, 9),\\\n",
    "        (3, 1), (3, 2), (3, 3), (3, 4), (3, 5), (3, 6), (3, 7), (3, 8), (3, 9),\\\n",
    "        (4, 0), (4, 1), (4, 2), (4, 3), (4, 4), (4, 5), (4, 6), (4, 7), (4, 8), (4, 9), (4, 10),\\\n",
    "        (5, 1), (5, 2), (5, 3), (5, 4), (5, 5), (5, 6), (5, 7), (5, 8), (5, 9),\\\n",
    "        (6, 1), (6, 2), (6, 3), (6, 4), (6, 5), (6, 6), (6, 7), (6, 8), (6, 9),\\\n",
    "        (7, 3), (7, 4), (7, 5), (7, 6), (7, 7),\\\n",
    "        (8, 4), (8, 5), (8, 6),\\\n",
    "        (9, 5)]\n",
    " \n",
    "# Give the location of the file that maps eeg index to channel name \n",
    "loc = (\"C:/Users/Liangyu/Desktop/BME725/Final Project/ChannelLabel.xlsx\") \n",
    "\n",
    "# Open the xls file\n",
    "wb = xlrd.open_workbook(loc) \n",
    "sheet = wb.sheet_by_index(0) \n",
    "\n",
    "# create the mesh\n",
    "mesh = [ [ \"   \" for y in range(0,11) ] for x in range(0,10) ] \n",
    "for chan in range(1,sheet.nrows):\n",
    "    mesh[maps[chan][0]][maps[chan][1]] = sheet.cell_value(chan, 1)\n",
    "\n",
    "# print the 2D mesh of channels\n",
    "for x in range(0,10): \n",
    "    print(mesh[x])\n",
    "    \n",
    "# change the 1D eeg signal to 2D eeg signal based on the defined map\n",
    "seqs_v_class_map_mesh2 = data_1D_to_2D(seqs_v_class_map, 10, 11, maps)\n",
    "# print the size of the new array for the first class\n",
    "print(np.shape(seqs_v_class_map_mesh2[1]))"
   ]
  },
  {
   "cell_type": "markdown",
   "metadata": {},
   "source": [
    "# Window the 2D eeg array data into time bins"
   ]
  },
  {
   "cell_type": "code",
   "execution_count": 5,
   "metadata": {},
   "outputs": [
    {
     "name": "stdout",
     "output_type": "stream",
     "text": [
      "(6, 769, 64)\n",
      "(6, 23, 64, 10, 11)\n"
     ]
    }
   ],
   "source": [
    "# window size parameters\n",
    "width = int(fs/4)\n",
    "nOverlap = int(fs/8)\n",
    "initTime = 0\n",
    "finTime = int(fs*3)-nOverlap\n",
    "\n",
    "# segment the data based into windows\n",
    "seqs_v_class_map_binned2 = data_segmentation(seqs_v_class_map_mesh2, initTime, finTime, width, nOverlap)\n",
    "\n",
    "# show the old and new array dimensions for class 1\n",
    "print(np.shape(seqs_v_class_map[1]))\n",
    "print(np.shape(seqs_v_class_map_binned2[1]))"
   ]
  },
  {
   "cell_type": "code",
   "execution_count": null,
   "metadata": {},
   "outputs": [],
   "source": []
  }
 ],
 "metadata": {
  "kernelspec": {
   "display_name": "Python 3",
   "language": "python",
   "name": "python3"
  },
  "language_info": {
   "codemirror_mode": {
    "name": "ipython",
    "version": 3
   },
   "file_extension": ".py",
   "mimetype": "text/x-python",
   "name": "python",
   "nbconvert_exporter": "python",
   "pygments_lexer": "ipython3",
   "version": "3.6.10"
  }
 },
 "nbformat": 4,
 "nbformat_minor": 4
}
