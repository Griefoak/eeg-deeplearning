{
 "cells": [
  {
   "cell_type": "code",
   "execution_count": 1,
   "metadata": {},
   "outputs": [],
   "source": [
    "import os\n",
    "import pickle\n",
    "import sys\n",
    "import time"
   ]
  },
  {
   "cell_type": "code",
   "execution_count": 5,
   "metadata": {},
   "outputs": [],
   "source": [
    "def get_all_files(dir):\n",
    "    filelist = []\n",
    "\n",
    "    for root, dirs, files in os.walk(dir):\n",
    "        for file in files:\n",
    "            if \"reject_trials\" not in file and \"noneeg\" not in file:\n",
    "                filelist.append(os.path.join(root,file))\n",
    "\n",
    "    return filelist"
   ]
  },
  {
   "cell_type": "code",
   "execution_count": 6,
   "metadata": {},
   "outputs": [
    {
     "name": "stdout",
     "output_type": "stream",
     "text": [
      "Processing 150 files\n"
     ]
    }
   ],
   "source": [
    "prelim_ME_db = {1:[], 2:[], 3:[], 4:[], 5:[], 6:[], 7:[]}\n",
    "prelim_MI_db = {1:[], 2:[], 3:[], 4:[], 5:[], 6:[], 7:[]}\n",
    "\n",
    "reject_ME_db = {1:[], 2:[], 3:[], 4:[], 5:[], 6:[], 7:[]}\n",
    "\n",
    "noneeg_ME_db = {1:[], 2:[], 3:[], 4:[], 5:[], 6:[], 7:[]}\n",
    "\n",
    "pwd = os.getcwd()\n",
    "processed_data_dir = \"../\" + \"processed_data\"\n",
    "filelist = get_all_files(processed_data_dir)\n",
    "\n",
    "print(\"Processing %d files\" % (len(filelist)))"
   ]
  },
  {
   "cell_type": "code",
   "execution_count": null,
   "outputs": [],
   "source": [
    "t1 = time.time()\n",
    "data = None\n",
    "while len(filelist) > 0:\n",
    "    seq_v_class_fname = filelist.pop()\n",
    "    tmp = seq_v_class_fname.split('.')\n",
    "    reject_trials_fname = tmp[0] + \"_reject_trials.\" + tmp[1]\n",
    "    noneeg_fname = tmp[0] + \"_noneeg.\" + tmp[1]\n",
    "    with open(seq_v_class_fname, 'rb') as seq_v_class_file, open(reject_trials_fname, 'rb') as reject_trials_file, open(noneeg_fname, 'rb') as noneeg_file:\n",
    "        seq_v_class_data = pickle.load(seq_v_class_file)\n",
    "        reject_trials_data = pickle.load(reject_trials_file)\n",
    "        noneeg_data = pickle.load(noneeg_file)\n",
    "        for key in seq_v_class_data.keys():\n",
    "            prelim_ME_db[key].extend(seq_v_class_data[key])\n",
    "            reject_ME_db[key].extend(reject_trials_data[key])\n",
    "            noneeg_ME_db[key].extend(noneeg_data[key])\n",
    "\n",
    "print(\"Complete loading and merging maps in %f s\" % (time.time()-t1))\n",
    "\n",
    "t1 = time.time()\n",
    "with open(\"prelim_ME_db.pickle\", \"wb\") as db, open(\"reject_ME_db.pickle\", 'wb') as rt, open(\"noneeg_ME_db.pickle\", \"wb\") as ne :\n",
    "    i_str = pickle.dumps(prelim_ME_db)\n",
    "    f_size = sys.getsizeof(i_str)/1048576\n",
    "    print(\"Finished writing %.2f MB of data to prelim_ME_db.pickle in %f s\" % (f_size, time.time()-t1))\n",
    "    db.write(i_str)\n",
    "\n",
    "    i_str = pickle.dumps(reject_ME_db)\n",
    "    f_size = sys.getsizeof(i_str)/1048576\n",
    "    print(\"Finished writing %.2f MB of data to reject_ME_db.pickle in %f s\" % (f_size, time.time()-t1))\n",
    "    rt.write(i_str)\n",
    "\n",
    "    i_str = pickle.dumps(noneeg_ME_db)\n",
    "    f_size = sys.getsizeof(i_str)/1048576\n",
    "    print(\"Finished writing %.2f MB of data to noneeg_ME_db.pickle in %f s\" % (f_size, time.time()-t1))\n",
    "    ne.write(i_str)"
   ],
   "metadata": {
    "collapsed": false,
    "pycharm": {
     "name": "#%%\n"
    }
   }
  },
  {
   "cell_type": "code",
   "execution_count": null,
   "outputs": [],
   "source": [
    "t1 = time.time()\n",
    "f = open(\"prelim_MI_db.pickle\", \"wb\")\n",
    "i_str = pickle.dumps(prelim_MI_db)\n",
    "f_size = sys.getsizeof(i_str)/1048576\n",
    "f.write(i_str)\n",
    "f.close()\n",
    "    \n",
    "print(\"Finished writing %.2f MB of data to prelim_MI_db.pickle in %f s\" % (f_size, time.time()-t1))"
   ],
   "metadata": {
    "collapsed": false,
    "pycharm": {
     "name": "#%%\n"
    }
   }
  }
 ],
 "metadata": {
  "kernelspec": {
   "display_name": "Python 3",
   "language": "python",
   "name": "python3"
  },
  "language_info": {
   "codemirror_mode": {
    "name": "ipython",
    "version": 3
   },
   "file_extension": ".py",
   "mimetype": "text/x-python",
   "name": "python",
   "nbconvert_exporter": "python",
   "pygments_lexer": "ipython3",
   "version": "3.6.9"
  }
 },
 "nbformat": 4,
 "nbformat_minor": 4
}