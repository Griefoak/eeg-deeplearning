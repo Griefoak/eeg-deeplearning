{
 "cells": [
  {
   "cell_type": "code",
   "execution_count": 1,
   "metadata": {},
   "outputs": [],
   "source": [
    "import multiprocessing\n",
    "import os\n",
    "\n",
    "from src.data_extract_utils import *"
   ]
  },
  {
   "cell_type": "code",
   "execution_count": 2,
   "metadata": {
    "scrolled": true
   },
   "outputs": [],
   "source": [
    "def get_all_files(dir):\n",
    "    filelist = []\n",
    "\n",
    "    for root, dirs, files in os.walk(dir):\n",
    "        for file in files:\n",
    "            filelist.append(os.path.join(root,file))\n",
    "\n",
    "    return filelist"
   ]
  },
  {
   "cell_type": "code",
   "execution_count": 7,
   "metadata": {},
   "outputs": [
    {
     "name": "stdout",
     "output_type": "stream",
     "text": [
      "Worker 32605 is processing file /home/sweet/1-workdir/eeg001-2017/S14_MI/motorimagination_subject14_run5.gdf\n",
      "\n",
      "1 0\n",
      "1 1\n"
     ]
    },
    {
     "ename": "ValueError",
     "evalue": "The truth value of an array with more than one element is ambiguous. Use a.any() or a.all()",
     "output_type": "error",
     "traceback": [
      "\u001B[0;31m---------------------------------------------------------------------------\u001B[0m",
      "\u001B[0;31mValueError\u001B[0m                                Traceback (most recent call last)",
      "\u001B[0;32m<ipython-input-7-83c3359c62ae>\u001B[0m in \u001B[0;36m<module>\u001B[0;34m\u001B[0m\n\u001B[1;32m     22\u001B[0m \u001B[0mHDR\u001B[0m\u001B[0;34m,\u001B[0m \u001B[0mdata\u001B[0m \u001B[0;34m=\u001B[0m \u001B[0mread_data\u001B[0m\u001B[0;34m(\u001B[0m\u001B[0mfname\u001B[0m\u001B[0;34m)\u001B[0m\u001B[0;34m\u001B[0m\u001B[0;34m\u001B[0m\u001B[0m\n\u001B[1;32m     23\u001B[0m \u001B[0mseqs_v_class_map\u001B[0m \u001B[0;34m=\u001B[0m \u001B[0msegregate_data_into_classes\u001B[0m\u001B[0;34m(\u001B[0m\u001B[0mHDR\u001B[0m\u001B[0;34m,\u001B[0m \u001B[0mdata\u001B[0m\u001B[0;34m)\u001B[0m\u001B[0;34m\u001B[0m\u001B[0;34m\u001B[0m\u001B[0m\n\u001B[0;32m---> 24\u001B[0;31m \u001B[0mseqs_v_class_map\u001B[0m \u001B[0;34m=\u001B[0m \u001B[0mreject_trials_from_map\u001B[0m\u001B[0;34m(\u001B[0m\u001B[0mseqs_v_class_map\u001B[0m\u001B[0;34m)\u001B[0m\u001B[0;34m\u001B[0m\u001B[0;34m\u001B[0m\u001B[0m\n\u001B[0m\u001B[1;32m     25\u001B[0m \u001B[0mCLM\u001B[0m \u001B[0;34m=\u001B[0m \u001B[0mchannel_loc_map\u001B[0m\u001B[0;34m(\u001B[0m\u001B[0;34m)\u001B[0m\u001B[0;34m\u001B[0m\u001B[0;34m\u001B[0m\u001B[0m\n\u001B[1;32m     26\u001B[0m \u001B[0mseqs_v_class_map\u001B[0m \u001B[0;34m=\u001B[0m \u001B[0mdata_1D_to_2D\u001B[0m\u001B[0;34m(\u001B[0m\u001B[0mseqs_v_class_map\u001B[0m\u001B[0;34m,\u001B[0m \u001B[0;36m9\u001B[0m\u001B[0;34m,\u001B[0m \u001B[0;36m9\u001B[0m\u001B[0;34m,\u001B[0m \u001B[0mCLM\u001B[0m\u001B[0;34m)\u001B[0m\u001B[0;34m\u001B[0m\u001B[0;34m\u001B[0m\u001B[0m\n",
      "\u001B[0;32m~/2-coursework/725bmes/eeg_deeplearning/data_extraction/src/data_extract_utils.py\u001B[0m in \u001B[0;36mreject_trials_from_map\u001B[0;34m(seqs_v_class_map)\u001B[0m\n\u001B[1;32m    149\u001B[0m \u001B[0;34m\u001B[0m\u001B[0m\n\u001B[1;32m    150\u001B[0m     \u001B[0;31m# reject entire trials by setting all values to 0 when the EOG of that trial is rejected as an artifact\u001B[0m\u001B[0;34m\u001B[0m\u001B[0;34m\u001B[0m\u001B[0;34m\u001B[0m\u001B[0m\n\u001B[0;32m--> 151\u001B[0;31m     \u001B[0;32mreturn\u001B[0m \u001B[0mrejectTrials\u001B[0m\u001B[0;34m(\u001B[0m\u001B[0mseqs_v_class_map\u001B[0m\u001B[0;34m,\u001B[0m \u001B[0mrejChan\u001B[0m\u001B[0;34m,\u001B[0m \u001B[0mcopyLib\u001B[0m\u001B[0;34m)\u001B[0m\u001B[0;34m\u001B[0m\u001B[0;34m\u001B[0m\u001B[0m\n\u001B[0m",
      "\u001B[0;32m~/2-coursework/725bmes/eeg_deeplearning/data_extraction/src/data_preprocess.py\u001B[0m in \u001B[0;36mrejectTrials\u001B[0;34m(seqs_v_class_map, rejTrial, copyLib)\u001B[0m\n\u001B[1;32m     36\u001B[0m         \u001B[0mprint\u001B[0m\u001B[0;34m(\u001B[0m\u001B[0mcurrClas\u001B[0m\u001B[0;34m,\u001B[0m \u001B[0mcurrTrial\u001B[0m\u001B[0;34m)\u001B[0m\u001B[0;34m\u001B[0m\u001B[0;34m\u001B[0m\u001B[0m\n\u001B[1;32m     37\u001B[0m \u001B[0;34m\u001B[0m\u001B[0m\n\u001B[0;32m---> 38\u001B[0;31m         \u001B[0mseqs_v_class_map_no_artifact\u001B[0m\u001B[0;34m[\u001B[0m\u001B[0mcurrClas\u001B[0m\u001B[0;34m]\u001B[0m\u001B[0;34m.\u001B[0m\u001B[0mremove\u001B[0m\u001B[0;34m(\u001B[0m\u001B[0mseqs_v_class_map_no_artifact\u001B[0m\u001B[0;34m[\u001B[0m\u001B[0mcurrClas\u001B[0m\u001B[0;34m]\u001B[0m\u001B[0;34m[\u001B[0m\u001B[0mcurrTrial\u001B[0m\u001B[0;34m]\u001B[0m\u001B[0;34m)\u001B[0m\u001B[0;34m\u001B[0m\u001B[0;34m\u001B[0m\u001B[0m\n\u001B[0m\u001B[1;32m     39\u001B[0m \u001B[0;34m\u001B[0m\u001B[0m\n\u001B[1;32m     40\u001B[0m     \u001B[0;32mreturn\u001B[0m \u001B[0mseqs_v_class_map_no_artifact\u001B[0m\u001B[0;34m\u001B[0m\u001B[0;34m\u001B[0m\u001B[0m\n",
      "\u001B[0;31mValueError\u001B[0m: The truth value of an array with more than one element is ambiguous. Use a.any() or a.all()"
     ]
    }
   ],
   "source": [
    "def process_file(fname, onlyME=True):\n",
    "    print(\"Worker %d is processing file %s\\n\" % (os.getpid(), fname))\n",
    "    trial_name = fname[len(database_dir):].split('/')\n",
    "\n",
    "    if onlyME and trial_name[0][-2:] == \"MI\":\n",
    "        print(\"Worker %d is SKIPPING file %s\\n\" % (os.getpid(), fname))\n",
    "        return\n",
    "\n",
    "    run_idx = trial_name[1].split('.')\n",
    "    run_idx = run_idx[0].split('_')\n",
    "    trial_name = trial_name[0] + \"_\" + run_idx[-1]\n",
    "\n",
    "    pwd = os.getcwd()\n",
    "    processed_file_dir = pwd + \"/processed_data\"\n",
    "    try:\n",
    "        if not os.path.isdir(processed_file_dir):\n",
    "            os.mkdir(processed_file_dir)\n",
    "    except OSError as error:\n",
    "        print(\"Cannot create directory. Exiting...\")\n",
    "        print(error)\n",
    "\n",
    "    seq_v_class_fname = processed_file_dir + \"/\" + trial_name + \".pickle\"\n",
    "    reject_trials_fname = processed_file_dir + \"/\" + trial_name + \"_reject_trials.pickle\"\n",
    "    noneeg_seqs_v_class_fname = processed_file_dir + \"/\" + trial_name + \"_noneeg.pickle\"\n",
    "\n",
    "    t1 = time.time()\n",
    "    HDR, data = read_data(fname)\n",
    "    seqs_v_class_map = segregate_data_into_classes(HDR, data)\n",
    "    noneeg_seqs_v_class_map = segregate_noneeg_data_into_classes(HDR, data)\n",
    "    rejected_trials = reject_trials_from_map(seqs_v_class_map)\n",
    "\n",
    "    rejected_trials_map = {}\n",
    "    for key in seqs_v_class_map.keys():\n",
    "        rejected_trials_map[key] = np.zeros(len(seqs_v_class_map[key]), dtype='uint8')\n",
    "\n",
    "    for l in rejected_trials:\n",
    "        rejected_trials_map[l[0]][l[1]] = 1\n",
    "\n",
    "    # CLM = channel_loc_map()\n",
    "    # seqs_v_class_map = data_1D_to_2D(seqs_v_class_map, 9, 9, CLM)\n",
    "    pickle_data(seqs_v_class_map, seq_v_class_fname)\n",
    "    pickle_data(rejected_trials_map, reject_trials_fname)\n",
    "    pickle_data(noneeg_seqs_v_class_map, noneeg_seqs_v_class_fname)\n",
    "    print(\"Worker %d is done processing file in %f s\\n\" %\n",
    "          (os.getpid(), time.time() - t1))"
   ]
  },
  {
   "cell_type": "code",
   "execution_count": 4,
   "metadata": {
    "scrolled": false,
    "pycharm": {
     "name": "#%%\n"
    }
   },
   "outputs": [
    {
     "name": "stdout",
     "output_type": "stream",
     "text": [
      "There are a total of 300 files in /home/sweet/1-workdir/eeg001-2017/\n",
      "\n",
      "**********START PROCESSING ALL FILES**********\n",
      "MAX NUMBER OF PROCESS = 16\n",
      "Worker 32633 is processing file /home/sweet/1-workdir/eeg001-2017/S14_MI/motorimagination_subject14_run5.gdf\n",
      "\n",
      "1 0\n",
      "1 1\n"
     ]
    },
    {
     "ename": "ValueError",
     "evalue": "The truth value of an array with more than one element is ambiguous. Use a.any() or a.all()",
     "output_type": "error",
     "traceback": [
      "\u001B[0;31m---------------------------------------------------------------------------\u001B[0m",
      "\u001B[0;31mRemoteTraceback\u001B[0m                           Traceback (most recent call last)",
      "\u001B[0;31mRemoteTraceback\u001B[0m: \n\"\"\"\nTraceback (most recent call last):\n  File \"/usr/lib/python3.6/multiprocessing/pool.py\", line 119, in worker\n    result = (True, func(*args, **kwds))\n  File \"/usr/lib/python3.6/multiprocessing/pool.py\", line 44, in mapstar\n    return list(map(*args))\n  File \"<ipython-input-3-44bacea2bd78>\", line 22, in process_file\n    seqs_v_class_map = reject_trials_from_map(seqs_v_class_map)\n  File \"/home/sweet/2-coursework/725bmes/eeg_deeplearning/data_extraction/src/data_extract_utils.py\", line 151, in reject_trials_from_map\n    return rejectTrials(seqs_v_class_map, rejChan, copyLib)\n  File \"/home/sweet/2-coursework/725bmes/eeg_deeplearning/data_extraction/src/data_preprocess.py\", line 38, in rejectTrials\n    seqs_v_class_map_no_artifact[currClas].remove(seqs_v_class_map_no_artifact[currClas][currTrial])\nValueError: The truth value of an array with more than one element is ambiguous. Use a.any() or a.all()\n\"\"\"",
      "\nThe above exception was the direct cause of the following exception:\n",
      "\u001B[0;31mValueError\u001B[0m                                Traceback (most recent call last)",
      "\u001B[0;32m<ipython-input-4-f233334817bd>\u001B[0m in \u001B[0;36m<module>\u001B[0;34m\u001B[0m\n\u001B[1;32m      7\u001B[0m \u001B[0;34m\u001B[0m\u001B[0m\n\u001B[1;32m      8\u001B[0m \u001B[0mp\u001B[0m \u001B[0;34m=\u001B[0m \u001B[0mmultiprocessing\u001B[0m\u001B[0;34m.\u001B[0m\u001B[0mPool\u001B[0m\u001B[0;34m(\u001B[0m\u001B[0mMAX_NPROCESS\u001B[0m\u001B[0;34m)\u001B[0m\u001B[0;34m\u001B[0m\u001B[0;34m\u001B[0m\u001B[0m\n\u001B[0;32m----> 9\u001B[0;31m \u001B[0mp\u001B[0m\u001B[0;34m.\u001B[0m\u001B[0mmap\u001B[0m\u001B[0;34m(\u001B[0m\u001B[0mprocess_file\u001B[0m\u001B[0;34m,\u001B[0m \u001B[0mfilelist\u001B[0m\u001B[0;34m[\u001B[0m\u001B[0;36m0\u001B[0m\u001B[0;34m:\u001B[0m\u001B[0;36m1\u001B[0m\u001B[0;34m]\u001B[0m\u001B[0;34m)\u001B[0m\u001B[0;34m\u001B[0m\u001B[0;34m\u001B[0m\u001B[0m\n\u001B[0m",
      "\u001B[0;32m/usr/lib/python3.6/multiprocessing/pool.py\u001B[0m in \u001B[0;36mmap\u001B[0;34m(self, func, iterable, chunksize)\u001B[0m\n\u001B[1;32m    264\u001B[0m         \u001B[0;32min\u001B[0m \u001B[0ma\u001B[0m \u001B[0mlist\u001B[0m \u001B[0mthat\u001B[0m \u001B[0;32mis\u001B[0m \u001B[0mreturned\u001B[0m\u001B[0;34m.\u001B[0m\u001B[0;34m\u001B[0m\u001B[0;34m\u001B[0m\u001B[0m\n\u001B[1;32m    265\u001B[0m         '''\n\u001B[0;32m--> 266\u001B[0;31m         \u001B[0;32mreturn\u001B[0m \u001B[0mself\u001B[0m\u001B[0;34m.\u001B[0m\u001B[0m_map_async\u001B[0m\u001B[0;34m(\u001B[0m\u001B[0mfunc\u001B[0m\u001B[0;34m,\u001B[0m \u001B[0miterable\u001B[0m\u001B[0;34m,\u001B[0m \u001B[0mmapstar\u001B[0m\u001B[0;34m,\u001B[0m \u001B[0mchunksize\u001B[0m\u001B[0;34m)\u001B[0m\u001B[0;34m.\u001B[0m\u001B[0mget\u001B[0m\u001B[0;34m(\u001B[0m\u001B[0;34m)\u001B[0m\u001B[0;34m\u001B[0m\u001B[0;34m\u001B[0m\u001B[0m\n\u001B[0m\u001B[1;32m    267\u001B[0m \u001B[0;34m\u001B[0m\u001B[0m\n\u001B[1;32m    268\u001B[0m     \u001B[0;32mdef\u001B[0m \u001B[0mstarmap\u001B[0m\u001B[0;34m(\u001B[0m\u001B[0mself\u001B[0m\u001B[0;34m,\u001B[0m \u001B[0mfunc\u001B[0m\u001B[0;34m,\u001B[0m \u001B[0miterable\u001B[0m\u001B[0;34m,\u001B[0m \u001B[0mchunksize\u001B[0m\u001B[0;34m=\u001B[0m\u001B[0;32mNone\u001B[0m\u001B[0;34m)\u001B[0m\u001B[0;34m:\u001B[0m\u001B[0;34m\u001B[0m\u001B[0;34m\u001B[0m\u001B[0m\n",
      "\u001B[0;32m/usr/lib/python3.6/multiprocessing/pool.py\u001B[0m in \u001B[0;36mget\u001B[0;34m(self, timeout)\u001B[0m\n\u001B[1;32m    642\u001B[0m             \u001B[0;32mreturn\u001B[0m \u001B[0mself\u001B[0m\u001B[0;34m.\u001B[0m\u001B[0m_value\u001B[0m\u001B[0;34m\u001B[0m\u001B[0;34m\u001B[0m\u001B[0m\n\u001B[1;32m    643\u001B[0m         \u001B[0;32melse\u001B[0m\u001B[0;34m:\u001B[0m\u001B[0;34m\u001B[0m\u001B[0;34m\u001B[0m\u001B[0m\n\u001B[0;32m--> 644\u001B[0;31m             \u001B[0;32mraise\u001B[0m \u001B[0mself\u001B[0m\u001B[0;34m.\u001B[0m\u001B[0m_value\u001B[0m\u001B[0;34m\u001B[0m\u001B[0;34m\u001B[0m\u001B[0m\n\u001B[0m\u001B[1;32m    645\u001B[0m \u001B[0;34m\u001B[0m\u001B[0m\n\u001B[1;32m    646\u001B[0m     \u001B[0;32mdef\u001B[0m \u001B[0m_set\u001B[0m\u001B[0;34m(\u001B[0m\u001B[0mself\u001B[0m\u001B[0;34m,\u001B[0m \u001B[0mi\u001B[0m\u001B[0;34m,\u001B[0m \u001B[0mobj\u001B[0m\u001B[0;34m)\u001B[0m\u001B[0;34m:\u001B[0m\u001B[0;34m\u001B[0m\u001B[0;34m\u001B[0m\u001B[0m\n",
      "\u001B[0;31mValueError\u001B[0m: The truth value of an array with more than one element is ambiguous. Use a.any() or a.all()"
     ]
    }
   ],
   "source": [
    "database_dir = \"/home/sweet/1-workdir/eeg001-2017/\"\n",
    "filelist = get_all_files(database_dir)\n",
    "MAX_NPROCESS = multiprocessing.cpu_count()//2\n",
    "\n",
    "print(\"There are a total of %d files in %s\\n\" % (len(filelist), database_dir))\n",
    "print(\"**********START PROCESSING ALL FILES**********\")\n",
    "print(\"MAX NUMBER OF PROCESS = %d\" % (MAX_NPROCESS))\n",
    "\n",
    "p = multiprocessing.Pool(MAX_NPROCESS)\n",
    "p.map(process_file, filelist)\n"
   ]
  }
 ],
 "metadata": {
  "kernelspec": {
   "display_name": "Python 3",
   "language": "python",
   "name": "python3"
  },
  "language_info": {
   "codemirror_mode": {
    "name": "ipython",
    "version": 3
   },
   "file_extension": ".py",
   "mimetype": "text/x-python",
   "name": "python",
   "nbconvert_exporter": "python",
   "pygments_lexer": "ipython3",
   "version": "3.6.9"
  }
 },
 "nbformat": 4,
 "nbformat_minor": 4
}