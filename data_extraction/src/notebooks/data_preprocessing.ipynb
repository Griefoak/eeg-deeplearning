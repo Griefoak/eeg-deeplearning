{
 "cells": [
  {
   "cell_type": "code",
   "execution_count": 1,
   "metadata": {},
   "outputs": [],
   "source": [
    "import numpy as np\n",
    "import time\n",
    "import os\n",
    "import sys\n",
    "import bz2\n",
    "import pickle\n",
    "from data_preprocess import data_1D_to_2D\n",
    "from channel_maps import channel_label_map, channel_loc_map"
   ]
  },
  {
   "cell_type": "code",
   "execution_count": 2,
   "metadata": {},
   "outputs": [],
   "source": [
    "ME_db = {}\n",
    "with open(\"prelim_ME_db.pickle\", \"rb\") as f:\n",
    "    ME_db = pickle.load(f)"
   ]
  },
  {
   "cell_type": "code",
   "execution_count": 3,
   "metadata": {},
   "outputs": [
    {
     "name": "stdout",
     "output_type": "stream",
     "text": [
      "['', '', '', '', 'F4', 'FFC6h', 'FC6', 'FTT8h', '', '']\n",
      "['', '', '', 'F2', 'FFC4h', 'FC4', 'FCC6h', 'C6', 'TTP8h', '']\n",
      "['', '', 'Fz', 'FFC2h', 'FC2', 'FCC4h', 'C4', 'CCP6h', 'CP6', '']\n",
      "['', 'F1', 'FFC1h', 'FCz', 'FCC2h', 'C2', 'CCP4h', 'CP4', 'CPP6h', '']\n",
      "['F3', 'FFC3h', 'FC1', 'FCC1h', 'Cz', 'CCP2h', 'CP2', 'CPP4h', 'P4', '']\n",
      "['FFC5h', 'FC3', 'FCC3h', 'C1', 'CCP1h', 'CPz', 'CPP2h', 'P2', '', '']\n",
      "['FC5', 'FCC5h', 'C3', 'CCP3h', 'CP1', 'CPP1h', 'Pz', 'PPO2h', '', '']\n",
      "['FTT7h', 'C5', 'CCP5h', 'CP3', 'CPP3h', 'P1', 'PPO1h', '', '', '']\n",
      "['', 'TTP7h', 'CP5', 'CPP5h', 'P3', '', '', '', '', '']\n"
     ]
    }
   ],
   "source": [
    "CLM = channel_loc_map()\n",
    "\n",
    "# populate the mesh with the electrodes\n",
    "mesh = [ [ \"\" for y in range(0,10) ] for x in range(0,10) ] \n",
    "for chan in range(0,np.shape(CLM)[0]):\n",
    "    mesh[CLM[chan][0]][CLM[chan][1]] = channel_label_map[chan+1]\n",
    "\n",
    "# print the 2D mesh of channels\n",
    "for x in range(0,9): \n",
    "    print(mesh[x])"
   ]
  },
  {
   "cell_type": "code",
   "execution_count": 4,
   "metadata": {
    "scrolled": true
   },
   "outputs": [
    {
     "name": "stdout",
     "output_type": "stream",
     "text": [
      "Converting 1D to 2D mesh takes 298.400146 s\n"
     ]
    }
   ],
   "source": [
    "CLM = channel_loc_map()\n",
    "\n",
    "t1 = time.time()\n",
    "ME_db_2Dmesh = data_1D_to_2D(ME_db, 10, 11, CLM)\n",
    "print(\"Converting 1D to 2D mesh takes %f s\" % (time.time()-t1))"
   ]
  },
  {
   "cell_type": "code",
   "execution_count": 5,
   "metadata": {},
   "outputs": [
    {
     "name": "stdout",
     "output_type": "stream",
     "text": [
      "Finished writing 2993.93 MB of data to mesh_ME_db2.pickle in 21.355963 s\n"
     ]
    }
   ],
   "source": [
    "t1 = time.time()\n",
    "f = open(\"mesh_ME_db.pickle\", \"wb\")\n",
    "i_str = pickle.dumps(ME_db_2Dmesh)\n",
    "f_size = sys.getsizeof(i_str)/1048576\n",
    "f.write(i_str)\n",
    "f.close()\n",
    "print(\"Finished writing %.2f MB of data to mesh_ME_db2.pickle in %f s\" % (f_size, time.time()-t1))"
   ]
  },
  {
   "cell_type": "code",
   "execution_count": 6,
   "metadata": {},
   "outputs": [
    {
     "data": {
      "text/plain": [
       "(900, 769, 64)"
      ]
     },
     "metadata": {},
     "output_type": "display_data"
    },
    {
     "data": {
      "text/plain": [
       "(900, 769, 9, 9)"
      ]
     },
     "metadata": {},
     "output_type": "display_data"
    }
   ],
   "source": [
    "display(np.shape(ME_db[1]))\n",
    "display(np.shape(ME_db_2Dmesh[1]))"
   ]
  },
  {
   "cell_type": "code",
   "execution_count": 7,
   "metadata": {},
   "outputs": [
    {
     "data": {
      "text/plain": [
       "array([[    0.        ,     0.        ,     0.        ,     0.        ,\n",
       "          137.70841576,   159.8604299 ,  -157.87100353,  -298.79647421,\n",
       "            0.        ],\n",
       "       [    0.        ,     0.        ,     0.        ,   407.00254554,\n",
       "         -297.25090878,    10.33636832,   211.2545688 ,   118.61129563,\n",
       "          159.83324068],\n",
       "       [    0.        ,     0.        ,  -632.18073101,   302.04968058,\n",
       "          -39.7424202 ,   231.13023631,    29.58120938,    13.88049764,\n",
       "          240.56667184],\n",
       "       [    0.        ,  -291.18446386,  -359.81810445,   267.62304796,\n",
       "         -163.87023378,   -10.95416124,   377.84289055,   256.67383776,\n",
       "          231.31985808],\n",
       "       [ -156.80209264,  -284.04742384,  -482.16632849,  -793.22315512,\n",
       "         -289.44522741,  -393.80443349,   -72.15908385,  -467.2632627 ,\n",
       "          227.03154045],\n",
       "       [ -488.97147105, -1194.71284484,  -339.07285797,  -420.59947996,\n",
       "         -648.01725052, -1098.99120429,  -363.88416546,   291.20049783,\n",
       "            0.        ],\n",
       "       [  138.1527323 ,   -52.08975511,  -716.29352909,  -411.0002306 ,\n",
       "         -177.51581668,  -384.94279315,   367.21977922,   350.78108682,\n",
       "            0.        ],\n",
       "       [   14.68001013,  -223.789601  ,  -412.94491498,  -413.59442145,\n",
       "         -540.38743978,  -418.99513497, -1717.9808424 ,     0.        ,\n",
       "            0.        ],\n",
       "       [    0.        ,    88.57838246,  -148.3546524 ,    95.84360077,\n",
       "           66.75357499,     0.        ,     0.        ,     0.        ,\n",
       "            0.        ]])"
      ]
     },
     "execution_count": 7,
     "metadata": {},
     "output_type": "execute_result"
    }
   ],
   "source": [
    "ME_db_2Dmesh[1][1][1]"
   ]
  }
 ],
 "metadata": {
  "kernelspec": {
   "display_name": "Python 3",
   "language": "python",
   "name": "python3"
  },
  "language_info": {
   "codemirror_mode": {
    "name": "ipython",
    "version": 3
   },
   "file_extension": ".py",
   "mimetype": "text/x-python",
   "name": "python",
   "nbconvert_exporter": "python",
   "pygments_lexer": "ipython3",
   "version": "3.6.9"
  }
 },
 "nbformat": 4,
 "nbformat_minor": 4
}
