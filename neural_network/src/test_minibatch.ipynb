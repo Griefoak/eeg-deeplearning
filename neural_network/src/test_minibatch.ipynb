{
 "cells": [
  {
   "cell_type": "code",
   "execution_count": 1,
   "metadata": {},
   "outputs": [],
   "source": [
    "import numpy as np\n",
    "import scipy as sp\n",
    "import tensorflow as tf\n",
    "import matplotlib.pyplot as plt"
   ]
  },
  {
   "cell_type": "code",
   "execution_count": 2,
   "metadata": {},
   "outputs": [
    {
     "name": "stderr",
     "output_type": "stream",
     "text": [
      "Using TensorFlow backend.\n"
     ]
    }
   ],
   "source": [
    "from keras import optimizers\n",
    "from keras import models\n",
    "from keras import layers\n",
    "from keras import losses\n",
    "from keras import metrics"
   ]
  },
  {
   "cell_type": "code",
   "execution_count": 3,
   "metadata": {},
   "outputs": [],
   "source": [
    "import time\n",
    "import os\n",
    "import sys\n",
    "import pickle"
   ]
  },
  {
   "cell_type": "code",
   "execution_count": 4,
   "metadata": {},
   "outputs": [
    {
     "name": "stdout",
     "output_type": "stream",
     "text": [
      "Loaded ME database in 15.265196 s\n"
     ]
    }
   ],
   "source": [
    "db_dir = \"/home/sweet/2-coursework/725bmes/eeg_deeplearning/data_extraction/src\"\n",
    "ME_db_fname = \"mesh_ME_db.pickle\"\n",
    "MI_db_fname = \"prelim_MI_db.pickle\"\n",
    "\n",
    "ME_db = {}\n",
    "MI_db = {}\n",
    "\n",
    "\n",
    "t1 = time.time()\n",
    "with open(db_dir + \"/\" + ME_db_fname, \"rb\") as f:\n",
    "    ME_db = pickle.load(f)\n",
    "print(\"Loaded ME database in %f s\" % (time.time()-t1))"
   ]
  },
  {
   "cell_type": "code",
   "execution_count": 5,
   "metadata": {},
   "outputs": [],
   "source": [
    "np.random.seed(0)\n",
    "def create_rand_seq_permutations(db):\n",
    "    seq_idx = {}\n",
    "    for key in db.keys():\n",
    "        if key not in seq_idx:\n",
    "            seq_idx[key] = None\n",
    "        seq_idx[key] = np.random.permutation(np.arange(len(db[key])))\n",
    "    \n",
    "    return seq_idx\n",
    "\n",
    "seq_perms = create_rand_seq_permutations(ME_db)"
   ]
  },
  {
   "cell_type": "code",
   "execution_count": 7,
   "metadata": {},
   "outputs": [],
   "source": [
    "np.random.seed(0)\n",
    "def generate_batch(db, perm, batch_size=4, shuffle=False):\n",
    "    idx = 0\n",
    "    \n",
    "    while True:\n",
    "        output_seq = []\n",
    "        output_idx = np.array([])\n",
    "        labels = np.array([])\n",
    "        for key in perm.keys():\n",
    "            output_idx = np.concatenate([output_idx, perm[key][idx:idx+batch_size]])\n",
    "            labels = np.concatenate([labels, key*np.ones(batch_size, dtype='int')])\n",
    "        if shuffle:\n",
    "            rand_idx = np.random.permutation(np.arange(len(output_idx)))\n",
    "            output_idx = output_idx[rand_idx]\n",
    "            labels = labels[rand_idx]\n",
    "        \n",
    "        output_idx = output_idx.astype('int')\n",
    "        labels = labels.astype('int')\n",
    "        \n",
    "        for i in range(len(labels)):\n",
    "            output_seq.append(db[labels[i]][output_idx[i]])\n",
    "        \n",
    "        yield output_seq, labels\n",
    "        idx += batch_size\n",
    "                          \n",
    "# batch_gen = generate_batch(ME_db, seq_perms, 4)\n",
    "# output_seq, labels = next(batch_gen)\n",
    "# print(output_seq[0][0].shape)\n",
    "# j = 0\n",
    "# for output_seq, labels in batch_gen:\n",
    "#     if len(labels) == 0:\n",
    "#         break\n",
    "#     print(labels)\n",
    "#     j += 1\n",
    "# print(j)"
   ]
  }
 ],
 "metadata": {
  "kernelspec": {
   "display_name": "Python 3",
   "language": "python",
   "name": "python3"
  },
  "language_info": {
   "codemirror_mode": {
    "name": "ipython",
    "version": 3
   },
   "file_extension": ".py",
   "mimetype": "text/x-python",
   "name": "python",
   "nbconvert_exporter": "python",
   "pygments_lexer": "ipython3",
   "version": "3.6.9"
  }
 },
 "nbformat": 4,
 "nbformat_minor": 4
}
