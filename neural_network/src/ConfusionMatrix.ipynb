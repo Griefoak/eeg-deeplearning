{
 "cells": [
  {
   "cell_type": "code",
   "execution_count": 1,
   "metadata": {},
   "outputs": [
    {
     "name": "stderr",
     "output_type": "stream",
     "text": [
      "Using TensorFlow backend.\n"
     ]
    }
   ],
   "source": [
    "import numpy as np\n",
    "import pandas as pd\n",
    "import scipy as sp\n",
    "import matplotlib.pyplot as plt\n",
    "import tensorflow as tf\n",
    "import tensorflow.keras as keras\n",
    "from keras.models import load_model\n",
    "from keras.utils import to_categorical\n",
    "\n",
    "from sklearn.metrics import confusion_matrix\n",
    "from sklearn.utils.multiclass import unique_labels\n",
    "\n",
    "import time\n",
    "import os\n",
    "import sys\n",
    "import pickle\n",
    "\n",
    "\n",
    "physical_devices = tf.config.experimental.list_physical_devices('GPU') \n",
    "for physical_device in physical_devices: \n",
    "    tf.config.experimental.set_memory_growth(physical_device, True)"
   ]
  },
  {
   "cell_type": "markdown",
   "metadata": {},
   "source": [
    "# Load the model and show summary"
   ]
  },
  {
   "cell_type": "code",
   "execution_count": 2,
   "metadata": {},
   "outputs": [
    {
     "name": "stdout",
     "output_type": "stream",
     "text": [
      "Model: \"sequential_2\"\n",
      "_________________________________________________________________\n",
      "Layer (type)                 Output Shape              Param #   \n",
      "=================================================================\n",
      "time_distributed_7 (TimeDist (None, 8, 9, 9, 32)       320       \n",
      "_________________________________________________________________\n",
      "time_distributed_8 (TimeDist (None, 8, 9, 9, 64)       18496     \n",
      "_________________________________________________________________\n",
      "time_distributed_9 (TimeDist (None, 8, 9, 9, 128)      73856     \n",
      "_________________________________________________________________\n",
      "time_distributed_10 (TimeDis (None, 8, 10368)          0         \n",
      "_________________________________________________________________\n",
      "time_distributed_11 (TimeDis (None, 8, 1024)           10617856  \n",
      "_________________________________________________________________\n",
      "time_distributed_12 (TimeDis (None, 8, 1024)           0         \n",
      "_________________________________________________________________\n",
      "lstm_3 (LSTM)                (None, 8, 8)              33056     \n",
      "_________________________________________________________________\n",
      "lstm_4 (LSTM)                (None, 8)                 544       \n",
      "_________________________________________________________________\n",
      "dense_5 (Dense)              (None, 64)                576       \n",
      "_________________________________________________________________\n",
      "dropout_4 (Dropout)          (None, 64)                0         \n",
      "_________________________________________________________________\n",
      "dense_6 (Dense)              (None, 7)                 455       \n",
      "=================================================================\n",
      "Total params: 10,745,159\n",
      "Trainable params: 10,745,159\n",
      "Non-trainable params: 0\n",
      "_________________________________________________________________\n"
     ]
    },
    {
     "name": "stderr",
     "output_type": "stream",
     "text": [
      "/home/sweet/2-coursework/725bmes/eeg_deeplearning/neural_network/lib/python3.6/site-packages/keras/engine/saving.py:341: UserWarning: No training configuration found in save file: the model was *not* compiled. Compile it manually.\n",
      "  warnings.warn('No training configuration found in save file: '\n"
     ]
    }
   ],
   "source": [
    "saved_model= load_model('CascadeModel_S8_C1to7_Epochs50.h5')#layer = 'dense_6'\n",
    "opt = keras.optimizers.Adam(learning_rate=1e-4)\n",
    "saved_model.compile(loss='categorical_crossentropy', optimizer=opt, metrics=['accuracy'])\n",
    "saved_model.summary()\n"
   ]
  },
  {
   "cell_type": "markdown",
   "metadata": {},
   "source": [
    "# Load the training and testing dataset"
   ]
  },
  {
   "cell_type": "code",
   "execution_count": 3,
   "metadata": {},
   "outputs": [],
   "source": [
    "with open(\"CascadeModel_trainData.pickle\", \"rb\") as f:\n",
    "    Dataset = pickle.load(f)\n",
    "    \n",
    "X_train = Dataset[0]\n",
    "X_test = Dataset[1]\n",
    "y_train = Dataset[2]\n",
    "y_test = Dataset[3]"
   ]
  },
  {
   "cell_type": "code",
   "execution_count": 5,
   "metadata": {},
   "outputs": [
    {
     "name": "stdout",
     "output_type": "stream",
     "text": [
      "66062/66062 [==============================] - 11s 166us/step\n"
     ]
    }
   ],
   "source": [
    "_, accuracy = saved_model.evaluate(X_test, to_categorical(y_test-1), verbose=1)"
   ]
  },
  {
   "cell_type": "code",
   "execution_count": 8,
   "metadata": {},
   "outputs": [
    {
     "data": {
      "text/plain": [
       "(66062, 8, 9, 9, 1)"
      ]
     },
     "execution_count": 8,
     "metadata": {},
     "output_type": "execute_result"
    }
   ],
   "source": [
    "X_test.shape"
   ]
  },
  {
   "cell_type": "markdown",
   "metadata": {},
   "source": [
    "# Run predictions on the testing set"
   ]
  },
  {
   "cell_type": "code",
   "execution_count": 4,
   "metadata": {},
   "outputs": [
    {
     "name": "stdout",
     "output_type": "stream",
     "text": [
      "66062/66062 [==============================] - 131s 2ms/step\n"
     ]
    }
   ],
   "source": [
    "predictions = saved_model.predict(X_test,batch_size=64, verbose=1)"
   ]
  },
  {
   "cell_type": "markdown",
   "metadata": {},
   "source": [
    "# Define function to plot a nice confusion matrix (found online)"
   ]
  },
  {
   "cell_type": "code",
   "execution_count": 8,
   "metadata": {},
   "outputs": [],
   "source": [
    "def plot_confusion_matrix(y_true, y_pred, classes,\n",
    "                          normalize=False,\n",
    "                          title=None,\n",
    "                          cmap=plt.cm.Blues, saveFig=False, figName='test.pdf'):\n",
    "    \"\"\"\n",
    "    This function prints and plots the confusion matrix.\n",
    "    Normalization can be applied by setting `normalize=True`.\n",
    "    \"\"\"\n",
    "    if not title:\n",
    "        if normalize:\n",
    "            title = 'Normalized confusion matrix'\n",
    "        else:\n",
    "            title = 'Confusion matrix, without normalization'\n",
    "\n",
    "    # Compute confusion matrix\n",
    "    cm = confusion_matrix(y_true, y_pred)\n",
    "    # Only use the labels that appear in the data\n",
    "    classes = classes[unique_labels(y_true, y_pred)]\n",
    "    if normalize:\n",
    "        cm = cm.astype('float') / cm.sum(axis=1)[:, np.newaxis]\n",
    "        print(\"Normalized confusion matrix\")\n",
    "    else:\n",
    "        print('Confusion matrix, without normalization')\n",
    "\n",
    "    print(cm)\n",
    "\n",
    "    fig, ax = plt.subplots()\n",
    "    if normalize:\n",
    "        im = ax.imshow(cm, interpolation='nearest', vmin=0, vmax=1, cmap=cmap)\n",
    "    else:\n",
    "        im = ax.imshow(cm, interpolation='nearest', cmap=cmap)\n",
    "    ax.figure.colorbar(im, ax=ax)\n",
    "    # We want to show all ticks...\n",
    "    ax.set(xticks=np.arange(cm.shape[1]),\n",
    "           yticks=np.arange(cm.shape[0]),\n",
    "           # ... and label them with the respective list entries\n",
    "           xticklabels=classes, yticklabels=classes,\n",
    "           title=title,\n",
    "           ylabel='True label',\n",
    "           xlabel='Predicted label')\n",
    "\n",
    "    # Rotate the tick labels and set their alignment.\n",
    "    plt.setp(ax.get_xticklabels(), rotation=45, ha=\"right\",\n",
    "             rotation_mode=\"anchor\")\n",
    "\n",
    "    # Loop over data dimensions and create text annotations.\n",
    "    fmt = '.2f' if normalize else 'd'\n",
    "    thresh = cm.max() / 2.\n",
    "    for i in range(cm.shape[0]):\n",
    "        for j in range(cm.shape[1]):\n",
    "            ax.text(j, i, format(cm[i, j], fmt),\n",
    "                    ha=\"center\", va=\"center\",\n",
    "                    color=\"white\" if cm[i, j] > thresh else \"black\")\n",
    "    fig.tight_layout()\n",
    "    plt.xlim(-0.5, len(np.unique(y_true))-0.5)\n",
    "    plt.ylim(len(np.unique(y_true))-0.5, -0.5)\n",
    "    \n",
    "    if saveFig:\n",
    "        plt.savefig(figName)\n",
    "    return plt, ax"
   ]
  },
  {
   "cell_type": "markdown",
   "metadata": {},
   "source": [
    "# Plot the confusion matrix"
   ]
  },
  {
   "cell_type": "code",
   "execution_count": 9,
   "metadata": {},
   "outputs": [
    {
     "name": "stdout",
     "output_type": "stream",
     "text": [
      "Confusion matrix, without normalization\n",
      "[[7932  355  194  131  245  237  308]\n",
      " [ 294 7866  437  127  112   92  302]\n",
      " [ 168  334 8174  289  181  289  128]\n",
      " [ 202  154  450 7793  292  171  412]\n",
      " [ 247  148  238  294 7993  247  184]\n",
      " [ 226  103  375  103  221 8189  305]\n",
      " [ 209  387  144  266   96  250 8168]]\n"
     ]
    },
    {
     "ename": "NameError",
     "evalue": "name 'saveFit' is not defined",
     "output_type": "error",
     "traceback": [
      "\u001b[1;31m---------------------------------------------------------------------------\u001b[0m",
      "\u001b[1;31mNameError\u001b[0m                                 Traceback (most recent call last)",
      "\u001b[1;32m<ipython-input-9-a68beb865b00>\u001b[0m in \u001b[0;36m<module>\u001b[1;34m\u001b[0m\n\u001b[0;32m      1\u001b[0m \u001b[0mclass_names\u001b[0m \u001b[1;33m=\u001b[0m \u001b[0mnp\u001b[0m\u001b[1;33m.\u001b[0m\u001b[0marray\u001b[0m\u001b[1;33m(\u001b[0m\u001b[1;33m[\u001b[0m\u001b[1;34m'Fle'\u001b[0m\u001b[1;33m,\u001b[0m \u001b[1;34m'Ext'\u001b[0m\u001b[1;33m,\u001b[0m \u001b[1;34m'Sup'\u001b[0m\u001b[1;33m,\u001b[0m \u001b[1;34m'Pro'\u001b[0m\u001b[1;33m,\u001b[0m \u001b[1;34m'Clo'\u001b[0m\u001b[1;33m,\u001b[0m\u001b[1;34m'Opn'\u001b[0m\u001b[1;33m,\u001b[0m\u001b[1;34m'Rest'\u001b[0m\u001b[1;33m]\u001b[0m\u001b[1;33m)\u001b[0m\u001b[1;33m\u001b[0m\u001b[1;33m\u001b[0m\u001b[0m\n\u001b[0;32m      2\u001b[0m plt,ax =plot_confusion_matrix(y_test-1, predictions.argmax(axis=1), classes=class_names,\n\u001b[1;32m----> 3\u001b[1;33m                       title='Confusion matrix, without normalization', saveFig=False)\n\u001b[0m\u001b[0;32m      4\u001b[0m plt,ax =plot_confusion_matrix(y_test-1, predictions.argmax(axis=1), classes=class_names, normalize=True,\n\u001b[0;32m      5\u001b[0m                       title='Normalized confusion matrix', saveFig=False)\n",
      "\u001b[1;32m<ipython-input-8-4f71c39345db>\u001b[0m in \u001b[0;36mplot_confusion_matrix\u001b[1;34m(y_true, y_pred, classes, normalize, title, cmap, saveFig, figName)\u001b[0m\n\u001b[0;32m     56\u001b[0m     \u001b[0mplt\u001b[0m\u001b[1;33m.\u001b[0m\u001b[0mylim\u001b[0m\u001b[1;33m(\u001b[0m\u001b[0mlen\u001b[0m\u001b[1;33m(\u001b[0m\u001b[0mnp\u001b[0m\u001b[1;33m.\u001b[0m\u001b[0munique\u001b[0m\u001b[1;33m(\u001b[0m\u001b[0my_true\u001b[0m\u001b[1;33m)\u001b[0m\u001b[1;33m)\u001b[0m\u001b[1;33m-\u001b[0m\u001b[1;36m0.5\u001b[0m\u001b[1;33m,\u001b[0m \u001b[1;33m-\u001b[0m\u001b[1;36m0.5\u001b[0m\u001b[1;33m)\u001b[0m\u001b[1;33m\u001b[0m\u001b[1;33m\u001b[0m\u001b[0m\n\u001b[0;32m     57\u001b[0m \u001b[1;33m\u001b[0m\u001b[0m\n\u001b[1;32m---> 58\u001b[1;33m     \u001b[1;32mif\u001b[0m \u001b[0msaveFit\u001b[0m\u001b[1;33m:\u001b[0m\u001b[1;33m\u001b[0m\u001b[1;33m\u001b[0m\u001b[0m\n\u001b[0m\u001b[0;32m     59\u001b[0m         \u001b[0mplt\u001b[0m\u001b[1;33m.\u001b[0m\u001b[0msavefig\u001b[0m\u001b[1;33m(\u001b[0m\u001b[0mfigName\u001b[0m\u001b[1;33m)\u001b[0m\u001b[1;33m\u001b[0m\u001b[1;33m\u001b[0m\u001b[0m\n\u001b[0;32m     60\u001b[0m     \u001b[1;32mreturn\u001b[0m \u001b[0mplt\u001b[0m\u001b[1;33m,\u001b[0m \u001b[0max\u001b[0m\u001b[1;33m\u001b[0m\u001b[1;33m\u001b[0m\u001b[0m\n",
      "\u001b[1;31mNameError\u001b[0m: name 'saveFit' is not defined"
     ]
    },
    {
     "data": {
      "image/png": "[encoded data removed]",
      "text/plain": [
       "<Figure size 432x288 with 2 Axes>"
      ]
     },
     "metadata": {
      "needs_background": "light"
     },
     "output_type": "display_data"
    }
   ],
   "source": [
    "class_names = np.array(['Fle', 'Ext', 'Sup', 'Pro', 'Clo','Opn','Rest'])\n",
    "plt,ax =plot_confusion_matrix(y_test-1, predictions.argmax(axis=1), classes=class_names,\n",
    "                      title='Confusion matrix, without normalization', saveFit=False)\n",
    "plt,ax =plot_confusion_matrix(y_test-1, predictions.argmax(axis=1), classes=class_names, normalize=True,\n",
    "                      title='Normalized confusion matrix', saveFit=False)\n",
    "\n"
   ]
  },
  {
   "cell_type": "code",
   "execution_count": null,
   "metadata": {},
   "outputs": [],
   "source": []
  }
 ],
 "metadata": {
  "kernelspec": {
   "display_name": "Python 3",
   "language": "python",
   "name": "python3"
  },
  "language_info": {
   "codemirror_mode": {
    "name": "ipython",
    "version": 3
   },
   "file_extension": ".py",
   "mimetype": "text/x-python",
   "name": "python",
   "nbconvert_exporter": "python",
   "pygments_lexer": "ipython3",
   "version": "3.6.9"
  }
 },
 "nbformat": 4,
 "nbformat_minor": 4
}
