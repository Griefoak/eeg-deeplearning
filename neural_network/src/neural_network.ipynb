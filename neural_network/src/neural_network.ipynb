{
 "cells": [
  {
   "cell_type": "code",
   "execution_count": 1,
   "metadata": {
    "colab": {
     "base_uri": "https://localhost:8080/",
     "height": 34
    },
    "colab_type": "code",
    "id": "z6yWAfcwYE2q",
    "outputId": "14cbd937-837d-4939-86c1-c5bf124ceb76"
   },
   "outputs": [
    {
     "name": "stderr",
     "output_type": "stream",
     "text": [
      "Using TensorFlow backend.\n"
     ]
    }
   ],
   "source": [
    "import numpy as np\n",
    "import scipy as sp\n",
    "import tensorflow as tf\n",
    "import tensorflow.keras as keras\n",
    "import matplotlib.pyplot as plt\n",
    "\n",
    "from tensorflow.keras import optimizers\n",
    "from tensorflow.keras import models\n",
    "from tensorflow.keras import layers\n",
    "from tensorflow.keras import losses\n",
    "from tensorflow.keras import metrics\n",
    "from tensorflow.keras.callbacks import ModelCheckpoint, EarlyStopping\n",
    "from keras.utils import to_categorical\n",
    "\n",
    "from sklearn.model_selection import train_test_split\n",
    "from sklearn.utils import shuffle\n",
    "\n",
    "import time\n",
    "import os\n",
    "import sys\n",
    "import pickle\n",
    "\n",
    "from minibatch import *\n",
    "\n",
    "physical_devices = tf.config.experimental.list_physical_devices('GPU') \n",
    "for physical_device in physical_devices: \n",
    "    tf.config.experimental.set_memory_growth(physical_device, True)"
   ]
  },
  {
   "cell_type": "code",
   "execution_count": 2,
   "metadata": {
    "scrolled": true
   },
   "outputs": [
    {
     "name": "stdout",
     "output_type": "stream",
     "text": [
      "/home/sweet/2-coursework/725bmes/eeg_deeplearning/neural_network/src\r\n"
     ]
    }
   ],
   "source": [
    "!pwd"
   ]
  },
  {
   "cell_type": "code",
   "execution_count": 3,
   "metadata": {},
   "outputs": [],
   "source": [
    "IS_RUNNING_PAIRWISE = False\n",
    "IS_SAVE_TRAINING_HISTORY = False\n",
    "GEN_PICKLE_INPUT_TARGET = False"
   ]
  },
  {
   "cell_type": "markdown",
   "metadata": {
    "colab_type": "text",
    "id": "FQvSz7XE2XRd"
   },
   "source": [
    "# Define sliding window"
   ]
  },
  {
   "cell_type": "code",
   "execution_count": 4,
   "metadata": {
    "colab": {},
    "colab_type": "code",
    "id": "uQhM362cYE4a"
   },
   "outputs": [],
   "source": [
    "from numpy.lib.stride_tricks import as_strided\n",
    "\n",
    "def sliding_window(a, w = 4, o = 2, copy = False):\n",
    "    sh = (a.size - w + 1, w)\n",
    "    st = a.strides * 2\n",
    "    view = np.lib.stride_tricks.as_strided(a, strides = st, shape = sh)[0::o]\n",
    "    if copy:\n",
    "        return view.copy()\n",
    "    else:\n",
    "        return view"
   ]
  },
  {
   "cell_type": "code",
   "execution_count": 5,
   "metadata": {
    "colab": {
     "base_uri": "https://localhost:8080/",
     "height": 51
    },
    "colab_type": "code",
    "id": "UC-WtEkwGLU0",
    "outputId": "0df1bb0b-bfb3-45d1-9f08-852bfd96c980"
   },
   "outputs": [],
   "source": [
    "def genAllDat(db, b, targetClas, nClas=7, nTrials=200, nWin=1, S=16, nX=9, nY=9):\n",
    "    \n",
    "    inputs = np.zeros((nWin*nTrials*nClas, S, nX, nY))\n",
    "    targets = np.zeros(nWin*nTrials*nClas, dtype=int)\n",
    "    wins = np.zeros(nWin*nTrials*nClas, dtype=int)\n",
    "\n",
    "    seq_perms = create_rand_seq_permutations(db)\n",
    "    k = 0\n",
    "    for trial in range(0,nTrials):\n",
    "        for clas in targetClas:\n",
    "            perm = seq_perms[clas][trial]\n",
    "            tmp = db[clas][perm]\n",
    "\n",
    "            for win in range(0,nWin):\n",
    "                inputs[k] = tmp[b[win,:]]\n",
    "                targets[k] = clas\n",
    "                wins[k] = win\n",
    "                k=k+1\n",
    "    return inputs, targets, wins"
   ]
  },
  {
   "cell_type": "markdown",
   "metadata": {
    "colab_type": "text",
    "id": "cDkzN3F42XQ4"
   },
   "source": [
    "# Load Data"
   ]
  },
  {
   "cell_type": "code",
   "execution_count": 6,
   "metadata": {
    "colab": {
     "base_uri": "https://localhost:8080/",
     "height": 34
    },
    "colab_type": "code",
    "id": "NpY-PqwsYE3j",
    "outputId": "405bb5e8-0091-445b-c30f-bbcccaffc8c9"
   },
   "outputs": [
    {
     "name": "stdout",
     "output_type": "stream",
     "text": [
      "Loaded ME database in 1.840039 s\n"
     ]
    }
   ],
   "source": [
    "db_dir = \"/home/sweet/2-coursework/725bmes/eeg_deeplearning/data_extraction/src/\"\n",
    "ME_db_fname = \"mesh_ME_db_128.pickle\"\n",
    "ME_db = {}\n",
    "\n",
    "t1 = time.time()\n",
    "with open(db_dir + \"/\" + ME_db_fname, \"rb\") as f:\n",
    "    ME_db_2Dmesh = pickle.load(f)\n",
    "print(\"Loaded ME database in %f s\" % (time.time()-t1))"
   ]
  },
  {
   "cell_type": "code",
   "execution_count": 7,
   "metadata": {},
   "outputs": [],
   "source": [
    "# Create folder for model's checkpoints\n",
    "pwd = os.getcwd()\n",
    "ckt_pt_dir = pwd + \"/check_points\"\n",
    "try:\n",
    "    if not os.path.isdir(ckt_pt_dir):\n",
    "        os.mkdir(ckt_pt_dir)\n",
    "except OSError as error:\n",
    "    print(\"Cannot create directory. Exiting...\")\n",
    "    print(error)"
   ]
  },
  {
   "cell_type": "markdown",
   "metadata": {
    "colab_type": "text",
    "id": "R8uOYTbs2XRP"
   },
   "source": [
    "# Define Neural Network"
   ]
  },
  {
   "cell_type": "code",
   "execution_count": 8,
   "metadata": {
    "colab": {},
    "colab_type": "code",
    "id": "cJsAjLilYE4P"
   },
   "outputs": [],
   "source": [
    "S = 8    # S = number of images\n",
    "K = 7    # K = number of classes\n",
    "last_fc = 64\n",
    "dropout_rate = 0.5\n",
    "opt = keras.optimizers.Adam(learning_rate=1e-4)\n",
    "lossfn = 'categorical_crossentropy'\n",
    "metric = ['acurracy']"
   ]
  },
  {
   "cell_type": "code",
   "execution_count": 9,
   "metadata": {
    "colab": {},
    "colab_type": "code",
    "id": "piU_PBVyNl7b"
   },
   "outputs": [],
   "source": [
    "def get_compiled_casc_model(S, K=8, last_fc=64, dropout_rate=0.5, \n",
    "                            activation_last='softmax', opt=keras.optimizers.Adam(learning_rate=1e-4), \n",
    "                            loss='categorical_crossentropy'):\n",
    "    model = models.Sequential()\n",
    "    model.add(layers.Input(shape=(S, 9, 9, 1)))\n",
    "    model.add(layers.TimeDistributed(layers.Conv2D(filters=32, kernel_size=3, padding='same', activation='relu')))\n",
    "    model.add(layers.TimeDistributed(layers.Conv2D(filters=64, kernel_size=3, padding='same', activation='relu')))\n",
    "    model.add(layers.TimeDistributed(layers.Conv2D(filters=128, kernel_size=3, padding='same', activation='relu')))\n",
    "    model.add(layers.TimeDistributed(layers.Flatten()))\n",
    "    model.add(layers.TimeDistributed(layers.Dense(1024, activation='relu')))\n",
    "    model.add(layers.TimeDistributed(layers.Dropout(dropout_rate)))\n",
    "    model.add(layers.LSTM(S, return_sequences=True))\n",
    "    model.add(layers.LSTM(S))\n",
    "    model.add(layers.Dense(last_fc, activation='relu'))\n",
    "    model.add(layers.Dropout(dropout_rate))\n",
    "    model.add(layers.Dense(K, activation=activation_last))\n",
    "    model.compile(loss=loss, optimizer=opt, metrics=['accuracy'])\n",
    "\n",
    "    return model"
   ]
  },
  {
   "cell_type": "code",
   "execution_count": 10,
   "metadata": {},
   "outputs": [],
   "source": [
    "def create_batches(X, Y, batch_size=64):\n",
    "    i = 0\n",
    "    while True:\n",
    "        yield X[i:i+batch_size], Y[i:i+batch_size]\n",
    "        i = i + batch_size"
   ]
  },
  {
   "cell_type": "code",
   "execution_count": 11,
   "metadata": {},
   "outputs": [
    {
     "data": {
      "text/plain": [
       "(741, 257, 9, 9)"
      ]
     },
     "metadata": {},
     "output_type": "display_data"
    }
   ],
   "source": [
    "classes = [1,5]\n",
    "nClas = len(ME_db_2Dmesh)\n",
    "nTrials = ME_db_2Dmesh[1].shape[0]\n",
    "nFrames = ME_db_2Dmesh[1].shape[1]\n",
    "nX = ME_db_2Dmesh[1].shape[2]\n",
    "nY = ME_db_2Dmesh[1].shape[3]\n",
    "display(ME_db_2Dmesh[1].shape)"
   ]
  },
  {
   "cell_type": "code",
   "execution_count": 12,
   "metadata": {},
   "outputs": [],
   "source": [
    "batch_size = 64\n",
    "n_epochs = 20"
   ]
  },
  {
   "cell_type": "code",
   "execution_count": 13,
   "metadata": {
    "colab": {
     "base_uri": "https://localhost:8080/",
     "height": 1000
    },
    "colab_type": "code",
    "id": "P95wQipBGxDR",
    "outputId": "a53e6f44-8e9f-48e0-cae6-343b3ad33f40",
    "scrolled": true
   },
   "outputs": [],
   "source": [
    "if IS_RUNNING_PAIRWISE:\n",
    "    accuracy_pairwise = np.zeros((7,7))\n",
    "    for c1 in range(1,7):\n",
    "        for c2 in range(c1+1,8):\n",
    "            classes = [c1, c2]\n",
    "            print('Training on class', classes)\n",
    "            a = np.arange(nFrames)\n",
    "            b = sliding_window(a, S, S//2)\n",
    "\n",
    "            nWin = b.shape[0]\n",
    "            inputs, targets, wins = genAllDat(ME_db_2Dmesh, b, classes, len(classes), nTrials, nWin, S, nX, nY)\n",
    "            # shuffle the dataset\n",
    "            inputs, targets = shuffle(inputs, targets)\n",
    "            inputs = np.expand_dims(inputs, axis=-1)\n",
    "\n",
    "            where_are_NaNs = np.isnan(inputs)\n",
    "            inputs[where_are_NaNs] = 0\n",
    "\n",
    "            # restructure to go up starting from 1\n",
    "            j = 1\n",
    "            for i in classes:\n",
    "                targets[:] = [x if x != i else j for x in targets]\n",
    "                j = j+1\n",
    "\n",
    "            # split into training and testing set\n",
    "            X_train, X_test, y_train, y_test = train_test_split(inputs, targets, test_size=0.2)\n",
    "\n",
    "            y_train = to_categorical(y_train-1)\n",
    "            y_test = to_categorical(y_test-1)\n",
    "            \n",
    "            # define early stopping\n",
    "            outputFile = output_dir_Pairwise+\"/CascadeModel_S\"+str(S)+\"_C\"+str(c1)+\"_\"+str(c2)+\"_\"+\"Epochs\"+str(nEpochs)+\".h5\"\n",
    "            checkpoint = ModelCheckpoint(outputFile, monitor='val_accuracy', verbose=1, save_best_only=True, save_weights_only=False, mode='auto', period=1)\n",
    "            early = EarlyStopping(monitor='val_accuracy', min_delta=0, patience=5, verbose=1, mode='auto')\n",
    "\n",
    "            model = get_compiled_casc_model(S, K=2, activation_last='sigmoid', loss='binary_crossentropy')\n",
    "            t1 = time.time()\n",
    "            model.fit(X_train, y_train, epochs=n_epochs, batch_size=batch_size, verbose=1, \n",
    "                      validation_split=0.2, callbacks=[checkpoint, early])\n",
    "            print('Training on class', classes, ' finished in ', str(time.time() - t1), 's')\n",
    "\n",
    "            print('Evaluate on class', classes)\n",
    "\n",
    "            # evaluate model\n",
    "            _, accuracy = model.evaluate(X_test, y_test, verbose=1)\n",
    "\n",
    "            accuracy_pairwise[c1-1,c2-1] = accuracy"
   ]
  },
  {
   "cell_type": "code",
   "execution_count": 14,
   "metadata": {
    "colab": {
     "base_uri": "https://localhost:8080/",
     "height": 601
    },
    "colab_type": "code",
    "id": "-Cs1QTdRGXPI",
    "outputId": "8ba89c29-4386-4000-e262-322ea9f5c1db"
   },
   "outputs": [],
   "source": [
    "if IS_RUNNING_PAIRWISE:\n",
    "    accuracy_pairwise= accuracy_pairwise+np.transpose(accuracy_pairwise)\n",
    "\n",
    "    plt.figure(figsize = (7,7))\n",
    "    plt.imshow(accuracy_pairwise, cmap='hot', interpolation='nearest')\n",
    "    plt.colorbar()\n",
    "    plt.show()"
   ]
  },
  {
   "cell_type": "code",
   "execution_count": 15,
   "metadata": {
    "colab": {
     "base_uri": "https://localhost:8080/",
     "height": 598
    },
    "colab_type": "code",
    "id": "wbxRTu1uLMPE",
    "outputId": "ebc83359-dffd-41ea-8e62-d317ab76916e",
    "scrolled": true
   },
   "outputs": [
    {
     "name": "stdout",
     "output_type": "stream",
     "text": [
      "Training on class [1, 2, 3, 4, 5, 6, 7]\n"
     ]
    }
   ],
   "source": [
    "classes = [1, 2, 3, 4, 5, 6, 7]\n",
    "n_epochs = 50\n",
    "print('Training on class', classes)\n",
    "a = np.arange(nFrames)\n",
    "b = sliding_window(a, S, S//2)\n",
    "\n",
    "nWin = b.shape[0]\n",
    "inputs, targets, wins = genAllDat(ME_db_2Dmesh, b, classes, len(classes), nTrials, nWin, S, nX, nY)\n",
    "# shuffle the dataset\n",
    "inputs, targets = shuffle(inputs, targets)\n",
    "inputs = np.expand_dims(inputs, axis=-1)\n",
    "\n",
    "# where_are_NaNs = np.isnan(inputs)\n",
    "# inputs[where_are_NaNs] = 0\n",
    "\n",
    "# restructure to go up starting from 1\n",
    "j = 1\n",
    "for i in classes:\n",
    "    targets[:] = [x if x != i else j for x in targets]\n",
    "    j = j+1\n",
    "\n",
    "# split into training and testing set\n",
    "X_train, X_test, y_train, y_test = train_test_split(inputs, targets, test_size=0.2)\n",
    "\n",
    "y_train = to_categorical(y_train-1)\n",
    "y_test = to_categorical(y_test-1)"
   ]
  },
  {
   "cell_type": "code",
   "execution_count": 16,
   "metadata": {
    "scrolled": true
   },
   "outputs": [
    {
     "name": "stdout",
     "output_type": "stream",
     "text": [
      "Epoch 1/50\n",
      "3268/3268 [==============================] - 71s 22ms/step - loss: 1.9350 - accuracy: 0.1644 - val_loss: 1.9078 - val_accuracy: 0.1972\n",
      "Epoch 2/50\n",
      "3268/3268 [==============================] - 71s 22ms/step - loss: 1.8813 - accuracy: 0.2147 - val_loss: 1.8318 - val_accuracy: 0.2579\n",
      "Epoch 3/50\n",
      "3268/3268 [==============================] - 71s 22ms/step - loss: 1.7799 - accuracy: 0.2869 - val_loss: 1.7100 - val_accuracy: 0.3249\n",
      "Epoch 4/50\n",
      "3268/3268 [==============================] - 71s 22ms/step - loss: 1.6148 - accuracy: 0.3722 - val_loss: 1.5681 - val_accuracy: 0.3918\n",
      "Epoch 5/50\n",
      "3268/3268 [==============================] - 71s 22ms/step - loss: 1.4040 - accuracy: 0.4656 - val_loss: 1.4205 - val_accuracy: 0.4540\n",
      "Epoch 6/50\n",
      "3268/3268 [==============================] - 71s 22ms/step - loss: 1.1865 - accuracy: 0.5532 - val_loss: 1.2847 - val_accuracy: 0.5142\n",
      "Epoch 7/50\n",
      "3268/3268 [==============================] - 71s 22ms/step - loss: 0.9925 - accuracy: 0.6268 - val_loss: 1.2029 - val_accuracy: 0.5510\n",
      "Epoch 8/50\n",
      "3268/3268 [==============================] - 71s 22ms/step - loss: 0.8350 - accuracy: 0.6862 - val_loss: 1.1259 - val_accuracy: 0.5864\n",
      "Epoch 9/50\n",
      "3268/3268 [==============================] - 71s 22ms/step - loss: 0.7023 - accuracy: 0.7340 - val_loss: 1.0603 - val_accuracy: 0.6259\n",
      "Epoch 10/50\n",
      "3268/3268 [==============================] - 71s 22ms/step - loss: 0.5986 - accuracy: 0.7770 - val_loss: 1.0223 - val_accuracy: 0.6515\n",
      "Epoch 11/50\n",
      "3268/3268 [==============================] - 71s 22ms/step - loss: 0.5147 - accuracy: 0.8118 - val_loss: 0.9812 - val_accuracy: 0.6756\n",
      "Epoch 12/50\n",
      "3268/3268 [==============================] - 71s 22ms/step - loss: 0.4432 - accuracy: 0.8413 - val_loss: 0.9308 - val_accuracy: 0.7009\n",
      "Epoch 13/50\n",
      "3268/3268 [==============================] - 71s 22ms/step - loss: 0.3844 - accuracy: 0.8650 - val_loss: 0.9234 - val_accuracy: 0.7163\n",
      "Epoch 14/50\n",
      "3268/3268 [==============================] - 71s 22ms/step - loss: 0.3328 - accuracy: 0.8861 - val_loss: 0.9096 - val_accuracy: 0.7285\n",
      "Epoch 15/50\n",
      "3268/3268 [==============================] - 71s 22ms/step - loss: 0.2931 - accuracy: 0.9019 - val_loss: 0.8669 - val_accuracy: 0.7462\n",
      "Epoch 16/50\n",
      "3268/3268 [==============================] - 71s 22ms/step - loss: 0.2561 - accuracy: 0.9152 - val_loss: 0.8755 - val_accuracy: 0.7538\n",
      "Epoch 17/50\n",
      "3268/3268 [==============================] - 71s 22ms/step - loss: 0.2298 - accuracy: 0.9246 - val_loss: 0.8905 - val_accuracy: 0.7558\n",
      "Epoch 18/50\n",
      "3268/3268 [==============================] - 71s 22ms/step - loss: 0.2091 - accuracy: 0.9329 - val_loss: 0.8670 - val_accuracy: 0.7672\n",
      "Epoch 19/50\n",
      "3268/3268 [==============================] - 71s 22ms/step - loss: 0.1924 - accuracy: 0.9383 - val_loss: 0.8452 - val_accuracy: 0.7732\n",
      "Epoch 20/50\n",
      "3268/3268 [==============================] - 71s 22ms/step - loss: 0.1764 - accuracy: 0.9442 - val_loss: 0.8475 - val_accuracy: 0.7783\n",
      "Epoch 21/50\n",
      "3268/3268 [==============================] - 71s 22ms/step - loss: 0.1643 - accuracy: 0.9478 - val_loss: 0.8209 - val_accuracy: 0.7867\n",
      "Epoch 22/50\n",
      "3268/3268 [==============================] - 71s 22ms/step - loss: 0.1538 - accuracy: 0.9520 - val_loss: 0.8119 - val_accuracy: 0.7906\n",
      "Epoch 23/50\n",
      "3268/3268 [==============================] - 71s 22ms/step - loss: 0.1447 - accuracy: 0.9549 - val_loss: 0.7901 - val_accuracy: 0.7977\n",
      "Epoch 24/50\n",
      "3268/3268 [==============================] - 71s 22ms/step - loss: 0.1356 - accuracy: 0.9574 - val_loss: 0.8057 - val_accuracy: 0.8008\n",
      "Epoch 25/50\n",
      "3268/3268 [==============================] - 71s 22ms/step - loss: 0.1303 - accuracy: 0.9600 - val_loss: 0.8137 - val_accuracy: 0.7994\n",
      "Epoch 26/50\n",
      "3268/3268 [==============================] - 71s 22ms/step - loss: 0.1219 - accuracy: 0.9626 - val_loss: 0.7996 - val_accuracy: 0.8021\n",
      "Epoch 27/50\n",
      "3268/3268 [==============================] - 71s 22ms/step - loss: 0.1170 - accuracy: 0.9643 - val_loss: 0.8047 - val_accuracy: 0.8039\n",
      "Epoch 28/50\n",
      "3268/3268 [==============================] - 71s 22ms/step - loss: 0.1112 - accuracy: 0.9660 - val_loss: 0.8384 - val_accuracy: 0.8011\n",
      "Epoch 29/50\n",
      "3268/3268 [==============================] - 71s 22ms/step - loss: 0.1085 - accuracy: 0.9671 - val_loss: 0.8213 - val_accuracy: 0.8064\n",
      "Epoch 30/50\n",
      "3268/3268 [==============================] - 71s 22ms/step - loss: 0.1028 - accuracy: 0.9690 - val_loss: 0.8118 - val_accuracy: 0.8095\n",
      "Epoch 31/50\n",
      "3268/3268 [==============================] - 71s 22ms/step - loss: 0.0998 - accuracy: 0.9696 - val_loss: 0.7848 - val_accuracy: 0.8144\n",
      "Epoch 32/50\n",
      "3268/3268 [==============================] - 71s 22ms/step - loss: 0.0953 - accuracy: 0.9711 - val_loss: 0.8046 - val_accuracy: 0.8133\n",
      "Epoch 33/50\n",
      "3268/3268 [==============================] - 71s 22ms/step - loss: 0.0910 - accuracy: 0.9721 - val_loss: 0.8056 - val_accuracy: 0.8171\n",
      "Epoch 34/50\n",
      "3268/3268 [==============================] - 71s 22ms/step - loss: 0.0876 - accuracy: 0.9735 - val_loss: 0.8176 - val_accuracy: 0.8153\n",
      "Epoch 35/50\n",
      "3268/3268 [==============================] - 72s 22ms/step - loss: 0.0863 - accuracy: 0.9738 - val_loss: 0.7936 - val_accuracy: 0.8208\n",
      "Epoch 36/50\n",
      "3268/3268 [==============================] - 72s 22ms/step - loss: 0.0833 - accuracy: 0.9748 - val_loss: 0.7667 - val_accuracy: 0.8197\n",
      "Epoch 37/50\n",
      "3268/3268 [==============================] - 71s 22ms/step - loss: 0.0803 - accuracy: 0.9756 - val_loss: 0.7706 - val_accuracy: 0.8259\n",
      "Epoch 38/50\n",
      "3268/3268 [==============================] - 70s 22ms/step - loss: 0.0780 - accuracy: 0.9767 - val_loss: 0.8001 - val_accuracy: 0.8206\n",
      "Epoch 39/50\n",
      "3268/3268 [==============================] - 71s 22ms/step - loss: 0.0753 - accuracy: 0.9773 - val_loss: 0.7670 - val_accuracy: 0.8271\n",
      "Epoch 40/50\n",
      "3268/3268 [==============================] - 71s 22ms/step - loss: 0.0745 - accuracy: 0.9777 - val_loss: 0.7516 - val_accuracy: 0.8319\n",
      "Epoch 41/50\n",
      "3268/3268 [==============================] - 71s 22ms/step - loss: 0.0704 - accuracy: 0.9791 - val_loss: 0.7699 - val_accuracy: 0.8310\n",
      "Epoch 42/50\n",
      "3268/3268 [==============================] - 71s 22ms/step - loss: 0.0686 - accuracy: 0.9792 - val_loss: 0.7583 - val_accuracy: 0.8309\n",
      "Epoch 43/50\n",
      "3268/3268 [==============================] - 70s 22ms/step - loss: 0.0661 - accuracy: 0.9800 - val_loss: 0.7747 - val_accuracy: 0.8312\n",
      "Epoch 44/50\n",
      "3268/3268 [==============================] - 71s 22ms/step - loss: 0.0654 - accuracy: 0.9803 - val_loss: 0.7642 - val_accuracy: 0.8326\n",
      "Epoch 45/50\n",
      "3268/3268 [==============================] - 71s 22ms/step - loss: 0.0640 - accuracy: 0.9805 - val_loss: 0.7693 - val_accuracy: 0.8326\n",
      "Epoch 46/50\n",
      "3268/3268 [==============================] - 71s 22ms/step - loss: 0.0620 - accuracy: 0.9814 - val_loss: 0.7525 - val_accuracy: 0.8365\n",
      "Epoch 47/50\n",
      "3268/3268 [==============================] - 71s 22ms/step - loss: 0.0600 - accuracy: 0.9821 - val_loss: 0.7836 - val_accuracy: 0.8335\n",
      "Epoch 48/50\n",
      "3268/3268 [==============================] - 71s 22ms/step - loss: 0.0596 - accuracy: 0.9824 - val_loss: 0.7856 - val_accuracy: 0.8335\n",
      "Epoch 49/50\n",
      "3268/3268 [==============================] - 70s 22ms/step - loss: 0.0566 - accuracy: 0.9829 - val_loss: 0.7945 - val_accuracy: 0.8329\n",
      "Epoch 50/50\n",
      "3268/3268 [==============================] - 70s 22ms/step - loss: 0.0586 - accuracy: 0.9824 - val_loss: 0.7664 - val_accuracy: 0.8364\n",
      "Training on class [1, 2, 3, 4, 5, 6, 7]  finished in  3554.9264736175537 s\n",
      "Evaluate on class [1, 2, 3, 4, 5, 6, 7]\n",
      "1022/1022 [==============================] - 7s 7ms/step - loss: 0.7738 - accuracy: 0.8354\n",
      "0.8353657722473145\n"
     ]
    }
   ],
   "source": [
    "checkpoint = ModelCheckpoint(\"CascadeModel_S8_C1to7_Epochs50_test.h5\", monitor='val_accuracy', verbose=0, \n",
    "                             save_best_only=True, save_weights_only=False, mode='auto', save_freq='epoch')\n",
    "early = EarlyStopping(monitor='val_accuracy', min_delta=0, patience=5, verbose=1, mode='auto')\n",
    "\n",
    "model = get_compiled_casc_model(S, K=7)\n",
    "model.save('CascadeModel_S8_C1to7_init.h5')\n",
    "t1 = time.time()\n",
    "history = model.fit(X_train, y_train, epochs=n_epochs, batch_size=batch_size, \n",
    "                    verbose=1, validation_split=0.2, callbacks=[checkpoint,early])\n",
    "print('Training on class', classes, ' finished in ', str(time.time() - t1), 's')\n",
    "\n",
    "print('Evaluate on class', classes)\n",
    "\n",
    "# evaluate model\n",
    "_, accuracy = model.evaluate(X_test, y_test, batch_size=batch_size, verbose=1)\n",
    "\n",
    "print(accuracy)"
   ]
  },
  {
   "cell_type": "code",
   "execution_count": 21,
   "metadata": {},
   "outputs": [
    {
     "data": {
      "image/png": "[encoded data removed]",
      "text/plain": [
       "<Figure size 432x288 with 1 Axes>"
      ]
     },
     "metadata": {
      "needs_background": "light"
     },
     "output_type": "display_data"
    }
   ],
   "source": [
    "# summarize history for accuracy\n",
    "f = plt.figure()\n",
    "plt.plot(history.history['accuracy'])\n",
    "plt.plot(history.history['val_accuracy'])\n",
    "plt.title('model accuracy')\n",
    "plt.ylabel('accuracy')\n",
    "plt.xlabel('epoch')\n",
    "plt.legend(['train', 'val'], loc='lower right')\n",
    "plt.xlim((0, 50))\n",
    "plt.ylim((0, 1))\n",
    "plt.show()"
   ]
  },
  {
   "cell_type": "code",
   "execution_count": 22,
   "metadata": {
    "scrolled": true
   },
   "outputs": [
    {
     "data": {
      "image/png": "[encoded data removed]",
      "text/plain": [
       "<Figure size 432x288 with 1 Axes>"
      ]
     },
     "metadata": {
      "needs_background": "light"
     },
     "output_type": "display_data"
    }
   ],
   "source": [
    "# summarize history for loss\n",
    "f = plt.figure()\n",
    "plt.plot(history.history['loss'])\n",
    "plt.plot(history.history['val_loss'])\n",
    "plt.title('model loss')\n",
    "plt.ylabel('loss')\n",
    "plt.xlabel('epoch')\n",
    "plt.legend(['train', 'val'], loc='upper right')\n",
    "plt.xlim((0, 50))\n",
    "plt.show()"
   ]
  },
  {
   "cell_type": "code",
   "execution_count": 23,
   "metadata": {},
   "outputs": [],
   "source": [
    "if IS_SAVE_TRAINING_HISTORY:\n",
    "    # save the fitting history to a file\n",
    "    with open(output_dir+\"CascadeModel_train_history.pickle\", 'wb') as f:\n",
    "        pickle.dump(history.history, f)"
   ]
  },
  {
   "cell_type": "code",
   "execution_count": 24,
   "metadata": {},
   "outputs": [],
   "source": [
    "if GEN_PICKLE_INPUT_TARGET:\n",
    "    outputFile = [\"inputs_S\"+str(S)+\"_C1to7.pickle\", \\\n",
    "              \"targets_S\"+str(S)+\"_C1to7.pickle\", \\\n",
    "              \"wins_S\"+str(S)+\"_C1to7.pickle\"]\n",
    "\n",
    "    dat = [inputs, targets, wins]\n",
    "\n",
    "    t1 = time.time()\n",
    "    for i in range(0,3):\n",
    "        f = open(output_dir+outputFile[i], \"wb\")\n",
    "        i_str = pickle.dumps(dat[i])\n",
    "        f_size = sys.getsizeof(i_str)\n",
    "        f.write(i_str)\n",
    "        f.close()\n",
    "        print(\"Finished writing %.2f MB of data to %s in %f s\" % (f_size, outputFile[i], time.time()-t1))"
   ]
  },
  {
   "cell_type": "code",
   "execution_count": null,
   "metadata": {},
   "outputs": [],
   "source": []
  },
  {
   "cell_type": "code",
   "execution_count": null,
   "metadata": {},
   "outputs": [],
   "source": []
  },
  {
   "cell_type": "code",
   "execution_count": null,
   "metadata": {},
   "outputs": [],
   "source": []
  }
 ],
 "metadata": {
  "accelerator": "GPU",
  "colab": {
   "collapsed_sections": [],
   "name": "nn_colab.ipynb",
   "provenance": [],
   "toc_visible": true
  },
  "kernelspec": {
   "display_name": "Python 3",
   "language": "python",
   "name": "python3"
  },
  "language_info": {
   "codemirror_mode": {
    "name": "ipython",
    "version": 3
   },
   "file_extension": ".py",
   "mimetype": "text/x-python",
   "name": "python",
   "nbconvert_exporter": "python",
   "pygments_lexer": "ipython3",
   "version": "3.6.9"
  }
 },
 "nbformat": 4,
 "nbformat_minor": 1
}
