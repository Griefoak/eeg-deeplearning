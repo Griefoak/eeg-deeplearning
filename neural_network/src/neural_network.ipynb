{
 "cells": [
  {
   "cell_type": "code",
   "execution_count": 1,
   "metadata": {
    "colab": {
     "base_uri": "https://localhost:8080/",
     "height": 34
    },
    "colab_type": "code",
    "id": "z6yWAfcwYE2q",
    "outputId": "14cbd937-837d-4939-86c1-c5bf124ceb76"
   },
   "outputs": [
    {
     "name": "stderr",
     "output_type": "stream",
     "text": [
      "Using TensorFlow backend.\n"
     ]
    }
   ],
   "source": [
    "import numpy as np\n",
    "import scipy as sp\n",
    "import tensorflow as tf\n",
    "import tensorflow.keras as keras\n",
    "import matplotlib.pyplot as plt\n",
    "\n",
    "from tensorflow.keras import optimizers\n",
    "from tensorflow.keras import models\n",
    "from tensorflow.keras import layers\n",
    "from tensorflow.keras import losses\n",
    "from tensorflow.keras import metrics\n",
    "from tensorflow.keras.callbacks import ModelCheckpoint, EarlyStopping\n",
    "from keras.utils import to_categorical\n",
    "\n",
    "from sklearn.model_selection import train_test_split\n",
    "from sklearn.utils import shuffle\n",
    "\n",
    "import time\n",
    "import os\n",
    "import sys\n",
    "import pickle\n",
    "\n",
    "from minibatch import *\n",
    "\n",
    "physical_devices = tf.config.experimental.list_physical_devices('GPU') \n",
    "for physical_device in physical_devices: \n",
    "    tf.config.experimental.set_memory_growth(physical_device, True)"
   ]
  },
  {
   "cell_type": "code",
   "execution_count": 2,
   "metadata": {
    "scrolled": true
   },
   "outputs": [
    {
     "name": "stdout",
     "output_type": "stream",
     "text": [
      "/home/sweet/2-coursework/725bmes/eeg_deeplearning/neural_network/src\r\n"
     ]
    }
   ],
   "source": [
    "!pwd"
   ]
  },
  {
   "cell_type": "code",
   "execution_count": 3,
   "metadata": {},
   "outputs": [],
   "source": [
    "IS_RUNNING_PAIRWISE = False\n",
    "IS_SAVE_TRAINING_HISTORY = False\n",
    "GEN_PICKLE_INPUT_TARGET = False"
   ]
  },
  {
   "cell_type": "markdown",
   "metadata": {
    "colab_type": "text",
    "id": "FQvSz7XE2XRd"
   },
   "source": [
    "# Define sliding window"
   ]
  },
  {
   "cell_type": "code",
   "execution_count": 4,
   "metadata": {
    "colab": {},
    "colab_type": "code",
    "id": "uQhM362cYE4a"
   },
   "outputs": [],
   "source": [
    "from numpy.lib.stride_tricks import as_strided\n",
    "\n",
    "def sliding_window(a, w = 4, o = 2, copy = False):\n",
    "    sh = (a.size - w + 1, w)\n",
    "    st = a.strides * 2\n",
    "    view = np.lib.stride_tricks.as_strided(a, strides = st, shape = sh)[0::o]\n",
    "    if copy:\n",
    "        return view.copy()\n",
    "    else:\n",
    "        return view"
   ]
  },
  {
   "cell_type": "code",
   "execution_count": 5,
   "metadata": {
    "colab": {
     "base_uri": "https://localhost:8080/",
     "height": 51
    },
    "colab_type": "code",
    "id": "UC-WtEkwGLU0",
    "outputId": "0df1bb0b-bfb3-45d1-9f08-852bfd96c980"
   },
   "outputs": [],
   "source": [
    "def genAllDat(db, b, targetClas, nClas=7, nTrials=200, nWin=1, S=16, nX=9, nY=9):\n",
    "    \n",
    "    inputs = np.zeros((nWin*nTrials*nClas, S, nX, nY))\n",
    "    targets = np.zeros(nWin*nTrials*nClas, dtype=int)\n",
    "    wins = np.zeros(nWin*nTrials*nClas, dtype=int)\n",
    "\n",
    "    seq_perms = create_rand_seq_permutations(db)\n",
    "    k = 0\n",
    "    for trial in range(0,nTrials):\n",
    "        for clas in targetClas:\n",
    "            perm = seq_perms[clas][trial]\n",
    "            tmp = db[clas][perm]\n",
    "\n",
    "            for win in range(0,nWin):\n",
    "                inputs[k] = tmp[b[win,:]]\n",
    "                targets[k] = clas\n",
    "                wins[k] = win\n",
    "                k=k+1\n",
    "    return inputs, targets, wins"
   ]
  },
  {
   "cell_type": "markdown",
   "metadata": {
    "colab_type": "text",
    "id": "cDkzN3F42XQ4"
   },
   "source": [
    "# Load Data"
   ]
  },
  {
   "cell_type": "code",
   "execution_count": 6,
   "metadata": {
    "colab": {
     "base_uri": "https://localhost:8080/",
     "height": 34
    },
    "colab_type": "code",
    "id": "NpY-PqwsYE3j",
    "outputId": "405bb5e8-0091-445b-c30f-bbcccaffc8c9"
   },
   "outputs": [
    {
     "name": "stdout",
     "output_type": "stream",
     "text": [
      "Loaded ME database in 1.849145 s\n"
     ]
    }
   ],
   "source": [
    "db_dir = \"/home/sweet/2-coursework/725bmes/eeg_deeplearning/neural_network/src\"\n",
    "ME_db_fname = \"mesh_NoArt_ME_db_128.pickle\"\n",
    "ME_db = {}\n",
    "\n",
    "t1 = time.time()\n",
    "with open(db_dir + \"/\" + ME_db_fname, \"rb\") as f:\n",
    "    ME_db_2Dmesh = pickle.load(f)\n",
    "print(\"Loaded ME database in %f s\" % (time.time()-t1))"
   ]
  },
  {
   "cell_type": "code",
   "execution_count": 7,
   "metadata": {},
   "outputs": [],
   "source": [
    "# Create folder for model's checkpoints\n",
    "pwd = os.getcwd()\n",
    "ckt_pt_dir = pwd + \"/check_points\"\n",
    "try:\n",
    "    if not os.path.isdir(ckt_pt_dir):\n",
    "        os.mkdir(ckt_pt_dir)\n",
    "except OSError as error:\n",
    "    print(\"Cannot create directory. Exiting...\")\n",
    "    print(error)"
   ]
  },
  {
   "cell_type": "markdown",
   "metadata": {
    "colab_type": "text",
    "id": "R8uOYTbs2XRP"
   },
   "source": [
    "# Define Neural Network"
   ]
  },
  {
   "cell_type": "code",
   "execution_count": 8,
   "metadata": {
    "colab": {},
    "colab_type": "code",
    "id": "cJsAjLilYE4P"
   },
   "outputs": [],
   "source": [
    "S = 8    # S = number of images\n",
    "K = 7    # K = number of classes\n",
    "last_fc = 64\n",
    "dropout_rate = 0.5\n",
    "opt = keras.optimizers.Adam(learning_rate=1e-4)\n",
    "lossfn = 'categorical_crossentropy'\n",
    "metric = ['acurracy']"
   ]
  },
  {
   "cell_type": "code",
   "execution_count": 9,
   "metadata": {
    "colab": {},
    "colab_type": "code",
    "id": "piU_PBVyNl7b"
   },
   "outputs": [],
   "source": [
    "def get_compiled_casc_model(S, K=8, last_fc=64, dropout_rate=0.5, \n",
    "                            activation_last='softmax', opt=keras.optimizers.Adam(learning_rate=1e-4), \n",
    "                            loss='categorical_crossentropy'):\n",
    "    model = models.Sequential()\n",
    "    model.add(layers.Input(shape=(S, 9, 9, 1)))\n",
    "    model.add(layers.TimeDistributed(layers.Conv2D(filters=32, kernel_size=3, padding='same', activation='relu')))\n",
    "    model.add(layers.TimeDistributed(layers.Conv2D(filters=64, kernel_size=3, padding='same', activation='relu')))\n",
    "    model.add(layers.TimeDistributed(layers.Conv2D(filters=128, kernel_size=3, padding='same', activation='relu')))\n",
    "    model.add(layers.TimeDistributed(layers.Flatten()))\n",
    "    model.add(layers.TimeDistributed(layers.Dense(1024, activation='relu')))\n",
    "    model.add(layers.TimeDistributed(layers.Dropout(dropout_rate)))\n",
    "    model.add(layers.LSTM(S, return_sequences=True))\n",
    "    model.add(layers.LSTM(S))\n",
    "    model.add(layers.Dense(last_fc, activation='relu'))\n",
    "    model.add(layers.Dropout(dropout_rate))\n",
    "    model.add(layers.Dense(K, activation=activation_last))\n",
    "    model.compile(loss=loss, optimizer=opt, metrics=['accuracy'])\n",
    "\n",
    "    return model"
   ]
  },
  {
   "cell_type": "code",
   "execution_count": 10,
   "metadata": {},
   "outputs": [],
   "source": [
    "def create_batches(X, Y, batch_size=64):\n",
    "    i = 0\n",
    "    while True:\n",
    "        yield X[i:i+batch_size], Y[i:i+batch_size]\n",
    "        i = i + batch_size"
   ]
  },
  {
   "cell_type": "code",
   "execution_count": 11,
   "metadata": {},
   "outputs": [
    {
     "data": {
      "text/plain": [
       "(749, 257, 9, 9)"
      ]
     },
     "metadata": {},
     "output_type": "display_data"
    }
   ],
   "source": [
    "classes = [1,5]\n",
    "nClas = len(ME_db_2Dmesh)\n",
    "nTrials = ME_db_2Dmesh[1].shape[0]\n",
    "nFrames = ME_db_2Dmesh[1].shape[1]\n",
    "nX = ME_db_2Dmesh[1].shape[2]\n",
    "nY = ME_db_2Dmesh[1].shape[3]\n",
    "display(ME_db_2Dmesh[1].shape)"
   ]
  },
  {
   "cell_type": "code",
   "execution_count": 12,
   "metadata": {},
   "outputs": [],
   "source": [
    "batch_size = 64\n",
    "n_epochs = 20"
   ]
  },
  {
   "cell_type": "code",
   "execution_count": 13,
   "metadata": {
    "colab": {
     "base_uri": "https://localhost:8080/",
     "height": 1000
    },
    "colab_type": "code",
    "id": "P95wQipBGxDR",
    "outputId": "a53e6f44-8e9f-48e0-cae6-343b3ad33f40",
    "scrolled": true
   },
   "outputs": [],
   "source": [
    "if IS_RUNNING_PAIRWISE:\n",
    "    accuracy_pairwise = np.zeros((7,7))\n",
    "    for c1 in range(1,7):\n",
    "        for c2 in range(c1+1,8):\n",
    "            classes = [c1, c2]\n",
    "            print('Training on class', classes)\n",
    "            a = np.arange(nFrames)\n",
    "            b = sliding_window(a, S, S//2)\n",
    "\n",
    "            nWin = b.shape[0]\n",
    "            inputs, targets, wins = genAllDat(ME_db_2Dmesh, b, classes, len(classes), nTrials, nWin, S, nX, nY)\n",
    "            # shuffle the dataset\n",
    "            inputs, targets = shuffle(inputs, targets)\n",
    "            inputs = np.expand_dims(inputs, axis=-1)\n",
    "\n",
    "            where_are_NaNs = np.isnan(inputs)\n",
    "            inputs[where_are_NaNs] = 0\n",
    "\n",
    "            # restructure to go up starting from 1\n",
    "            j = 1\n",
    "            for i in classes:\n",
    "                targets[:] = [x if x != i else j for x in targets]\n",
    "                j = j+1\n",
    "\n",
    "            # split into training and testing set\n",
    "            X_train, X_test, y_train, y_test = train_test_split(inputs, targets, test_size=0.2)\n",
    "\n",
    "            y_train = to_categorical(y_train-1)\n",
    "            y_test = to_categorical(y_test-1)\n",
    "            \n",
    "            # define early stopping\n",
    "            outputFile = output_dir_Pairwise+\"/CascadeModel_S\"+str(S)+\"_C\"+str(c1)+\"_\"+str(c2)+\"_\"+\"Epochs\"+str(nEpochs)+\".h5\"\n",
    "            checkpoint = ModelCheckpoint(outputFile, monitor='val_accuracy', verbose=1, save_best_only=True, save_weights_only=False, mode='auto', period=1)\n",
    "            early = EarlyStopping(monitor='val_accuracy', min_delta=0, patience=5, verbose=1, mode='auto')\n",
    "\n",
    "            model = get_compiled_casc_model(S, K=2, activation_last='sigmoid', loss='binary_crossentropy')\n",
    "            t1 = time.time()\n",
    "            model.fit(X_train, y_train, epochs=n_epochs, batch_size=batch_size, verbose=1, \n",
    "                      validation_split=0.2, callbacks=[checkpoint, early])\n",
    "            print('Training on class', classes, ' finished in ', str(time.time() - t1), 's')\n",
    "\n",
    "            print('Evaluate on class', classes)\n",
    "\n",
    "            # evaluate model\n",
    "            _, accuracy = model.evaluate(X_test, y_test, verbose=1)\n",
    "\n",
    "            accuracy_pairwise[c1-1,c2-1] = accuracy"
   ]
  },
  {
   "cell_type": "code",
   "execution_count": 14,
   "metadata": {
    "colab": {
     "base_uri": "https://localhost:8080/",
     "height": 601
    },
    "colab_type": "code",
    "id": "-Cs1QTdRGXPI",
    "outputId": "8ba89c29-4386-4000-e262-322ea9f5c1db"
   },
   "outputs": [],
   "source": [
    "if IS_RUNNING_PAIRWISE:\n",
    "    accuracy_pairwise= accuracy_pairwise+np.transpose(accuracy_pairwise)\n",
    "\n",
    "    plt.figure(figsize = (7,7))\n",
    "    plt.imshow(accuracy_pairwise, cmap='hot', interpolation='nearest')\n",
    "    plt.colorbar()\n",
    "    plt.show()"
   ]
  },
  {
   "cell_type": "code",
   "execution_count": 15,
   "metadata": {
    "colab": {
     "base_uri": "https://localhost:8080/",
     "height": 598
    },
    "colab_type": "code",
    "id": "wbxRTu1uLMPE",
    "outputId": "ebc83359-dffd-41ea-8e62-d317ab76916e",
    "scrolled": true
   },
   "outputs": [
    {
     "name": "stdout",
     "output_type": "stream",
     "text": [
      "Training on class [1, 2, 3, 4, 5, 6, 7]\n"
     ]
    }
   ],
   "source": [
    "classes = [1, 2, 3, 4, 5, 6, 7]\n",
    "n_epochs = 20\n",
    "print('Training on class', classes)\n",
    "a = np.arange(nFrames)\n",
    "b = sliding_window(a, S, S//2)\n",
    "\n",
    "nWin = b.shape[0]\n",
    "inputs, targets, wins = genAllDat(ME_db_2Dmesh, b, classes, len(classes), nTrials, nWin, S, nX, nY)\n",
    "# shuffle the dataset\n",
    "inputs, targets = shuffle(inputs, targets)\n",
    "inputs = np.expand_dims(inputs, axis=-1)\n",
    "\n",
    "where_are_NaNs = np.isnan(inputs)\n",
    "inputs[where_are_NaNs] = 0\n",
    "\n",
    "# restructure to go up starting from 1\n",
    "j = 1\n",
    "for i in classes:\n",
    "    targets[:] = [x if x != i else j for x in targets]\n",
    "    j = j+1\n",
    "\n",
    "# split into training and testing set\n",
    "X_train, X_test, y_train, y_test = train_test_split(inputs, targets, test_size=0.2)\n",
    "\n",
    "y_train = to_categorical(y_train-1)\n",
    "y_test = to_categorical(y_test-1)"
   ]
  },
  {
   "cell_type": "code",
   "execution_count": 16,
   "metadata": {
    "scrolled": true
   },
   "outputs": [
    {
     "name": "stdout",
     "output_type": "stream",
     "text": [
      "Epoch 1/20\n",
      "3304/3304 [==============================] - 72s 22ms/step - loss: 1.9382 - accuracy: 0.1557 - val_loss: 1.9196 - val_accuracy: 0.1762\n",
      "Epoch 2/20\n",
      "3304/3304 [==============================] - 72s 22ms/step - loss: 1.8919 - accuracy: 0.2020 - val_loss: 1.8491 - val_accuracy: 0.2370\n",
      "Epoch 3/20\n",
      "3304/3304 [==============================] - 72s 22ms/step - loss: 1.7969 - accuracy: 0.2712 - val_loss: 1.7450 - val_accuracy: 0.2954\n",
      "Epoch 4/20\n",
      "3304/3304 [==============================] - 72s 22ms/step - loss: 1.6452 - accuracy: 0.3529 - val_loss: 1.6035 - val_accuracy: 0.3665\n",
      "Epoch 5/20\n",
      "3304/3304 [==============================] - 72s 22ms/step - loss: 1.4557 - accuracy: 0.4388 - val_loss: 1.4850 - val_accuracy: 0.4233\n",
      "Epoch 6/20\n",
      "3304/3304 [==============================] - 72s 22ms/step - loss: 1.2566 - accuracy: 0.5233 - val_loss: 1.3509 - val_accuracy: 0.4833\n",
      "Epoch 7/20\n",
      "3304/3304 [==============================] - 72s 22ms/step - loss: 1.0660 - accuracy: 0.5986 - val_loss: 1.2614 - val_accuracy: 0.5274\n",
      "Epoch 8/20\n",
      "3304/3304 [==============================] - 72s 22ms/step - loss: 0.9038 - accuracy: 0.6614 - val_loss: 1.1799 - val_accuracy: 0.5667\n",
      "Epoch 9/20\n",
      "3304/3304 [==============================] - 72s 22ms/step - loss: 0.7655 - accuracy: 0.7153 - val_loss: 1.1664 - val_accuracy: 0.5914\n",
      "Epoch 10/20\n",
      "3304/3304 [==============================] - 72s 22ms/step - loss: 0.6563 - accuracy: 0.7571 - val_loss: 1.1210 - val_accuracy: 0.6158\n",
      "Epoch 11/20\n",
      "3304/3304 [==============================] - 71s 21ms/step - loss: 0.5701 - accuracy: 0.7925 - val_loss: 1.0517 - val_accuracy: 0.6517\n",
      "Epoch 12/20\n",
      "3304/3304 [==============================] - 72s 22ms/step - loss: 0.4956 - accuracy: 0.8217 - val_loss: 1.0747 - val_accuracy: 0.6625\n",
      "Epoch 13/20\n",
      "3304/3304 [==============================] - 73s 22ms/step - loss: 0.4379 - accuracy: 0.8456 - val_loss: 1.0024 - val_accuracy: 0.6872\n",
      "Epoch 14/20\n",
      "3304/3304 [==============================] - 77s 23ms/step - loss: 0.3852 - accuracy: 0.8656 - val_loss: 1.0521 - val_accuracy: 0.6946\n",
      "Epoch 15/20\n",
      "3304/3304 [==============================] - 77s 23ms/step - loss: 0.3459 - accuracy: 0.8813 - val_loss: 1.0289 - val_accuracy: 0.7052\n",
      "Epoch 16/20\n",
      "3304/3304 [==============================] - 77s 23ms/step - loss: 0.3090 - accuracy: 0.8953 - val_loss: 1.0184 - val_accuracy: 0.7123\n",
      "Epoch 17/20\n",
      "3304/3304 [==============================] - 76s 23ms/step - loss: 0.2764 - accuracy: 0.9075 - val_loss: 0.9997 - val_accuracy: 0.7281\n",
      "Epoch 18/20\n",
      "3304/3304 [==============================] - 77s 23ms/step - loss: 0.2542 - accuracy: 0.9161 - val_loss: 0.9557 - val_accuracy: 0.7417\n",
      "Epoch 19/20\n",
      "3304/3304 [==============================] - 77s 23ms/step - loss: 0.2335 - accuracy: 0.9238 - val_loss: 0.9869 - val_accuracy: 0.7427\n",
      "Epoch 20/20\n",
      "3304/3304 [==============================] - 76s 23ms/step - loss: 0.2151 - accuracy: 0.9305 - val_loss: 0.9531 - val_accuracy: 0.7531\n",
      "Training on class [1, 2, 3, 4, 5, 6, 7]  finished in  1477.2440633773804 s\n",
      "Evaluate on class [1, 2, 3, 4, 5, 6, 7]\n",
      "1033/1033 [==============================] - 8s 7ms/step - loss: 0.9460 - accuracy: 0.7548\n",
      "0.7547758221626282\n"
     ]
    }
   ],
   "source": [
    "checkpoint = ModelCheckpoint(\"CascadeModel_S8_C1to7_Epochs50_test.h5\", monitor='val_accuracy', verbose=0, \n",
    "                             save_best_only=True, save_weights_only=False, mode='auto', save_freq='epoch')\n",
    "early = EarlyStopping(monitor='val_accuracy', min_delta=0, patience=5, verbose=1, mode='auto')\n",
    "\n",
    "model = get_compiled_casc_model(S, K=7)\n",
    "model.save('CascadeModel_S8_C1to7_init.h5')\n",
    "t1 = time.time()\n",
    "history = model.fit(X_train, y_train, epochs=n_epochs, batch_size=batch_size, \n",
    "                    verbose=1, validation_split=0.2, callbacks=[checkpoint,early])\n",
    "print('Training on class', classes, ' finished in ', str(time.time() - t1), 's')\n",
    "\n",
    "print('Evaluate on class', classes)\n",
    "\n",
    "# evaluate model\n",
    "_, accuracy = model.evaluate(X_test, y_test, batch_size=batch_size, verbose=1)\n",
    "\n",
    "print(accuracy)"
   ]
  },
  {
   "cell_type": "code",
   "execution_count": 19,
   "metadata": {},
   "outputs": [
    {
     "data": {
      "image/png": "[encoded data removed]",
      "text/plain": [
       "<Figure size 432x288 with 1 Axes>"
      ]
     },
     "metadata": {
      "needs_background": "light"
     },
     "output_type": "display_data"
    }
   ],
   "source": [
    "# summarize history for accuracy\n",
    "f = plt.figure()\n",
    "plt.plot(history.history['accuracy'])\n",
    "plt.plot(history.history['val_accuracy'])\n",
    "plt.title('model accuracy')\n",
    "plt.ylabel('accuracy')\n",
    "plt.xlabel('epoch')\n",
    "plt.legend(['train', 'val'], loc='lower right')\n",
    "plt.xlim((0, 50))\n",
    "plt.ylim((0, 1))\n",
    "plt.show()"
   ]
  },
  {
   "cell_type": "code",
   "execution_count": 20,
   "metadata": {
    "scrolled": true
   },
   "outputs": [
    {
     "data": {
      "image/png": "[encoded data removed]",
      "text/plain": [
       "<Figure size 432x288 with 1 Axes>"
      ]
     },
     "metadata": {
      "needs_background": "light"
     },
     "output_type": "display_data"
    }
   ],
   "source": [
    "# summarize history for loss\n",
    "f = plt.figure()\n",
    "plt.plot(history.history['loss'])\n",
    "plt.plot(history.history['val_loss'])\n",
    "plt.title('model loss')\n",
    "plt.ylabel('loss')\n",
    "plt.xlabel('epoch')\n",
    "plt.legend(['train', 'val'], loc='upper right')\n",
    "plt.xlim((0, 50))\n",
    "plt.show()"
   ]
  },
  {
   "cell_type": "code",
   "execution_count": null,
   "metadata": {},
   "outputs": [],
   "source": [
    "if IS_SAVE_TRAINING_HISTORY:\n",
    "    # save the fitting history to a file\n",
    "    with open(output_dir+\"CascadeModel_train_history.pickle\", 'wb') as f:\n",
    "        pickle.dump(history.history, f)"
   ]
  },
  {
   "cell_type": "code",
   "execution_count": 21,
   "metadata": {},
   "outputs": [],
   "source": [
    "if GEN_PICKLE_INPUT_TARGET:\n",
    "    outputFile = [\"inputs_S\"+str(S)+\"_C1to7.pickle\", \\\n",
    "              \"targets_S\"+str(S)+\"_C1to7.pickle\", \\\n",
    "              \"wins_S\"+str(S)+\"_C1to7.pickle\"]\n",
    "\n",
    "    dat = [inputs, targets, wins]\n",
    "\n",
    "    t1 = time.time()\n",
    "    for i in range(0,3):\n",
    "        f = open(output_dir+outputFile[i], \"wb\")\n",
    "        i_str = pickle.dumps(dat[i])\n",
    "        f_size = sys.getsizeof(i_str)\n",
    "        f.write(i_str)\n",
    "        f.close()\n",
    "        print(\"Finished writing %.2f MB of data to %s in %f s\" % (f_size, outputFile[i], time.time()-t1))"
   ]
  },
  {
   "cell_type": "code",
   "execution_count": null,
   "metadata": {},
   "outputs": [],
   "source": []
  },
  {
   "cell_type": "code",
   "execution_count": null,
   "metadata": {},
   "outputs": [],
   "source": []
  },
  {
   "cell_type": "code",
   "execution_count": null,
   "metadata": {},
   "outputs": [],
   "source": []
  }
 ],
 "metadata": {
  "accelerator": "GPU",
  "colab": {
   "collapsed_sections": [],
   "name": "nn_colab.ipynb",
   "provenance": [],
   "toc_visible": true
  },
  "kernelspec": {
   "display_name": "Python 3",
   "language": "python",
   "name": "python3"
  },
  "language_info": {
   "codemirror_mode": {
    "name": "ipython",
    "version": 3
   },
   "file_extension": ".py",
   "mimetype": "text/x-python",
   "name": "python",
   "nbconvert_exporter": "python",
   "pygments_lexer": "ipython3",
   "version": "3.6.9"
  }
 },
 "nbformat": 4,
 "nbformat_minor": 1
}
