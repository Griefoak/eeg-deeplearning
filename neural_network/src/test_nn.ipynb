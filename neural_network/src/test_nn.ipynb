{
 "cells": [
  {
   "cell_type": "code",
   "execution_count": 1,
   "metadata": {},
   "outputs": [],
   "source": [
    "import numpy as np\n",
    "import scipy as sp\n",
    "import tensorflow as tf\n",
    "import tensorflow.keras as keras\n",
    "import matplotlib.pyplot as plt"
   ]
  },
  {
   "cell_type": "code",
   "execution_count": 2,
   "metadata": {},
   "outputs": [
    {
     "name": "stderr",
     "output_type": "stream",
     "text": [
      "Using TensorFlow backend.\n"
     ]
    }
   ],
   "source": [
    "from tensorflow.keras import optimizers\n",
    "from tensorflow.keras import models\n",
    "from tensorflow.keras import layers\n",
    "from tensorflow.keras import losses\n",
    "from tensorflow.keras import metrics\n",
    "from keras.utils import to_categorical"
   ]
  },
  {
   "cell_type": "code",
   "execution_count": 3,
   "metadata": {},
   "outputs": [],
   "source": [
    "import time\n",
    "import os\n",
    "import sys\n",
    "import pickle\n",
    "from minibatch import *"
   ]
  },
  {
   "cell_type": "code",
   "execution_count": 4,
   "metadata": {},
   "outputs": [],
   "source": [
    "physical_devices = tf.config.list_physical_devices('GPU')\n",
    "tf.config.experimental.set_memory_growth(physical_devices[0], enable=True)"
   ]
  },
  {
   "cell_type": "code",
   "execution_count": 5,
   "metadata": {},
   "outputs": [
    {
     "name": "stdout",
     "output_type": "stream",
     "text": [
      "Loaded ME database in 0.900293 s\n",
      "(64,)\n"
     ]
    }
   ],
   "source": [
    "db_dir = \"/home/sweet/2-coursework/725bmes/eeg_deeplearning/data_extraction/src\"\n",
    "ME_db_fname = \"prelim_ME_db.pickle\"\n",
    "# MI_db_fname = \"prelim_MI_db.pickle\"\n",
    "\n",
    "ME_db = {}\n",
    "# MI_db = {}\n",
    "\n",
    "\n",
    "t1 = time.time()\n",
    "with open(db_dir + \"/\" + ME_db_fname, \"rb\") as f:\n",
    "    ME_db = pickle.load(f)\n",
    "print(\"Loaded ME database in %f s\" % (time.time()-t1))\n",
    "\n",
    "np.random.seed(0)\n",
    "seq_perms = create_rand_seq_permutations(ME_db)\n",
    "np.random.seed(0)\n",
    "batch_gen = generate_batch(ME_db, seq_perms, 4)\n",
    "output_seq, labels = next(batch_gen)\n",
    "print(output_seq[0][0].shape)"
   ]
  },
  {
   "cell_type": "code",
   "execution_count": 6,
   "metadata": {},
   "outputs": [],
   "source": [
    "# def build_conv2d(inputs, filters, kernel_size, strides=(1, 1), padding='same', activation=None, name=None, reuse=None):\n",
    "#     return tf.layers.conv2d(inputs=inputs, filters=filters, kernel_size=kernel_size, strides=strides, padding=padding, activation=activation,\n",
    "#                 kernel_initializer=tf.truncated_normal_initializer(stddev=0.1), bias_initializer=tf.constant_initializer(0.1), name=name, reuse=reuse)"
   ]
  },
  {
   "cell_type": "code",
   "execution_count": 7,
   "metadata": {
    "scrolled": false
   },
   "outputs": [],
   "source": [
    "# def create_CNN_stack(nstack):\n",
    "#     input_layer = layers.Input(shape=(10,11,1))\n",
    "#     conv2d_L1 = layers.Conv2D(32, 3, activation=\"relu\", padding=\"same\", \n",
    "#                               name=\"CNN_layer1\"+\"_\"+str(nstack))(input_layer)\n",
    "#     conv2d_L2 = layers.Conv2D(64, 3, activation=\"relu\", padding=\"same\", \n",
    "#                               name=\"CNN_layer2\"+\"_\"+str(nstack))(conv2d_L1)\n",
    "#     conv2d_L3 = layers.Conv2D(128, 3, activation=\"relu\", padding=\"same\", \n",
    "#                               name=\"CNN_layer3\"+\"_\"+str(nstack))(conv2d_L2)\n",
    "#     flat = layers.Flatten()(conv2d_L3)\n",
    "#     dense = layers.Dense(1024, activation=\"relu\", name=\"CNN_FC\"+\"_\"+str(nstack))(flat)\n",
    "#     output_layer = layers.Dropout(dropout_rate, name=\"CNN_drop\"+\"_\"+str(nstack))(dense)\n",
    "\n",
    "#     return input_layer, output_layer\n",
    "\n",
    "# def create_model_cascade():\n",
    "#     input_layers = []\n",
    "#     cnn_outputs = []\n",
    "\n",
    "#     for i in range(S):\n",
    "#         inp, out = create_CNN_stack(i)\n",
    "#         input_layers.append(inp)\n",
    "#         cnn_outputs.append(out)\n",
    "\n",
    "#     cnn_stack_model = models.Model(inputs=input_layers, outputs=cnn_outputs)\n",
    "\n",
    "#     concat_CNN_ouputs = layers.concatenate(cnn_stack_model.outputs)\n",
    "#     concat_CNN_ouputs = layers.Reshape((h_states_lstm, concat_CNN_ouputs.shape[1]//h_states_lstm))(concat_CNN_ouputs)\n",
    "    \n",
    "    \n",
    "#     lstm1 = layers.LSTM(S, return_sequences=True, name=\"LSTM_1\")(concat_CNN_ouputs)\n",
    "#     lstm2 = layers.LSTM(S, return_sequences=True, dropout=dropout_rate, name=\"LSTM_2\")(lstm1)\n",
    "#     final_output = layers.Dense(K+1, activation=\"softmax\", name=\"FC_softmax\")(lstm2[:,:,-1])\n",
    "\n",
    "#     cascade_model = models.Model(inputs=input_layers, outputs=[final_output])\n",
    "    \n",
    "#     return cascade_model\n",
    "\n",
    "\n",
    "# cascade_model = create_model_cascade()\n",
    "# cascade_model.compile(loss=lossfn, optimizer=opt, metrics=metric)\n",
    "\n",
    "# cascade_model.summary()"
   ]
  },
  {
   "cell_type": "code",
   "execution_count": 8,
   "metadata": {},
   "outputs": [],
   "source": [
    "S = 48    # S = number of images\n",
    "K = 7    # K = number of classes\n",
    "h_states_lstm = 64\n",
    "dropout_rate = 0.5\n",
    "learning_rate = 1e-4\n",
    "opt = \"adam\"\n",
    "lossfn = \"categorical_crossentropy\"\n",
    "metric = [\"acurracy\"]"
   ]
  },
  {
   "cell_type": "code",
   "execution_count": 9,
   "metadata": {},
   "outputs": [],
   "source": [
    "cascade_model = models.Sequential()\n",
    "cascade_model.add(layers.Input(shape=(S, 9, 9, 1)))\n",
    "cascade_model.add(layers.TimeDistributed(layers.Conv2D(filters=32, kernel_size=3, padding='same', activation='relu')))\n",
    "cascade_model.add(layers.TimeDistributed(layers.Conv2D(filters=64, kernel_size=3, padding='same', activation='relu')))\n",
    "cascade_model.add(layers.TimeDistributed(layers.Conv2D(filters=128, kernel_size=3, padding='same', activation='relu')))\n",
    "cascade_model.add(layers.TimeDistributed(layers.Flatten()))\n",
    "cascade_model.add(layers.TimeDistributed(layers.Dense(1024, activation='relu')))\n",
    "cascade_model.add(layers.TimeDistributed(layers.Dropout(0.5)))\n",
    "cascade_model.add(layers.LSTM(S, return_sequences=True))\n",
    "cascade_model.add(layers.LSTM(S, return_sequences=True))\n",
    "# cascade_model.add(layers.Dense(64, activation='relu'))\n",
    "cascade_model.add(layers.Dropout(0.5))\n",
    "cascade_model.add(layers.TimeDistributed(layers.Dense(S, activation='relu')))\n",
    "cascade_model.add(layers.Flatten())\n",
    "cascade_model.add(layers.Dense(8))\n",
    "cascade_model.add(layers.Activation('softmax'))\n",
    "cascade_model.compile(loss='categorical_crossentropy', optimizer=optimizers.Adam(1e-4), metrics=['accuracy'])"
   ]
  },
  {
   "cell_type": "code",
   "execution_count": 10,
   "metadata": {},
   "outputs": [
    {
     "name": "stdout",
     "output_type": "stream",
     "text": [
      "Model: \"sequential\"\n",
      "_________________________________________________________________\n",
      "Layer (type)                 Output Shape              Param #   \n",
      "=================================================================\n",
      "time_distributed (TimeDistri (None, 48, 9, 9, 32)      320       \n",
      "_________________________________________________________________\n",
      "time_distributed_1 (TimeDist (None, 48, 9, 9, 64)      18496     \n",
      "_________________________________________________________________\n",
      "time_distributed_2 (TimeDist (None, 48, 9, 9, 128)     73856     \n",
      "_________________________________________________________________\n",
      "time_distributed_3 (TimeDist (None, 48, 10368)         0         \n",
      "_________________________________________________________________\n",
      "time_distributed_4 (TimeDist (None, 48, 1024)          10617856  \n",
      "_________________________________________________________________\n",
      "time_distributed_5 (TimeDist (None, 48, 1024)          0         \n",
      "_________________________________________________________________\n",
      "lstm (LSTM)                  (None, 48, 48)            206016    \n",
      "_________________________________________________________________\n",
      "lstm_1 (LSTM)                (None, 48, 48)            18624     \n",
      "_________________________________________________________________\n",
      "dropout_1 (Dropout)          (None, 48, 48)            0         \n",
      "_________________________________________________________________\n",
      "time_distributed_6 (TimeDist (None, 48, 48)            2352      \n",
      "_________________________________________________________________\n",
      "flatten_1 (Flatten)          (None, 2304)              0         \n",
      "_________________________________________________________________\n",
      "dense_2 (Dense)              (None, 8)                 18440     \n",
      "_________________________________________________________________\n",
      "activation (Activation)      (None, 8)                 0         \n",
      "=================================================================\n",
      "Total params: 10,955,960\n",
      "Trainable params: 10,955,960\n",
      "Non-trainable params: 0\n",
      "_________________________________________________________________\n"
     ]
    }
   ],
   "source": [
    "cascade_model.summary()"
   ]
  },
  {
   "cell_type": "code",
   "execution_count": 11,
   "metadata": {},
   "outputs": [],
   "source": [
    "from numpy.lib.stride_tricks import as_strided\n",
    "\n",
    "def sliding_window(a, w = 4, o = 2, copy = False):\n",
    "    sh = (a.size - w + 1, w)\n",
    "    st = a.strides * 2\n",
    "    view = np.lib.stride_tricks.as_strided(a, strides = st, shape = sh)[0::o]\n",
    "    if copy:\n",
    "        return view.copy()\n",
    "    else:\n",
    "        return view"
   ]
  },
  {
   "cell_type": "code",
   "execution_count": 12,
   "metadata": {},
   "outputs": [
    {
     "data": {
      "text/plain": [
       "(16, 48)"
      ]
     },
     "execution_count": 12,
     "metadata": {},
     "output_type": "execute_result"
    }
   ],
   "source": [
    "num_epochs = 100\n",
    "\n",
    "a = np.arange(769)\n",
    "b = sliding_window(a, S, S)\n",
    "c = b.flatten()\n",
    "\n",
    "b.shape"
   ]
  },
  {
   "cell_type": "code",
   "execution_count": 13,
   "metadata": {},
   "outputs": [],
   "source": [
    "batch_gen = generate_batch(ME_db, seq_perms, 4, False, [1,7])"
   ]
  },
  {
   "cell_type": "code",
   "execution_count": 48,
   "metadata": {},
   "outputs": [],
   "source": [
    "output_seq, labels = next(batch_gen)"
   ]
  },
  {
   "cell_type": "code",
   "execution_count": 32,
   "metadata": {},
   "outputs": [
    {
     "name": "stdout",
     "output_type": "stream",
     "text": [
      "Epoch 1/10\n",
      "128/128 [==============================] - 1s 10ms/step - loss: 1.0972 - accuracy: 0.4688\n",
      "Epoch 2/10\n",
      "128/128 [==============================] - 1s 10ms/step - loss: 0.7049 - accuracy: 0.5078\n",
      "Epoch 3/10\n",
      "128/128 [==============================] - 1s 10ms/step - loss: 0.7143 - accuracy: 0.4922\n",
      "Epoch 4/10\n",
      "128/128 [==============================] - 1s 10ms/step - loss: 0.7131 - accuracy: 0.4531\n",
      "Epoch 5/10\n",
      "128/128 [==============================] - 1s 10ms/step - loss: 0.7105 - accuracy: 0.4766\n",
      "Epoch 6/10\n",
      "128/128 [==============================] - 1s 10ms/step - loss: 0.7098 - accuracy: 0.5000\n",
      "Epoch 7/10\n",
      "128/128 [==============================] - 1s 10ms/step - loss: 0.7077 - accuracy: 0.4531\n",
      "Epoch 8/10\n",
      "128/128 [==============================] - 1s 10ms/step - loss: 0.7197 - accuracy: 0.4766\n",
      "Epoch 9/10\n",
      "128/128 [==============================] - 1s 10ms/step - loss: 0.6942 - accuracy: 0.5391\n",
      "Epoch 10/10\n",
      "128/128 [==============================] - 1s 10ms/step - loss: 0.7048 - accuracy: 0.5000\n"
     ]
    },
    {
     "data": {
      "text/plain": [
       "<tensorflow.python.keras.callbacks.History at 0x7f2274e2bc88>"
      ]
     },
     "execution_count": 32,
     "metadata": {},
     "output_type": "execute_result"
    }
   ],
   "source": [
    "\n",
    "\n",
    "inputs = np.zeros((len(output_seq), len(c), 9, 9))\n",
    "targets = np.zeros((len(output_seq), len(c)//S))\n",
    "for i in range(len(output_seq)):\n",
    "    s = output_seq[i][c]\n",
    "    s = s/(np.max(s) - np.min(s))\n",
    "    inputs[i] = s\n",
    "    targets[i,:] = labels[i]\n",
    "\n",
    "\n",
    "# targets.shape\n",
    "inputs = inputs.reshape((8*b.shape[0], S, 9, 9))\n",
    "inputs = np.expand_dims(inputs, axis=-1)\n",
    "# targets = to_categorical(targets, dtype='uint8')\n",
    "cascade_model.fit(inputs, to_categorical(targets.flatten()), batch_size=1, epochs=10)"
   ]
  },
  {
   "cell_type": "code",
   "execution_count": 64,
   "metadata": {},
   "outputs": [
    {
     "name": "stdout",
     "output_type": "stream",
     "text": [
      "[1 1 1 1 7 7 7 7]\n",
      "2346.1571828025153\n"
     ]
    },
    {
     "ename": "AttributeError",
     "evalue": "'Figure' object has no attribute 'imshow'",
     "output_type": "error",
     "traceback": [
      "\u001b[0;31m---------------------------------------------------------------------------\u001b[0m",
      "\u001b[0;31mAttributeError\u001b[0m                            Traceback (most recent call last)",
      "\u001b[0;32m<ipython-input-64-d30b03922eb6>\u001b[0m in \u001b[0;36m<module>\u001b[0;34m\u001b[0m\n\u001b[1;32m     11\u001b[0m \u001b[0mfig1\u001b[0m \u001b[0;34m=\u001b[0m \u001b[0mplt\u001b[0m\u001b[0;34m.\u001b[0m\u001b[0mfigure\u001b[0m\u001b[0;34m(\u001b[0m\u001b[0;36m1\u001b[0m\u001b[0;34m)\u001b[0m\u001b[0;34m\u001b[0m\u001b[0;34m\u001b[0m\u001b[0m\n\u001b[1;32m     12\u001b[0m \u001b[0mfig2\u001b[0m \u001b[0;34m=\u001b[0m \u001b[0mplt\u001b[0m\u001b[0;34m.\u001b[0m\u001b[0mfigure\u001b[0m\u001b[0;34m(\u001b[0m\u001b[0;36m2\u001b[0m\u001b[0;34m)\u001b[0m\u001b[0;34m\u001b[0m\u001b[0;34m\u001b[0m\u001b[0m\n\u001b[0;32m---> 13\u001b[0;31m \u001b[0mfig1\u001b[0m\u001b[0;34m.\u001b[0m\u001b[0mimshow\u001b[0m\u001b[0;34m(\u001b[0m\u001b[0moutput_seq\u001b[0m\u001b[0;34m[\u001b[0m\u001b[0mntrial\u001b[0m\u001b[0;34m]\u001b[0m\u001b[0;34m[\u001b[0m\u001b[0mframe\u001b[0m\u001b[0;34m]\u001b[0m\u001b[0;34m)\u001b[0m\u001b[0;34m\u001b[0m\u001b[0;34m\u001b[0m\u001b[0m\n\u001b[0m\u001b[1;32m     14\u001b[0m \u001b[0mfig2\u001b[0m\u001b[0;34m.\u001b[0m\u001b[0mplot\u001b[0m\u001b[0;34m(\u001b[0m\u001b[0moutput_seq\u001b[0m\u001b[0;34m[\u001b[0m\u001b[0mntrial\u001b[0m\u001b[0;34m,\u001b[0m \u001b[0;34m:\u001b[0m\u001b[0;34m,\u001b[0m \u001b[0;34m:\u001b[0m\u001b[0;34m]\u001b[0m\u001b[0;34m.\u001b[0m\u001b[0mreshape\u001b[0m\u001b[0;34m(\u001b[0m\u001b[0;34m(\u001b[0m\u001b[0;36m769\u001b[0m\u001b[0;34m,\u001b[0m \u001b[0;36m81\u001b[0m\u001b[0;34m)\u001b[0m\u001b[0;34m)\u001b[0m\u001b[0;34m)\u001b[0m\u001b[0;34m\u001b[0m\u001b[0;34m\u001b[0m\u001b[0m\n",
      "\u001b[0;31mAttributeError\u001b[0m: 'Figure' object has no attribute 'imshow'"
     ]
    },
    {
     "data": {
      "text/plain": [
       "<Figure size 432x288 with 0 Axes>"
      ]
     },
     "metadata": {},
     "output_type": "display_data"
    },
    {
     "data": {
      "text/plain": [
       "<Figure size 432x288 with 0 Axes>"
      ]
     },
     "metadata": {},
     "output_type": "display_data"
    }
   ],
   "source": [
    "import matplotlib.pyplot as plt\n",
    "from matplotlib.animation import FuncAnimation\n",
    "\n",
    "print(labels)\n",
    "\n",
    "ntrial = 4\n",
    "frame = 1\n",
    "diff = np.max(output_seq[ntrial][frame]) - np.min(output_seq[ntrial][frame])\n",
    "print(diff)\n",
    "\n",
    "fig1 = plt.figure(1)\n",
    "fig2 = plt.figure(2)\n",
    "fig1.imshow(output_seq[ntrial][frame])\n",
    "fig2.plot(output_seq[ntrial, :, :].reshape((769, 81)))"
   ]
  },
  {
   "cell_type": "code",
   "execution_count": 17,
   "metadata": {
    "scrolled": true
   },
   "outputs": [],
   "source": [
    "\n",
    "\n",
    "# inputs = np.zeros((len(output_seq), len(c), 9, 9))\n",
    "# targets = np.zeros((len(output_seq), len(c)//S))\n",
    "\n",
    "# t1 = time.time()\n",
    "\n",
    "# for epoch in range(num_epochs):\n",
    "#     print(\"EPOCH %d\" %(epoch))\n",
    "#     batch_gen = generate_batch(ME_db, seq_perms, 4, True, [1,7])\n",
    "    \n",
    "#     for output_seq, labels in batch_gen:\n",
    "#         inputs = np.zeros((len(output_seq), len(c), 9, 9))\n",
    "#         targets = np.zeros((len(output_seq), len(c)//S))\n",
    "#         for i in range(len(output_seq)):\n",
    "#             inputs[i] = output_seq[i][c]/np.max(output_seq[i][c])\n",
    "#             targets[i,:] = labels[i]\n",
    "\n",
    "\n",
    "#         # targets.shape\n",
    "#         inputs = inputs.reshape((8*b.shape[0], S, 9, 9))\n",
    "#         inputs = np.expand_dims(inputs, axis=-1)\n",
    "#         # targets = to_categorical(targets, dtype='uint8')\n",
    "#         cascade_model.fit(inputs, to_categorical(targets.flatten()), batch_size=inputs.shape[0]//8, epochs=10)\n",
    "        \n",
    "# print('Time in total:', time.time()-t1)\n"
   ]
  },
  {
   "cell_type": "code",
   "execution_count": null,
   "metadata": {},
   "outputs": [],
   "source": []
  },
  {
   "cell_type": "code",
   "execution_count": null,
   "metadata": {},
   "outputs": [],
   "source": []
  },
  {
   "cell_type": "code",
   "execution_count": null,
   "metadata": {},
   "outputs": [],
   "source": []
  },
  {
   "cell_type": "code",
   "execution_count": 18,
   "metadata": {},
   "outputs": [
    {
     "name": "stdout",
     "output_type": "stream",
     "text": [
      "[[ 0.06434825 -0.07697313]]\n"
     ]
    },
    {
     "data": {
      "text/plain": [
       "<tensorflow.python.keras.engine.training.Model at 0x7f21f32aac18>"
      ]
     },
     "execution_count": 18,
     "metadata": {},
     "output_type": "execute_result"
    }
   ],
   "source": [
    "inputs1 = layers.Input(shape=(2, 3))\n",
    "lstm1, state_h, state_c = layers.LSTM(2, return_sequences=True, return_state=True)(inputs1)\n",
    "model = models.Model(inputs=inputs1, outputs=[state_h])\n",
    "# define input data\n",
    "data = np.array([[0.1, 0.2, 0.3], [0.1, 0.2, 0.3]]).reshape((1,2,3))\n",
    "# make and show prediction\n",
    "print(model.predict(data))\n",
    "model"
   ]
  }
 ],
 "metadata": {
  "kernelspec": {
   "display_name": "Python 3",
   "language": "python",
   "name": "python3"
  },
  "language_info": {
   "codemirror_mode": {
    "name": "ipython",
    "version": 3
   },
   "file_extension": ".py",
   "mimetype": "text/x-python",
   "name": "python",
   "nbconvert_exporter": "python",
   "pygments_lexer": "ipython3",
   "version": "3.6.9"
  }
 },
 "nbformat": 4,
 "nbformat_minor": 4
}
