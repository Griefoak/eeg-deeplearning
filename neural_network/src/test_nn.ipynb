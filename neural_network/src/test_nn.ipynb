{
 "cells": [
  {
   "cell_type": "code",
   "execution_count": 1,
   "metadata": {},
   "outputs": [],
   "source": [
    "import numpy as np\n",
    "import scipy as sp\n",
    "import tensorflow as tf\n",
    "import tensorflow.keras as keras\n",
    "import matplotlib.pyplot as plt"
   ]
  },
  {
   "cell_type": "code",
   "execution_count": 2,
   "metadata": {},
   "outputs": [],
   "source": [
    "from tensorflow.keras import optimizers\n",
    "from tensorflow.keras import models\n",
    "from tensorflow.keras import layers\n",
    "from tensorflow.keras import losses\n",
    "from tensorflow.keras import metrics"
   ]
  },
  {
   "cell_type": "code",
   "execution_count": 3,
   "metadata": {},
   "outputs": [],
   "source": [
    "import time\n",
    "import os\n",
    "import sys\n",
    "import pickle\n",
    "from minibatch import *"
   ]
  },
  {
   "cell_type": "code",
   "execution_count": 4,
   "metadata": {},
   "outputs": [],
   "source": [
    "physical_devices = tf.config.list_physical_devices('GPU')\n",
    "tf.config.experimental.set_memory_growth(physical_devices[0], enable=True)"
   ]
  },
  {
   "cell_type": "code",
   "execution_count": 5,
   "metadata": {},
   "outputs": [
    {
     "name": "stdout",
     "output_type": "stream",
     "text": [
      "Loaded ME database in 8.854981 s\n",
      "(10, 11)\n"
     ]
    }
   ],
   "source": [
    "db_dir = \"/home/sweet/2-coursework/725bmes/eeg_deeplearning/data_extraction/src\"\n",
    "ME_db_fname = \"mesh_ME_db.pickle\"\n",
    "# MI_db_fname = \"prelim_MI_db.pickle\"\n",
    "\n",
    "ME_db = {}\n",
    "# MI_db = {}\n",
    "\n",
    "\n",
    "t1 = time.time()\n",
    "with open(db_dir + \"/\" + ME_db_fname, \"rb\") as f:\n",
    "    ME_db = pickle.load(f)\n",
    "print(\"Loaded ME database in %f s\" % (time.time()-t1))\n",
    "\n",
    "np.random.seed(0)\n",
    "seq_perms = create_rand_seq_permutations(ME_db)\n",
    "np.random.seed(0)\n",
    "batch_gen = generate_batch(ME_db, seq_perms, 4)\n",
    "output_seq, labels = next(batch_gen)\n",
    "print(output_seq[0][0].shape)"
   ]
  },
  {
   "cell_type": "code",
   "execution_count": 6,
   "metadata": {},
   "outputs": [],
   "source": [
    "def build_conv2d(inputs, filters, kernel_size, strides=(1, 1), padding='same', activation=None, name=None, reuse=None):\n",
    "    return tf.layers.conv2d(inputs=inputs, filters=filters, kernel_size=kernel_size, strides=strides, padding=padding, activation=activation,\n",
    "                kernel_initializer=tf.truncated_normal_initializer(stddev=0.1), bias_initializer=tf.constant_initializer(0.1), name=name, reuse=reuse)"
   ]
  },
  {
   "cell_type": "code",
   "execution_count": 134,
   "metadata": {
    "scrolled": false
   },
   "outputs": [],
   "source": [
    "def create_CNN_stack(nstack):\n",
    "    input_layer = layers.Input(shape=(10,11,1))\n",
    "    conv2d_L1 = layers.Conv2D(32, 3, activation=\"relu\", padding=\"same\", \n",
    "                              name=\"CNN_layer1\"+\"_\"+str(nstack))(input_layer)\n",
    "    conv2d_L2 = layers.Conv2D(64, 3, activation=\"relu\", padding=\"same\", \n",
    "                              name=\"CNN_layer2\"+\"_\"+str(nstack))(conv2d_L1)\n",
    "    conv2d_L3 = layers.Conv2D(128, 3, activation=\"relu\", padding=\"same\", \n",
    "                              name=\"CNN_layer3\"+\"_\"+str(nstack))(conv2d_L2)\n",
    "    flat = layers.Flatten()(conv2d_L3)\n",
    "    dense = layers.Dense(1024, activation=\"relu\", name=\"CNN_FC\"+\"_\"+str(nstack))(flat)\n",
    "    output_layer = layers.Dropout(dropout_rate, name=\"CNN_drop\"+\"_\"+str(nstack))(dense)\n",
    "\n",
    "    return input_layer, output_layer\n",
    "\n",
    "def create_model_cascade():\n",
    "    input_layers = []\n",
    "    cnn_outputs = []\n",
    "\n",
    "    for i in range(S):\n",
    "        inp, out = create_CNN_stack(i)\n",
    "        input_layers.append(inp)\n",
    "        cnn_outputs.append(out)\n",
    "\n",
    "    cnn_stack_model = models.Model(inputs=input_layers, outputs=cnn_outputs)\n",
    "\n",
    "    concat_CNN_ouputs = layers.concatenate(cnn_stack_model.outputs)\n",
    "    concat_CNN_ouputs = layers.Reshape((h_states_lstm, cnn_stack_model.outputs[0].shape[1]//h_states_lstm))(concat_CNN_ouputs)\n",
    "\n",
    "    lstm1 = layers.LSTM(S, return_sequences=True, name=\"LSTM_1\")(concat_CNN_ouputs)\n",
    "    lstm2 = layers.LSTM(S, return_sequences=True, dropout=dropout_rate, name=\"LSTM_2\")(lstm1)\n",
    "    final_output = layers.Dense(K, activation=\"softmax\", name=\"FC_softmax\")(lstm2[:,:,-1])\n",
    "\n",
    "    cascade_model = models.Model(inputs=input_layers, outputs=[final_output])\n",
    "    \n",
    "    return cascade_model"
   ]
  },
  {
   "cell_type": "code",
   "execution_count": 137,
   "metadata": {},
   "outputs": [
    {
     "name": "stdout",
     "output_type": "stream",
     "text": [
      "Model: \"model_30\"\n",
      "__________________________________________________________________________________________________\n",
      "Layer (type)                    Output Shape         Param #     Connected to                     \n",
      "==================================================================================================\n",
      "input_74 (InputLayer)           [(None, 10, 11, 1)]  0                                            \n",
      "__________________________________________________________________________________________________\n",
      "input_75 (InputLayer)           [(None, 10, 11, 1)]  0                                            \n",
      "__________________________________________________________________________________________________\n",
      "CNN_layer1_0 (Conv2D)           (None, 10, 11, 32)   320         input_74[0][0]                   \n",
      "__________________________________________________________________________________________________\n",
      "CNN_layer1_1 (Conv2D)           (None, 10, 11, 32)   320         input_75[0][0]                   \n",
      "__________________________________________________________________________________________________\n",
      "CNN_layer2_0 (Conv2D)           (None, 10, 11, 64)   18496       CNN_layer1_0[0][0]               \n",
      "__________________________________________________________________________________________________\n",
      "CNN_layer2_1 (Conv2D)           (None, 10, 11, 64)   18496       CNN_layer1_1[0][0]               \n",
      "__________________________________________________________________________________________________\n",
      "CNN_layer3_0 (Conv2D)           (None, 10, 11, 128)  73856       CNN_layer2_0[0][0]               \n",
      "__________________________________________________________________________________________________\n",
      "CNN_layer3_1 (Conv2D)           (None, 10, 11, 128)  73856       CNN_layer2_1[0][0]               \n",
      "__________________________________________________________________________________________________\n",
      "flatten_62 (Flatten)            (None, 14080)        0           CNN_layer3_0[0][0]               \n",
      "__________________________________________________________________________________________________\n",
      "flatten_63 (Flatten)            (None, 14080)        0           CNN_layer3_1[0][0]               \n",
      "__________________________________________________________________________________________________\n",
      "CNN_FC_0 (Dense)                (None, 1024)         14418944    flatten_62[0][0]                 \n",
      "__________________________________________________________________________________________________\n",
      "CNN_FC_1 (Dense)                (None, 1024)         14418944    flatten_63[0][0]                 \n",
      "__________________________________________________________________________________________________\n",
      "CNN_drop_0 (Dropout)            (None, 1024)         0           CNN_FC_0[0][0]                   \n",
      "__________________________________________________________________________________________________\n",
      "CNN_drop_1 (Dropout)            (None, 1024)         0           CNN_FC_1[0][0]                   \n",
      "__________________________________________________________________________________________________\n",
      "concatenate_26 (Concatenate)    (None, 2048)         0           CNN_drop_0[0][0]                 \n",
      "                                                                 CNN_drop_1[0][0]                 \n",
      "__________________________________________________________________________________________________\n",
      "reshape_19 (Reshape)            (None, 64, 16)       0           concatenate_26[0][0]             \n",
      "__________________________________________________________________________________________________\n",
      "LSTM_1 (LSTM)                   (None, 64, 2)        152         reshape_19[0][0]                 \n",
      "__________________________________________________________________________________________________\n",
      "LSTM_2 (LSTM)                   (None, 64, 2)        40          LSTM_1[0][0]                     \n",
      "__________________________________________________________________________________________________\n",
      "tf_op_layer_strided_slice_19 (T [(None, 64)]         0           LSTM_2[0][0]                     \n",
      "__________________________________________________________________________________________________\n",
      "FC_softmax (Dense)              (None, 7)            455         tf_op_layer_strided_slice_19[0][0\n",
      "==================================================================================================\n",
      "Total params: 29,023,879\n",
      "Trainable params: 29,023,879\n",
      "Non-trainable params: 0\n",
      "__________________________________________________________________________________________________\n"
     ]
    }
   ],
   "source": [
    "S = 2    # S = number of images\n",
    "K = 7    # K = number of classes\n",
    "h_states_lstm = 64\n",
    "dropout_rate = 0.5\n",
    "\n",
    "cascade_model = create_model_cascade()\n",
    "cascade_model.summary()"
   ]
  },
  {
   "cell_type": "code",
   "execution_count": null,
   "metadata": {},
   "outputs": [],
   "source": []
  },
  {
   "cell_type": "code",
   "execution_count": null,
   "metadata": {},
   "outputs": [],
   "source": []
  },
  {
   "cell_type": "code",
   "execution_count": null,
   "metadata": {},
   "outputs": [],
   "source": []
  },
  {
   "cell_type": "code",
   "execution_count": 136,
   "metadata": {},
   "outputs": [],
   "source": [
    "# inputs1 = layers.Input(shape=(3, 1))\n",
    "# lstm1, state_h, state_c = layers.LSTM(1, return_sequences=True, return_state=True)(inputs1)\n",
    "# model = models.Model(inputs=inputs1, outputs=[state_h])\n",
    "# # define input data\n",
    "# data = np.array([0.1, 0.2, 0.3]).reshape((1,3,1))\n",
    "# # make and show prediction\n",
    "# print(model.predict(data))"
   ]
  }
 ],
 "metadata": {
  "kernelspec": {
   "display_name": "Python 3",
   "language": "python",
   "name": "python3"
  },
  "language_info": {
   "codemirror_mode": {
    "name": "ipython",
    "version": 3
   },
   "file_extension": ".py",
   "mimetype": "text/x-python",
   "name": "python",
   "nbconvert_exporter": "python",
   "pygments_lexer": "ipython3",
   "version": "3.6.9"
  }
 },
 "nbformat": 4,
 "nbformat_minor": 4
}
